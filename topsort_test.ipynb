{
 "cells": [
  {
   "cell_type": "code",
   "execution_count": 184,
   "metadata": {
    "collapsed": true
   },
   "outputs": [],
   "source": [
    "import enum\n",
    "\n",
    "FGNodeType = enum.Enum('FGNodeType','component libraryfunction librarymethod input output assignment literal unknown')\n",
    "\n",
    "class FGNode(object):\n",
    "  def __init__(self, nodeid, nodetype, ref=None, inputs=[]):\n",
    "    self.nodeid = nodeid\n",
    "    self.type = nodetype\n",
    "    self.ref = ref\n",
    "    self.inputs = inputs\n",
    "  def __repr__(self):\n",
    "    return '<'+str(self.type)+' '+str(self.nodeid)+'<='+','.join(map(str,self.inputs))+' : '+str(self.ref)+'>'\n",
    "\n",
    "class Flowgraph(object):\n",
    "  def __init__(self, name='?'):\n",
    "    self.name = name\n",
    "    self.variables = {} # { str -> nodeid }\n",
    "    self.nodes = {} # { nodeid -> Node }\n",
    "    self.inputs = [] # [ nodeid, ... ]\n",
    "    self.outputs = [] # [ nodeid, ... ]\n",
    "    self._id_counter = 0\n",
    "\n",
    "  def new_node(self,nodetype,ref=None):\n",
    "    nid = '@N'+str(self._id_counter)\n",
    "    self._id_counter += 1\n",
    "    node = FGNode(nid, nodetype, ref, [])\n",
    "    self.nodes[nid] = node\n",
    "    return node\n",
    "\n",
    "  def get_var(self, name):\n",
    "    return self.variables.get(name, None)\n",
    "\n",
    "  def set_var(self, name, nodeid):\n",
    "    self.variables[name] = nodeid\n",
    "\n",
    "  def add_input(self, nodeid):\n",
    "    self.inputs.append(nodeid)\n",
    "\n",
    "  def add_output(self, nodeid):\n",
    "    self.outputs.append(nodeid)\n",
    "\n",
    "  def dotfile(self):\n",
    "    s = ''\n",
    "    s+= 'digraph '+self.name+' {\\n'\n",
    "    for (src,node) in self.nodes.items():\n",
    "      for dst in node.inputs:\n",
    "        s+= '  \"'+str(dst)+'\" -> \"'+str(src)+'\"\\n'\n",
    "    for (var,nid) in self.variables.items():\n",
    "      s+= '  \"'+str(nid)+'\" [ label = \"'+str(var)+'\" ]\\n'\n",
    "    for nid in self.inputs:\n",
    "      s+= '  \"'+str(nid)+'\" [ color = \"green\" ]\\n'\n",
    "    for nid in self.outputs:\n",
    "      s+= '  \"'+str(nid)+'\" [ color = \"red\" ]\\n'\n",
    "    s+= '}\\n'\n",
    "    return s\n",
    "    \n",
    "\n",
    "  def pre(self, nodeid):\n",
    "    return self.nodes[nodeid].inputs\n",
    "\n",
    "  def post(self, nodeid):\n",
    "    return [i for (i,n) in self.nodes.items() if nodeid in self.nodes[i].inputs]\n",
    "\n",
    "  def visit(self, L, nodelist, n, tempmark):\n",
    "    # helper function for topological sort\n",
    "    # inputs are the list containing sorted nodes, the list of unmarked nodes,\n",
    "    # the selected node n to visit (still in the list of unmarked nodes),\n",
    "    # and a list of temporarily marked nodes\n",
    "    # implement DFS, see Wikipedia: https://en.wikipedia.org/wiki/Topological_sorting\n",
    "    \n",
    "    if n in tempmark:\n",
    "        # if n has a temporary mark then stop (not a DAG)\n",
    "        print(\"WARNING: NOT A DAG\", n)\n",
    "        return\n",
    "    \n",
    "    if n in L:\n",
    "        return  # do nothing\n",
    "    \n",
    "    # if n is not marked (i.e. has not been visited yet) then\n",
    "    #   mark n temporarily\n",
    "    #   for each node m with an edge from n to m do\n",
    "    #        visit(m)\n",
    "    #   mark n permanently\n",
    "    #   unmark n temporarily\n",
    "    #   add n to head of L\n",
    "    \n",
    "    tempmark.append(n)  \n",
    "    \n",
    "    for m in self.nodes[n].inputs:\n",
    "        self.visit(L, nodelist, m, tempmark)\n",
    "\n",
    "    # print(\"L\", L)\n",
    "    L.append(n)  # assume if node in L, n is marked as visited\n",
    "    tempmark.remove(n)\n",
    "    nodelist.remove(n)\n",
    "\n",
    "    return\n",
    "\n",
    "  def topological_sort(self):\n",
    "    # (was TODO :) implement a topological sort\n",
    "    # Reference Graphs lecture: https://github.com/iacs-cs207/cs207/blob/master/lectures/Graphs.ipynb (DFS)\n",
    "    # implement DFS, see Wikipedia: https://en.wikipedia.org/wiki/Topological_sorting\n",
    "    \n",
    "    L = []  # (initially) empty list that will contain the sorted nodes\n",
    "    \n",
    "    nodelist = list(self.nodes.keys())  # unmarked nodes \n",
    "    # print(\"nodelist\", nodelist)\n",
    "    tempmark = []  # temporarily marked nodes\n",
    "\n",
    "    while len(nodelist) > 0:  # while there are unmarked nodes, do\n",
    "        unmarkednode = nodelist[0]  # select an unmarked node n\n",
    "        self.visit(L, nodelist, unmarkednode, tempmark)  # visit n\n",
    "    \n",
    "    # print L  # pre-reverse, like in slides\n",
    "    L.reverse()\n",
    "    return L # should return a list of node ids in sorted order # Bob wants inputs before outputs\n",
    "\n",
    "class FGIR(object):\n",
    "  def __init__(self):\n",
    "    self.graphs = {} # { component_name:str => Flowgraph }\n",
    "\n",
    "  def __getitem__(self, component):\n",
    "    return self.graphs[component]\n",
    "\n",
    "  def __setitem__(self, component, flowgraph):\n",
    "    self.graphs[component] = flowgraph\n",
    "\n",
    "  def __iter__(self):\n",
    "    for component in self.graphs:\n",
    "      yield component\n",
    "\n",
    "  def flowgraph_pass(self, flowgraph_optimizer):\n",
    "    for component in self.graphs:\n",
    "      fg = flowgraph_optimizer.visit(self.graphs[component])\n",
    "      if fg is not None:\n",
    "        self.graphs[component] = fg\n",
    "\n",
    "  def node_pass(self, node_optimizer, *args, topological=False):\n",
    "    for component in self.graphs:\n",
    "      fg = self.graphs[component]\n",
    "      if topological:\n",
    "        node_order = fg.topological_sort()\n",
    "      else:\n",
    "        node_order = fg.nodes.keys()\n",
    "      for node in node_order:\n",
    "        n = node_optimizer.visit(fg.nodes[node])\n",
    "        if n is not None:\n",
    "          fg.nodes[node] = n\n",
    "\n",
    "  def topological_node_pass(self, topo_optimizer):\n",
    "    self.node_pass(topo_optimizer, topological=True)"
   ]
  },
  {
   "cell_type": "code",
   "execution_count": 185,
   "metadata": {
    "collapsed": true
   },
   "outputs": [],
   "source": [
    "FG = Flowgraph(\"standardize\")"
   ]
  },
  {
   "cell_type": "code",
   "execution_count": 186,
   "metadata": {
    "collapsed": false
   },
   "outputs": [],
   "source": [
    "a = FG.new_node(FGNodeType.unknown, None)\n",
    "b = FG.new_node(FGNodeType.unknown, 1)\n",
    "c = FG.new_node(FGNodeType.unknown, 2)\n",
    "d = FG.new_node(FGNodeType.unknown, 3)"
   ]
  },
  {
   "cell_type": "code",
   "execution_count": 187,
   "metadata": {
    "collapsed": false
   },
   "outputs": [
    {
     "name": "stdout",
     "output_type": "stream",
     "text": [
      "<FGNodeType.unknown @N0<= : None> <FGNodeType.unknown @N1<= : 1> <FGNodeType.unknown @N2<= : 2> <FGNodeType.unknown @N3<= : 3>\n"
     ]
    }
   ],
   "source": [
    "print(a, b, c, d)"
   ]
  },
  {
   "cell_type": "code",
   "execution_count": 188,
   "metadata": {
    "collapsed": false
   },
   "outputs": [],
   "source": [
    "FG.add_input(\"@N0\")\n",
    "# FG.add_input(\"@N1\")\n",
    "# FG.add_input(\"@N2\")\n",
    "FG.add_output(\"@N3\")"
   ]
  },
  {
   "cell_type": "code",
   "execution_count": 189,
   "metadata": {
    "collapsed": true
   },
   "outputs": [],
   "source": [
    "# i don't know how to set these without accessing the node input list directly\n",
    "a.inputs = [\"@N2\"]\n",
    "b.inputs = [\"@N3\"]\n",
    "c.inputs = [\"@N3\"]"
   ]
  },
  {
   "cell_type": "code",
   "execution_count": 190,
   "metadata": {
    "collapsed": false
   },
   "outputs": [
    {
     "name": "stdout",
     "output_type": "stream",
     "text": [
      "<FGNodeType.unknown @N0<=@N2 : None> <FGNodeType.unknown @N1<=@N3 : 1> <FGNodeType.unknown @N2<=@N3 : 2> <FGNodeType.unknown @N3<= : 3>\n"
     ]
    }
   ],
   "source": [
    "print(a, b, c, d)"
   ]
  },
  {
   "cell_type": "code",
   "execution_count": 191,
   "metadata": {
    "collapsed": false
   },
   "outputs": [
    {
     "name": "stdout",
     "output_type": "stream",
     "text": [
      "['@N1', '@N0', '@N2', '@N3']\n"
     ]
    }
   ],
   "source": [
    "print(FG.topological_sort())"
   ]
  },
  {
   "cell_type": "code",
   "execution_count": 192,
   "metadata": {
    "collapsed": false
   },
   "outputs": [
    {
     "name": "stdout",
     "output_type": "stream",
     "text": [
      "digraph standardize {\n",
      "  \"@N3\" -> \"@N2\"\n",
      "  \"@N2\" -> \"@N0\"\n",
      "  \"@N3\" -> \"@N1\"\n",
      "  \"@N0\" [ color = \"green\" ]\n",
      "  \"@N3\" [ color = \"red\" ]\n",
      "}\n",
      "\n"
     ]
    }
   ],
   "source": [
    "print(FG.dotfile())\n",
    "# can stick in graphviz for visual: http://www.webgraphviz.com"
   ]
  },
  {
   "cell_type": "code",
   "execution_count": 193,
   "metadata": {
    "collapsed": false
   },
   "outputs": [
    {
     "data": {
      "text/plain": [
       "['@N1', '@N0', '@N2', '@N3']"
      ]
     },
     "execution_count": 193,
     "metadata": {},
     "output_type": "execute_result"
    }
   ],
   "source": [
    "FG.topological_sort()"
   ]
  },
  {
   "cell_type": "code",
   "execution_count": null,
   "metadata": {
    "collapsed": true
   },
   "outputs": [],
   "source": []
  }
 ],
 "metadata": {
  "kernelspec": {
   "display_name": "Python 3",
   "language": "python",
   "name": "python3"
  },
  "language_info": {
   "codemirror_mode": {
    "name": "ipython",
    "version": 3
   },
   "file_extension": ".py",
   "mimetype": "text/x-python",
   "name": "python",
   "nbconvert_exporter": "python",
   "pygments_lexer": "ipython3",
   "version": "3.5.1"
  }
 },
 "nbformat": 4,
 "nbformat_minor": 0
}
