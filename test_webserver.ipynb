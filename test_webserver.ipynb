{
 "cells": [
  {
   "cell_type": "code",
   "execution_count": 56,
   "metadata": {
    "collapsed": false
   },
   "outputs": [],
   "source": [
    "import requests\n",
    "import numpy as np\n",
    "import timeseries as ts\n",
    "from tsdb import *\n",
    "from scipy.stats import norm\n",
    "import json"
   ]
  },
  {
   "cell_type": "code",
   "execution_count": 8,
   "metadata": {
    "collapsed": true
   },
   "outputs": [],
   "source": [
    "def tsmaker(m, s, j):\n",
    "    \"returns metadata and a time series in the shape of a jittered normal\"\n",
    "    meta={}\n",
    "    meta['order'] = int(np.random.choice([-5, -4, -3, -2, -1, 0, 1, 2, 3, 4, 5]))\n",
    "    meta['blarg'] = int(np.random.choice([1, 2]))\n",
    "    t = np.arange(0.0, 1.0, 0.01)\n",
    "    v = norm.pdf(t, m, s) + j*np.random.randn(100)\n",
    "    return meta, ts.TimeSeries(t, v)\n"
   ]
  },
  {
   "cell_type": "code",
   "execution_count": 45,
   "metadata": {
    "collapsed": false
   },
   "outputs": [],
   "source": [
    "meta, ts_ = tsmaker(1, 0.4, 0.2)"
   ]
  },
  {
   "cell_type": "code",
   "execution_count": 54,
   "metadata": {
    "collapsed": true
   },
   "outputs": [],
   "source": [
    "def request_insert(pk, ts):\n",
    "    payload = {'primary_key': pk, 'ts': ts.to_json()}\n",
    "    r = requests.post(\"http://127.0.0.1:8080/tsdb/insert_ts\", data=json.dumps(payload))\n",
    "    \n",
    "def request_upsert_meta(pk, meta):\n",
    "    payload = {'primary_key': pk, 'md':meta}\n",
    "    r = requests.post(\"http://127.0.0.1:8080/tsdb/upsert_meta\", data=json.dumps(payload))\n",
    "\n",
    "def request_select(md={}, fields=None, additional=None):\n",
    "    payload = {'md':md, 'fields': fields, 'additional': additional}\n",
    "    r = requests.get(\"http://127.0.0.1:8080/tsdb/select\", data=json.dumps(payload))\n",
    "    \n",
    "def request_augmented_select(proc, target, md={}, arg=None, additional=None):\n",
    "    payload = {'proc':proc, 'target': target, 'md':md, 'arg': arg, 'additional': additional}\n",
    "    r = requests.get(\"http://127.0.0.1:8080/tsdb/augmented_select\", data=json.dumps(payload))\n",
    "    \n",
    "def request_add_trigger(proc, target, onwhat, arg=None):\n",
    "    payload = {'proc':proc, 'target': target, 'arg': arg}\n",
    "    r = requests.post(\"http://127.0.0.1:8080/tsdb/add_trigger\", data=json.dumps(payload))\n",
    "    \n",
    "def request_remove_trigger(proc, onwhat):\n",
    "    payload = {'proc':proc, 'target': target, 'arg': arg}\n",
    "    r = requests.post(\"http://127.0.0.1:8080/tsdb/remove_trigger\", data=json.dumps(payload))\n",
    "    "
   ]
  },
  {
   "cell_type": "code",
   "execution_count": 85,
   "metadata": {
    "collapsed": true
   },
   "outputs": [],
   "source": [
    "# With TSBOp\n",
    "def request_insert(pk, ts):\n",
    "    msg = TSDBOp_InsertTS(pk, ts).to_json()\n",
    "    requests.post(\"http://127.0.0.1:8080/tsdb/insert_ts\", data=json.dumps(msg))\n",
    "\n",
    "def request_upsert_meta(pk, meta):\n",
    "    msg = TSDBOp_UpsertMeta(pk, meta).to_json()\n",
    "    r = requests.post(\"http://127.0.0.1:8080/tsdb/upsert_meta\", data=json.dumps(msg))\n",
    "\n",
    "def request_select(md={}, fields=None, additional=None):\n",
    "    msg = TSDBOp_Select(md, fields, additional).to_json()\n",
    "    r = requests.get(\"http://127.0.0.1:8080/tsdb/select\", data=json.dumps(msg))\n",
    "    return json.loads(r.text, object_pairs_hook=OrderedDict)\n",
    "    \n",
    "def request_augmented_select(proc, target, md={}, arg=None, additional=None):\n",
    "    msg = TSDBOp_AugmentedSelect(proc, target, arg, md, additional).to_json()\n",
    "    r = requests.get(\"http://127.0.0.1:8080/tsdb/augmented_select\", data=json.dumps(msg))\n",
    "    return json.loads(r.text, object_pairs_hook=OrderedDict)\n",
    "    \n",
    "def request_add_trigger(proc, target, onwhat, arg=None):\n",
    "    msg = TSDBOp_AddTrigger(proc, onwhat, target, arg).to_json()\n",
    "    r = requests.post(\"http://127.0.0.1:8080/tsdb/add_trigger\", data=json.dumps(msg))\n",
    "    \n",
    "def request_remove_trigger(proc, onwhat):\n",
    "    msg = TSDBOp_RemoveTrigger(proc, onwhat).to_json()\n",
    "    r = requests.post(\"http://127.0.0.1:8080/tsdb/remove_trigger\", data=json.dumps(msg))\n",
    "    "
   ]
  },
  {
   "cell_type": "code",
   "execution_count": 80,
   "metadata": {
    "collapsed": false
   },
   "outputs": [
    {
     "name": "stdout",
     "output_type": "stream",
     "text": [
      "-----------\n",
      "-----------\n"
     ]
    }
   ],
   "source": [
    "request_insert('pk_1', ts_)\n",
    "request_upsert_meta('pk_1', meta)"
   ]
  },
  {
   "cell_type": "code",
   "execution_count": 81,
   "metadata": {
    "collapsed": false
   },
   "outputs": [
    {
     "name": "stdout",
     "output_type": "stream",
     "text": [
      "-----------\n"
     ]
    }
   ],
   "source": [
    "r = request_select()"
   ]
  },
  {
   "cell_type": "code",
   "execution_count": 82,
   "metadata": {
    "collapsed": false
   },
   "outputs": [
    {
     "data": {
      "text/plain": [
       "'{\"pk_1\": {}}'"
      ]
     },
     "execution_count": 82,
     "metadata": {},
     "output_type": "execute_result"
    }
   ],
   "source": [
    "r.text"
   ]
  },
  {
   "cell_type": "code",
   "execution_count": 83,
   "metadata": {
    "collapsed": true
   },
   "outputs": [],
   "source": [
    "obj = json.loads(r.text, object_pairs_hook=OrderedDict)"
   ]
  },
  {
   "cell_type": "code",
   "execution_count": 84,
   "metadata": {
    "collapsed": false
   },
   "outputs": [
    {
     "data": {
      "text/plain": [
       "OrderedDict([('pk_1', OrderedDict())])"
      ]
     },
     "execution_count": 84,
     "metadata": {},
     "output_type": "execute_result"
    }
   ],
   "source": [
    "obj"
   ]
  },
  {
   "cell_type": "code",
   "execution_count": null,
   "metadata": {
    "collapsed": true
   },
   "outputs": [],
   "source": []
  }
 ],
 "metadata": {
  "kernelspec": {
   "display_name": "Python 3",
   "language": "python",
   "name": "python3"
  },
  "language_info": {
   "codemirror_mode": {
    "name": "ipython",
    "version": 3
   },
   "file_extension": ".py",
   "mimetype": "text/x-python",
   "name": "python",
   "nbconvert_exporter": "python",
   "pygments_lexer": "ipython3",
   "version": "3.5.1"
  }
 },
 "nbformat": 4,
 "nbformat_minor": 0
}
