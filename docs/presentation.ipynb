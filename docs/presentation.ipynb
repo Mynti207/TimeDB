{
 "cells": [
  {
   "cell_type": "code",
   "execution_count": 1,
   "metadata": {
    "collapsed": true,
    "slideshow": {
     "slide_type": "skip"
    }
   },
   "outputs": [],
   "source": [
    "import sys # for gioia to load aiohttp\n",
    "sys.path.append('/Users/maggiori/anaconda/envs/py35/lib/python3.5/site-packages')"
   ]
  },
  {
   "cell_type": "code",
   "execution_count": 2,
   "metadata": {
    "collapsed": true,
    "slideshow": {
     "slide_type": "skip"
    }
   },
   "outputs": [],
   "source": [
    "# to import modules locally without having installed the entire package\n",
    "# http://stackoverflow.com/questions/714063/importing-modules-from-parent-folder\n",
    "import os, sys, inspect\n",
    "currentdir = os.path.dirname(os.path.abspath(inspect.getfile(inspect.currentframe())))\n",
    "parentdir = os.path.dirname(currentdir)\n",
    "sys.path.insert(0, parentdir) "
   ]
  },
  {
   "cell_type": "code",
   "execution_count": 3,
   "metadata": {
    "collapsed": true,
    "slideshow": {
     "slide_type": "skip"
    }
   },
   "outputs": [],
   "source": [
    "import subprocess\n",
    "import numpy as np\n",
    "from scipy.stats import norm\n",
    "import json\n",
    "import matplotlib.pyplot as plt\n",
    "%matplotlib inline\n",
    "import seaborn as sns\n",
    "sns.set_style('white')\n",
    "sns.set_context('notebook')"
   ]
  },
  {
   "cell_type": "code",
   "execution_count": 15,
   "metadata": {
    "collapsed": false,
    "slideshow": {
     "slide_type": "skip"
    }
   },
   "outputs": [
    {
     "data": {
      "text/plain": [
       "{'start_slideshow_at': 'selected', 'theme': 'serif', 'transition': 'zoom'}"
      ]
     },
     "execution_count": 15,
     "metadata": {},
     "output_type": "execute_result"
    }
   ],
   "source": [
    "from notebook.services.config import ConfigManager\n",
    "cm = ConfigManager()\n",
    "cm.update('livereveal', {\n",
    "              'theme': 'serif',\n",
    "              'transition': 'zoom',\n",
    "              'start_slideshow_at': 'selected',\n",
    "})"
   ]
  },
  {
   "cell_type": "markdown",
   "metadata": {
    "slideshow": {
     "slide_type": "slide"
    }
   },
   "source": [
    "# Stock Market Similarity Searches: Daily Prices\n",
    "\n",
    "We have provided a year of daily closing prices for 379 S&P 500 stocks. We have explicitly excluded stocks with incomplete or missing data.\n",
    "\n",
    "Data source: <a href='www.stockwiz.com'>www.stockwiz.com</a>"
   ]
  },
  {
   "cell_type": "markdown",
   "metadata": {
    "slideshow": {
     "slide_type": "slide"
    }
   },
   "source": [
    "### Database Initialization\n",
    "\n",
    "Let's start by initializing all the database components."
   ]
  },
  {
   "cell_type": "code",
   "execution_count": 4,
   "metadata": {
    "collapsed": false,
    "slideshow": {
     "slide_type": "fragment"
    }
   },
   "outputs": [
    {
     "name": "stderr",
     "output_type": "stream",
     "text": [
      "Generating LALR tables\n"
     ]
    }
   ],
   "source": [
    "# load the database server\n",
    "server = subprocess.Popen(['python', '../go_server.py'])\n",
    "\n",
    "# load the database webserver\n",
    "webserver = subprocess.Popen(['python', '../go_webserver.py'])\n",
    "\n",
    "# import the web interface and initialize it\n",
    "from webserver import *\n",
    "web_interface = WebInterface()"
   ]
  },
  {
   "cell_type": "markdown",
   "metadata": {
    "slideshow": {
     "slide_type": "slide"
    }
   },
   "source": [
    "### Stock Data Initialization\n",
    "\n",
    "Now that the database is up and running, let's import the `timeseries` package and load the stock data. We will exclude a few stocks, which we will use later in our similarity searches."
   ]
  },
  {
   "cell_type": "code",
   "execution_count": 5,
   "metadata": {
    "collapsed": false,
    "slideshow": {
     "slide_type": "slide"
    }
   },
   "outputs": [],
   "source": [
    "from timeseries import *\n",
    "\n",
    "# load data\n",
    "with open('data/prices.json') as f:    \n",
    "    stock_data = json.load(f)\n",
    "    \n",
    "# keep track of the stock tickers\n",
    "stocks = sorted(list(stock_data.keys()))\n",
    "num_stocks = len(stocks)\n",
    "\n",
    "# check the number of market days in the year\n",
    "num_days = len(stock_data[stocks[0]])\n",
    "\n",
    "# randomly pick stocks to exclude - we'll use these for similarity searches\n",
    "stocks_exclude = np.random.choice(stocks, size=29, replace=False)\n",
    "stocks_include = [s for s in stocks if s not in stocks_exclude]\n",
    "\n",
    "# insert into database\n",
    "for stock in stocks_include:\n",
    "    web_interface.insert_ts(pk=stock, ts=TimeSeries(range(num_days), stock_data[stock]))"
   ]
  },
  {
   "cell_type": "markdown",
   "metadata": {
    "slideshow": {
     "slide_type": "slide"
    }
   },
   "source": [
    "Let's look at the first 10 stocks, to check that the data has been inserted correctly."
   ]
  },
  {
   "cell_type": "code",
   "execution_count": 6,
   "metadata": {
    "collapsed": false,
    "scrolled": true,
    "slideshow": {
     "slide_type": "slide"
    }
   },
   "outputs": [
    {
     "data": {
      "text/plain": [
       "OrderedDict([('A', OrderedDict([('pk', 'A')])),\n",
       "             ('AA', OrderedDict([('pk', 'AA')])),\n",
       "             ('ABC', OrderedDict([('pk', 'ABC')])),\n",
       "             ('ABT', OrderedDict([('pk', 'ABT')])),\n",
       "             ('ADI', OrderedDict([('pk', 'ADI')])),\n",
       "             ('ADM', OrderedDict([('pk', 'ADM')])),\n",
       "             ('AEE', OrderedDict([('pk', 'AEE')])),\n",
       "             ('AEP', OrderedDict([('pk', 'AEP')])),\n",
       "             ('AES', OrderedDict([('pk', 'AES')])),\n",
       "             ('AET', OrderedDict([('pk', 'AET')]))])"
      ]
     },
     "execution_count": 6,
     "metadata": {},
     "output_type": "execute_result"
    }
   ],
   "source": [
    "# let's look at the first 10 stocks\n",
    "web_interface.select(fields=[], additional={'sort_by': '+pk', 'limit': 10})"
   ]
  },
  {
   "cell_type": "markdown",
   "metadata": {
    "slideshow": {
     "slide_type": "slide"
    }
   },
   "source": [
    "### Vantage Point Search\n",
    "\n",
    "We need to initialize vantage points in order to carry out a vantage point search. Let's randomly pick 30 of the 379 stocks as vantage points, and mark them in the database."
   ]
  },
  {
   "cell_type": "code",
   "execution_count": 7,
   "metadata": {
    "collapsed": false,
    "slideshow": {
     "slide_type": "slide"
    }
   },
   "outputs": [],
   "source": [
    "# randomly pick vantage points\n",
    "num_vps = 30\n",
    "random_vps = np.random.choice(range(num_stocks), size=num_vps, replace=False)\n",
    "vpkeys = [stocks[s] for s in random_vps if stocks[s] in stocks_include]\n",
    "\n",
    "# mark in database\n",
    "for vp in vpkeys:\n",
    "    web_interface.insert_vp(vp)"
   ]
  },
  {
   "cell_type": "code",
   "execution_count": 16,
   "metadata": {
    "collapsed": false,
    "slideshow": {
     "slide_type": "slide"
    }
   },
   "outputs": [
    {
     "name": "stdout",
     "output_type": "stream",
     "text": [
      "Stock: MMM\n",
      "Most similar stock: TE\n"
     ]
    }
   ],
   "source": [
    "# pick the stock\n",
    "stock = np.random.choice(stocks_exclude)\n",
    "print('Stock:', stock)\n",
    "\n",
    "# run the vantage point similarity search\n",
    "result = web_interface.vp_similarity_search(TimeSeries(range(num_days), stock_data[stock]), 1)\n",
    "print('Most similar stock:', list(result)[0])"
   ]
  },
  {
   "cell_type": "code",
   "execution_count": 17,
   "metadata": {
    "collapsed": false,
    "slideshow": {
     "slide_type": "slide"
    }
   },
   "outputs": [
    {
     "data": {
      "image/png": "[encoded data removed]",
      "text/plain": [
       "<matplotlib.figure.Figure at 0x10e780898>"
      ]
     },
     "metadata": {},
     "output_type": "display_data"
    }
   ],
   "source": [
    "# visualize similarity\n",
    "plt.plot(stock_data[stock], label='Query:' + stock)\n",
    "plt.plot(stock_data[list(result)[0]], label='Result:' + list(result)[0])\n",
    "plt.xticks([])\n",
    "plt.legend(loc='best')\n",
    "plt.title('Daily Stock Return Similarity')\n",
    "plt.show()"
   ]
  },
  {
   "cell_type": "markdown",
   "metadata": {
    "slideshow": {
     "slide_type": "slide"
    }
   },
   "source": [
    "### iSAX Tree Search\n",
    "\n",
    "Let's pick a random stock to carry out an iSAX tree similarity search. Note that this is an approximate search technique, so it will not always be able to find a similar stock."
   ]
  },
  {
   "cell_type": "code",
   "execution_count": 18,
   "metadata": {
    "collapsed": false,
    "slideshow": {
     "slide_type": "slide"
    }
   },
   "outputs": [
    {
     "name": "stdout",
     "output_type": "stream",
     "text": [
      "Stock: FDO\n",
      "Most similar stock: PGR\n"
     ]
    }
   ],
   "source": [
    "# pick the stock\n",
    "stock = np.random.choice(stocks_exclude)\n",
    "print('Stock:', stock)\n",
    "\n",
    "# run the isax tree similarity search\n",
    "result = web_interface.isax_similarity_search(TimeSeries(range(num_days), stock_data[stock]))\n",
    "\n",
    "if result == 'ERROR: NO_MATCH':\n",
    "    print('Could not find a similar stock.')\n",
    "else:\n",
    "    print('Most similar stock:', list(result)[0])"
   ]
  },
  {
   "cell_type": "code",
   "execution_count": 19,
   "metadata": {
    "collapsed": false,
    "slideshow": {
     "slide_type": "slide"
    }
   },
   "outputs": [
    {
     "data": {
      "image/png": "[encoded data removed]",
      "text/plain": [
       "<matplotlib.figure.Figure at 0x10e6ef400>"
      ]
     },
     "metadata": {},
     "output_type": "display_data"
    }
   ],
   "source": [
    "# visualize similarity\n",
    "if result != 'ERROR: NO_MATCH':\n",
    "    plt.plot(stock_data[stock], label='Query:' + stock)\n",
    "    plt.plot(stock_data[list(result)[0]], label='Result:' + list(result)[0])\n",
    "    plt.xticks([])\n",
    "    plt.legend(loc='best')\n",
    "    plt.title('Daily Stock Return Similarity')\n",
    "    plt.show()"
   ]
  },
  {
   "cell_type": "markdown",
   "metadata": {
    "slideshow": {
     "slide_type": "slide"
    }
   },
   "source": [
    "### Comparing Similarity Searches\n",
    "\n",
    "Let's pick another random stock, carry out both types of similarity searches, and compare the results."
   ]
  },
  {
   "cell_type": "code",
   "execution_count": null,
   "metadata": {
    "collapsed": false,
    "slideshow": {
     "slide_type": "slide"
    }
   },
   "outputs": [],
   "source": [
    "# pick the stock\n",
    "stock = np.random.choice(stocks_exclude)\n",
    "print('Stock:', stock)\n",
    "\n",
    "# run the vantage point similarity search\n",
    "result_vp = web_interface.vp_similarity_search(TimeSeries(range(num_days), stock_data[stock]), 1)\n",
    "print('VP search result:', list(result_vp)[0])\n",
    "\n",
    "# run the isax similarity search\n",
    "result_isax = web_interface.isax_similarity_search(TimeSeries(range(num_days), stock_data[stock]))\n",
    "\n",
    "# could not find an isax match\n",
    "if result_isax == 'ERROR: NO_MATCH':\n",
    "    print('iSAX search result: Could not find a similar stock.')\n",
    "\n",
    "# found a match\n",
    "else:\n",
    "    print('iSAX search result:', list(result_isax)[0])\n",
    "    \n",
    "    # visualize similarity\n",
    "    plt.plot(stock_data[stock], label='Query:' + stock)\n",
    "    plt.plot(stock_data[list(result_vp)[0]], label='VP Result:' + list(result_vp)[0])\n",
    "    plt.plot(stock_data[list(result_isax)[0]], label='iSAX Result:' + list(result_isax)[0])\n",
    "    plt.xticks([])\n",
    "    plt.legend(loc='best')\n",
    "    plt.title('Daily Stock Return Similarity')\n",
    "    plt.show()"
   ]
  },
  {
   "cell_type": "markdown",
   "metadata": {
    "slideshow": {
     "slide_type": "slide"
    }
   },
   "source": [
    "### iSAX Tree Representation\n",
    "\n",
    "Finally, let's visualize the iSAX tree. The clusters represent groups of \"similar\" stocks."
   ]
  },
  {
   "cell_type": "code",
   "execution_count": null,
   "metadata": {
    "collapsed": false,
    "scrolled": false,
    "slideshow": {
     "slide_type": "fragment"
    }
   },
   "outputs": [],
   "source": [
    "print(web_interface.isax_tree())"
   ]
  },
  {
   "cell_type": "markdown",
   "metadata": {
    "slideshow": {
     "slide_type": "skip"
    }
   },
   "source": [
    "### Termination\n",
    "\n",
    "Always remember to terminate any outstanding processes!"
   ]
  },
  {
   "cell_type": "code",
   "execution_count": null,
   "metadata": {
    "collapsed": true,
    "slideshow": {
     "slide_type": "skip"
    }
   },
   "outputs": [],
   "source": [
    "server.terminate()\n",
    "webserver.terminate()\n",
    "web_interface = None"
   ]
  }
 ],
 "metadata": {
  "celltoolbar": "Slideshow",
  "kernelspec": {
   "display_name": "Python 3",
   "language": "python",
   "name": "python3"
  },
  "language_info": {
   "codemirror_mode": {
    "name": "ipython",
    "version": 3
   },
   "file_extension": ".py",
   "mimetype": "text/x-python",
   "name": "python",
   "nbconvert_exporter": "python",
   "pygments_lexer": "ipython3",
   "version": "3.5.1"
  }
 },
 "nbformat": 4,
 "nbformat_minor": 0
}
