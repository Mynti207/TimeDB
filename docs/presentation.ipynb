{
 "cells": [
  {
   "cell_type": "code",
   "execution_count": 1,
   "metadata": {
    "collapsed": true,
    "slideshow": {
     "slide_type": "skip"
    }
   },
   "outputs": [],
   "source": [
    "import sys # for gioia to load aiohttp\n",
    "sys.path.append('/Users/maggiori/anaconda/envs/py35/lib/python3.5/site-packages')\n",
    "\n",
    "# to import modules locally without having installed the entire package\n",
    "# http://stackoverflow.com/questions/714063/importing-modules-from-parent-folder\n",
    "import os, sys, inspect\n",
    "currentdir = os.path.dirname(os.path.abspath(inspect.getfile(inspect.currentframe())))\n",
    "parentdir = os.path.dirname(currentdir)\n",
    "sys.path.insert(0, parentdir) \n",
    "\n",
    "import time\n",
    "import signal\n",
    "import subprocess\n",
    "import numpy as np\n",
    "from scipy.stats import norm\n",
    "import json\n",
    "import matplotlib.pyplot as plt\n",
    "%matplotlib inline\n",
    "import seaborn as sns\n",
    "sns.set_style('white')\n",
    "sns.set_context('notebook')"
   ]
  },
  {
   "cell_type": "code",
   "execution_count": 2,
   "metadata": {
    "collapsed": false,
    "slideshow": {
     "slide_type": "skip"
    }
   },
   "outputs": [
    {
     "name": "stderr",
     "output_type": "stream",
     "text": [
      "Generating LALR tables\n"
     ]
    }
   ],
   "source": [
    "from timeseries import *\n",
    "from webserver import *"
   ]
  },
  {
   "cell_type": "code",
   "execution_count": 3,
   "metadata": {
    "collapsed": true,
    "slideshow": {
     "slide_type": "skip"
    }
   },
   "outputs": [],
   "source": [
    "def tsmaker(m, s, j):\n",
    "    '''\n",
    "    Helper function: randomly generates a time series for testing.\n",
    "\n",
    "    Parameters\n",
    "    ----------\n",
    "    m : float\n",
    "        Mean value for generating time series data\n",
    "    s : float\n",
    "        Standard deviation value for generating time series data\n",
    "    j : float\n",
    "        Quantifies the \"jitter\" to add to the time series data\n",
    "\n",
    "    Returns\n",
    "    -------\n",
    "    A time series and associated meta data.\n",
    "    '''\n",
    "\n",
    "    # generate metadata\n",
    "    meta = {}\n",
    "    meta['order'] = int(np.random.choice(\n",
    "        [-5, -4, -3, -2, -1, 0, 1, 2, 3, 4, 5]))\n",
    "    meta['blarg'] = int(np.random.choice([1, 2]))\n",
    "\n",
    "    # generate time series data\n",
    "    t = np.arange(0.0, 1.0, 0.01)\n",
    "    v = norm.pdf(t, m, s) + j * np.random.randn(ts_length)\n",
    "\n",
    "    # return time series and metadata\n",
    "    return meta, TimeSeries(t, v)"
   ]
  },
  {
   "cell_type": "code",
   "execution_count": 4,
   "metadata": {
    "collapsed": true,
    "slideshow": {
     "slide_type": "skip"
    }
   },
   "outputs": [],
   "source": [
    "# load stock data\n",
    "with open('data/prices_exclude.json') as f:    \n",
    "    stock_data_exclude = json.load(f)\n",
    "\n",
    "# keep track of which stocks are included/excluded from the database\n",
    "stocks_exclude = list(stock_data_exclude.keys())\n",
    "    \n",
    "# check the number of market days in the year\n",
    "num_days = len(stock_data_exclude[stocks_exclude[0]])"
   ]
  },
  {
   "cell_type": "markdown",
   "metadata": {
    "slideshow": {
     "slide_type": "slide"
    }
   },
   "source": [
    "# Time series database & similarity searches\n",
    "\n",
    "Gioia Dominedo  \n",
    "Nicolas Drizard  \n",
    "Kendrick Lo  "
   ]
  },
  {
   "cell_type": "markdown",
   "metadata": {
    "slideshow": {
     "slide_type": "slide"
    }
   },
   "source": [
    "## Persistence architecture"
   ]
  },
  {
   "cell_type": "markdown",
   "metadata": {
    "collapsed": true,
    "slideshow": {
     "slide_type": "subslide"
    }
   },
   "source": [
    "<img src='img/db_structure.png'>"
   ]
  },
  {
   "cell_type": "markdown",
   "metadata": {
    "slideshow": {
     "slide_type": "slide"
    }
   },
   "source": [
    "# Persistence demonstration"
   ]
  },
  {
   "cell_type": "markdown",
   "metadata": {
    "slideshow": {
     "slide_type": "subslide"
    }
   },
   "source": [
    "## Initialize file system"
   ]
  },
  {
   "cell_type": "code",
   "execution_count": 5,
   "metadata": {
    "collapsed": true,
    "slideshow": {
     "slide_type": "fragment"
    }
   },
   "outputs": [],
   "source": [
    "# database parameters\n",
    "ts_length = 100\n",
    "data_dir = '../db_files'\n",
    "db_name = 'default'\n",
    "dir_path = data_dir + '/' + db_name + '/'"
   ]
  },
  {
   "cell_type": "code",
   "execution_count": 6,
   "metadata": {
    "collapsed": true,
    "slideshow": {
     "slide_type": "fragment"
    }
   },
   "outputs": [],
   "source": [
    "# clear file system for testing\n",
    "if not os.path.exists(dir_path):\n",
    "    os.makedirs(dir_path)\n",
    "filelist = [dir_path + f for f in os.listdir(dir_path)]\n",
    "for f in filelist:\n",
    "    os.remove(f)"
   ]
  },
  {
   "cell_type": "markdown",
   "metadata": {
    "slideshow": {
     "slide_type": "subslide"
    }
   },
   "source": [
    "## Initialize database"
   ]
  },
  {
   "cell_type": "code",
   "execution_count": 7,
   "metadata": {
    "collapsed": true,
    "slideshow": {
     "slide_type": "fragment"
    }
   },
   "outputs": [],
   "source": [
    "# load the server\n",
    "server = subprocess.Popen(['python', '../go_server_persistent.py',\n",
    "                           '--ts_length', str(ts_length), '--data_dir', data_dir, '--db_name', db_name])\n",
    "time.sleep(5)  # make sure it loads completely\n",
    "\n",
    "# load the webserver\n",
    "webserver = subprocess.Popen(['python', '../go_webserver.py'])\n",
    "time.sleep(5)  # make sure it loads completely\n",
    "\n",
    "# initialize the web interface\n",
    "web_interface = WebInterface()"
   ]
  },
  {
   "cell_type": "code",
   "execution_count": 8,
   "metadata": {
    "collapsed": false,
    "slideshow": {
     "slide_type": "fragment"
    }
   },
   "outputs": [
    {
     "data": {
      "text/plain": [
       "OrderedDict()"
      ]
     },
     "execution_count": 8,
     "metadata": {},
     "output_type": "execute_result"
    }
   ],
   "source": [
    "# check that the database is empty\n",
    "web_interface.select()"
   ]
  },
  {
   "cell_type": "markdown",
   "metadata": {
    "slideshow": {
     "slide_type": "subslide"
    }
   },
   "source": [
    "## Generate data"
   ]
  },
  {
   "cell_type": "code",
   "execution_count": 9,
   "metadata": {
    "collapsed": true,
    "slideshow": {
     "slide_type": "fragment"
    }
   },
   "outputs": [],
   "source": [
    "# generate sample time series\n",
    "num_ts = 50\n",
    "mus = np.random.uniform(low=0.0, high=1.0, size=num_ts)\n",
    "sigs = np.random.uniform(low=0.05, high=0.4, size=num_ts)\n",
    "jits = np.random.uniform(low=0.05, high=0.2, size=num_ts)\n",
    "\n",
    "# initialize dictionaries for time series and their metadata\n",
    "primary_keys = []\n",
    "tsdict = {}\n",
    "metadict = {}\n",
    "\n",
    "# fill dictionaries with randomly generated entries for database\n",
    "for i, m, s, j in zip(range(num_ts), mus, sigs, jits):\n",
    "    meta, tsrs = tsmaker(m, s, j)  # generate data\n",
    "    pk = \"ts-{}\".format(i)  # generate primary key\n",
    "    primary_keys.append(pk) # keep track of all primary keys\n",
    "    tsdict[pk] = tsrs  # store time series data\n",
    "    metadict[pk] = meta  # store metadata\n",
    "    \n",
    "# to assist with later testing\n",
    "ts_keys = sorted(tsdict.keys())\n",
    "    \n",
    "# randomly choose time series as vantage points\n",
    "num_vps = 5\n",
    "vpkeys = list(np.random.choice(ts_keys, size=num_vps, replace=False))\n",
    "vpdist = ['d_vp_{}'.format(i) for i in vpkeys]"
   ]
  },
  {
   "cell_type": "markdown",
   "metadata": {
    "slideshow": {
     "slide_type": "subslide"
    }
   },
   "source": [
    "## Insert data"
   ]
  },
  {
   "cell_type": "code",
   "execution_count": 10,
   "metadata": {
    "collapsed": true,
    "slideshow": {
     "slide_type": "fragment"
    }
   },
   "outputs": [],
   "source": [
    "# add stats trigger\n",
    "web_interface.add_trigger('stats', 'insert_ts', ['mean', 'std'], None)\n",
    "\n",
    "# insert the time series\n",
    "for k in tsdict:\n",
    "    web_interface.insert_ts(k, tsdict[k])\n",
    "    \n",
    "# upsert the metadata\n",
    "for k in tsdict:\n",
    "    web_interface.upsert_meta(k, metadict[k])\n",
    "    \n",
    "# add the vantage points\n",
    "for i in range(num_vps):\n",
    "    web_interface.insert_vp(vpkeys[i])"
   ]
  },
  {
   "cell_type": "markdown",
   "metadata": {
    "slideshow": {
     "slide_type": "subslide"
    }
   },
   "source": [
    "## Inspect data"
   ]
  },
  {
   "cell_type": "markdown",
   "metadata": {
    "slideshow": {
     "slide_type": "subslide"
    }
   },
   "source": [
    "### Are all the entries there?"
   ]
  },
  {
   "cell_type": "code",
   "execution_count": 11,
   "metadata": {
    "collapsed": true,
    "slideshow": {
     "slide_type": "fragment"
    }
   },
   "outputs": [],
   "source": [
    "# select all database entries; all metadata fields\n",
    "results = web_interface.select(fields=[])\n",
    "\n",
    "# we have the right number of database entries\n",
    "assert len(results) == num_ts\n",
    "\n",
    "# we have all the right primary keys\n",
    "assert sorted(results.keys()) == ts_keys"
   ]
  },
  {
   "cell_type": "markdown",
   "metadata": {
    "slideshow": {
     "slide_type": "subslide"
    }
   },
   "source": [
    "### Does the data match?"
   ]
  },
  {
   "cell_type": "code",
   "execution_count": 12,
   "metadata": {
    "collapsed": true,
    "slideshow": {
     "slide_type": "fragment"
    }
   },
   "outputs": [],
   "source": [
    "# check that all the time series and metadata matches\n",
    "for k in tsdict:\n",
    "    results = web_interface.select(fields=['ts'], md={'pk': k})\n",
    "    assert results[k]['ts'] == tsdict[k]\n",
    "    results = web_interface.select(fields=[], md={'pk': k})\n",
    "    for field in metadict[k]:\n",
    "        assert metadict[k][field] == results[k][field]"
   ]
  },
  {
   "cell_type": "markdown",
   "metadata": {
    "slideshow": {
     "slide_type": "subslide"
    }
   },
   "source": [
    "### Did the triggers work?"
   ]
  },
  {
   "cell_type": "code",
   "execution_count": 13,
   "metadata": {
    "collapsed": true,
    "slideshow": {
     "slide_type": "fragment"
    }
   },
   "outputs": [],
   "source": [
    "# check that the trigger has executed as expected (allowing for rounding errors)\n",
    "for k in tsdict:\n",
    "    results = web_interface.select(fields=['mean', 'std'], md={'pk': k})\n",
    "    assert np.round(results[k]['mean'], 4) == np.round(tsdict[k].mean(), 4)\n",
    "    assert np.round(results[k]['std'], 4) == np.round(tsdict[k].std(), 4)"
   ]
  },
  {
   "cell_type": "markdown",
   "metadata": {
    "slideshow": {
     "slide_type": "subslide"
    }
   },
   "source": [
    "### Were the vantage points inserted?"
   ]
  },
  {
   "cell_type": "code",
   "execution_count": 14,
   "metadata": {
    "collapsed": false,
    "slideshow": {
     "slide_type": "fragment"
    }
   },
   "outputs": [
    {
     "name": "stdout",
     "output_type": "stream",
     "text": [
      "Vantage points selected: ['ts-38', 'ts-22', 'ts-23', 'ts-47', 'ts-35']\n",
      "Vantage points in database: odict_keys(['ts-22', 'ts-23', 'ts-35', 'ts-38', 'ts-47']) \n",
      "\n",
      "Vantage point distance fields: ['d_vp_ts-38', 'd_vp_ts-22', 'd_vp_ts-23', 'd_vp_ts-47', 'd_vp_ts-35']\n",
      "Vantage point distance example:\n",
      "OrderedDict([('ts-0', OrderedDict([('d_vp_ts-38', 0.4820992648601532), ('d_vp_ts-23', 0.4757295548915863), ('d_vp_ts-22', 0.7358911633491516), ('d_vp_ts-35', 0.847390353679657), ('d_vp_ts-47', 0.8995630145072937)]))])\n"
     ]
    }
   ],
   "source": [
    "# check that the vantage points match\n",
    "print('Vantage points selected:', vpkeys)\n",
    "print('Vantage points in database:',\n",
    "      web_interface.select(fields=None, md={'vp': True}, additional={'sort_by': '+pk'}).keys(), '\\n')\n",
    "\n",
    "# check that the vantage point distance fields have been created\n",
    "results = web_interface.select(fields=vpdist, additional={'sort_by': '+pk', 'limit': 1})\n",
    "print('Vantage point distance fields:', vpdist)\n",
    "print('Vantage point distance example:')\n",
    "print(results)"
   ]
  },
  {
   "cell_type": "markdown",
   "metadata": {
    "slideshow": {
     "slide_type": "subslide"
    }
   },
   "source": [
    "## Terminate database"
   ]
  },
  {
   "cell_type": "code",
   "execution_count": 15,
   "metadata": {
    "collapsed": true,
    "slideshow": {
     "slide_type": "fragment"
    }
   },
   "outputs": [],
   "source": [
    "os.kill(server.pid, signal.SIGINT)\n",
    "time.sleep(5)  # give it time to terminate\n",
    "os.kill(webserver.pid, signal.SIGINT)\n",
    "time.sleep(5)  # give it time to terminate\n",
    "web_interface = None"
   ]
  },
  {
   "cell_type": "markdown",
   "metadata": {
    "slideshow": {
     "slide_type": "subslide"
    }
   },
   "source": [
    "## Reload database"
   ]
  },
  {
   "cell_type": "code",
   "execution_count": 16,
   "metadata": {
    "collapsed": true,
    "slideshow": {
     "slide_type": "fragment"
    }
   },
   "outputs": [],
   "source": [
    "server = subprocess.Popen(['python', '../go_server_persistent.py',\n",
    "                           '--ts_length', str(ts_length), '--data_dir', data_dir, '--db_name', db_name])\n",
    "time.sleep(5)  # give it time to load fully\n",
    "webserver = subprocess.Popen(['python', '../go_webserver.py'])\n",
    "time.sleep(5)  # give it time to load fully\n",
    "web_interface = WebInterface()"
   ]
  },
  {
   "cell_type": "markdown",
   "metadata": {
    "slideshow": {
     "slide_type": "subslide"
    }
   },
   "source": [
    "## ... once more, with feeling!"
   ]
  },
  {
   "cell_type": "markdown",
   "metadata": {
    "slideshow": {
     "slide_type": "subslide"
    }
   },
   "source": [
    "### Are all the entries there?"
   ]
  },
  {
   "cell_type": "code",
   "execution_count": 17,
   "metadata": {
    "collapsed": true,
    "slideshow": {
     "slide_type": "fragment"
    }
   },
   "outputs": [],
   "source": [
    "# select all database entries; all metadata fields\n",
    "results = web_interface.select(fields=[])\n",
    "\n",
    "# we have the right number of database entries\n",
    "assert len(results) == num_ts\n",
    "\n",
    "# we have all the right primary keys\n",
    "assert sorted(results.keys()) == ts_keys"
   ]
  },
  {
   "cell_type": "markdown",
   "metadata": {
    "slideshow": {
     "slide_type": "subslide"
    }
   },
   "source": [
    "### Does the data match?"
   ]
  },
  {
   "cell_type": "code",
   "execution_count": 18,
   "metadata": {
    "collapsed": true,
    "slideshow": {
     "slide_type": "fragment"
    }
   },
   "outputs": [],
   "source": [
    "# check that all the time series and metadata matches\n",
    "for k in tsdict:\n",
    "    results = web_interface.select(fields=['ts'], md={'pk': k})\n",
    "    assert results[k]['ts'] == tsdict[k]\n",
    "    results = web_interface.select(fields=[], md={'pk': k})\n",
    "    for field in metadict[k]:\n",
    "        assert metadict[k][field] == results[k][field]"
   ]
  },
  {
   "cell_type": "markdown",
   "metadata": {
    "slideshow": {
     "slide_type": "subslide"
    }
   },
   "source": [
    "### Were the vantage points re-loaded?"
   ]
  },
  {
   "cell_type": "code",
   "execution_count": 19,
   "metadata": {
    "collapsed": false,
    "slideshow": {
     "slide_type": "fragment"
    }
   },
   "outputs": [
    {
     "name": "stdout",
     "output_type": "stream",
     "text": [
      "Vantage points selected: ['ts-38', 'ts-22', 'ts-23', 'ts-47', 'ts-35']\n",
      "Vantage points in database: odict_keys(['ts-22', 'ts-23', 'ts-35', 'ts-38', 'ts-47'])\n"
     ]
    }
   ],
   "source": [
    "# check that the vantage points match\n",
    "print('Vantage points selected:', vpkeys)\n",
    "print('Vantage points in database:',\n",
    "      web_interface.select(fields=None, md={'vp': True}, additional={'sort_by': '+pk'}).keys())"
   ]
  },
  {
   "cell_type": "markdown",
   "metadata": {
    "slideshow": {
     "slide_type": "subslide"
    }
   },
   "source": [
    "### Does the trigger still work?"
   ]
  },
  {
   "cell_type": "code",
   "execution_count": 20,
   "metadata": {
    "collapsed": false,
    "slideshow": {
     "slide_type": "fragment"
    }
   },
   "outputs": [
    {
     "data": {
      "text/plain": [
       "OrderedDict([('test',\n",
       "              OrderedDict([('mean', 0.5932886600494385),\n",
       "                           ('std', 0.8402645587921143)]))])"
      ]
     },
     "execution_count": 20,
     "metadata": {},
     "output_type": "execute_result"
    }
   ],
   "source": [
    "# check that the trigger is still there by loading new data\n",
    "\n",
    "# create test time series\n",
    "_, test = tsmaker(np.random.uniform(low=0.0, high=1.0),\n",
    "                  np.random.uniform(low=0.05, high=0.4),\n",
    "                  np.random.uniform(low=0.05, high=0.2))\n",
    "\n",
    "# insert test time series\n",
    "web_interface.insert_ts('test', test)\n",
    "\n",
    "# check that mean and standard deviation have been calculated\n",
    "web_interface.select(fields=['mean', 'std'], md={'pk': 'test'})"
   ]
  },
  {
   "cell_type": "markdown",
   "metadata": {
    "slideshow": {
     "slide_type": "subslide"
    }
   },
   "source": [
    "## Terminate database"
   ]
  },
  {
   "cell_type": "code",
   "execution_count": 21,
   "metadata": {
    "collapsed": true,
    "slideshow": {
     "slide_type": "fragment"
    }
   },
   "outputs": [],
   "source": [
    "# terminate processes before exiting\n",
    "os.kill(server.pid, signal.SIGINT)\n",
    "time.sleep(5)  # give it time to terminate\n",
    "web_interface = None\n",
    "webserver.terminate()"
   ]
  },
  {
   "cell_type": "markdown",
   "metadata": {
    "slideshow": {
     "slide_type": "slide"
    }
   },
   "source": [
    "## Additional Feature:  \n",
    "## iSAX Similarity Searches"
   ]
  },
  {
   "cell_type": "markdown",
   "metadata": {
    "slideshow": {
     "slide_type": "subslide"
    }
   },
   "source": [
    "* Time series T of length n can be converted into a SAX representation\n",
    "  * approximates T using a smaller number of segments (e.g. w=4)\n",
    "  * each segment is represented by a discrete number\n",
    "  * result is a SAX word (i.e. a vector) such as {11, 11, 01, 00}\n",
    "\n",
    "<img src='img/slide1.png'>"
   ]
  },
  {
   "cell_type": "markdown",
   "metadata": {
    "slideshow": {
     "slide_type": "subslide"
    }
   },
   "source": [
    "* SAX representation can be used as an index\n",
    "  * e.g. fixed cardinality of 8, word length of 4\n",
    "  * An example T may map to $\\{6^8, 6^8, 3^8, 0^8\\}$ \n",
    "    * data for all Ts that can be represented by this SAX word can be stored in the same text file on disk \u000b",
    "(e.g. with name **6.8_6.8_3.8_0.8.txt**)\n",
    "* **Problem**: storage imbalance\n",
    "* **Solution**: introduce a threshold for the number of time series that can be stored in a single file\n",
    "  * If an insertion would cause threshold to be exceeded, **split the file**"
   ]
  },
  {
   "cell_type": "markdown",
   "metadata": {
    "slideshow": {
     "slide_type": "subslide"
    }
   },
   "source": [
    "* The diagram below illustrates an iSAX index as a tree\n",
    "  * **root node**: represents complete SAX space\n",
    "  * **terminal node**: leaf node containing pointer to file on disk\n",
    "    * **SAX word** as index, contents are the actual time series data\n",
    "  * **internal node** (new): designates split in SAX space\n",
    "    * created when number of entries in a terminal node exceeds threshold\n",
    "\n",
    "<img src='img/slide3.png'>"
   ]
  },
  {
   "cell_type": "markdown",
   "metadata": {
    "slideshow": {
     "slide_type": "subslide"
    }
   },
   "source": [
    "* Observations:\n",
    "  * **binary** splits are along one dimension (sequentially) \n",
    "    * creates two new words of increased cardinality\n",
    "  * “new” node splitting policy (iSAX 2.0) purports to provide better balance by determining optimal dimension\n",
    "    * checks whether mean value is close to a breakpoint\n",
    "* However:\n",
    "  * balancing problems still exist\n",
    "  * no justification given for binary splits\n",
    "    * note that root is connected to multiple nodes\n"
   ]
  },
  {
   "cell_type": "markdown",
   "metadata": {
    "slideshow": {
     "slide_type": "subslide"
    }
   },
   "source": [
    "<img src='img/slide5.png'>"
   ]
  },
  {
   "cell_type": "markdown",
   "metadata": {
    "slideshow": {
     "slide_type": "subslide"
    }
   },
   "source": [
    "* We implemented iSAX tree as a “true” n-ary tree\n",
    "  * splits series in a “full” terminal node into up to ‘n’ terminal nodes all located at the same depth in the tree\n",
    "  * achieves better balance, faster traversals\n",
    "* Class methods:\n",
    "  * insert, delete, preorder (x2), similarity search (find_nbr)"
   ]
  },
  {
   "cell_type": "markdown",
   "metadata": {
    "slideshow": {
     "slide_type": "subslide"
    }
   },
   "source": [
    "* Similarity search is **“approximate”**\n",
    "  * intuition is that two similar time series are often  represented by the same iSAX word\n",
    "  * natural clustering\n",
    "  * “ties” broken by computing Euclidean distance (but only for neighbors)\n",
    "   * adjust for sparser nodes by implementing search for series with common parent\n",
    "\n",
    "<img src='img/slide7.png'>"
   ]
  },
  {
   "cell_type": "markdown",
   "metadata": {
    "slideshow": {
     "slide_type": "slide"
    }
   },
   "source": [
    "## Stock market example"
   ]
  },
  {
   "cell_type": "markdown",
   "metadata": {
    "slideshow": {
     "slide_type": "subslide"
    }
   },
   "source": [
    "### Here's one we prepared earlier..."
   ]
  },
  {
   "cell_type": "code",
   "execution_count": 22,
   "metadata": {
    "collapsed": false,
    "slideshow": {
     "slide_type": "fragment"
    }
   },
   "outputs": [],
   "source": [
    "# load the database server\n",
    "server = subprocess.Popen(['python', '../go_server_persistent.py',\n",
    "                           '--ts_length', str(num_days), '--data_dir', '../db_files', '--db_name', 'stock_prices'])\n",
    "time.sleep(5)  # make sure it loads completely\n",
    "\n",
    "# load the database webserver\n",
    "webserver = subprocess.Popen(['python', '../go_webserver.py'])\n",
    "time.sleep(5)  # make sure it loads completely\n",
    "\n",
    "# initialize the web interface\n",
    "web_interface = WebInterface()"
   ]
  },
  {
   "cell_type": "markdown",
   "metadata": {
    "slideshow": {
     "slide_type": "subslide"
    }
   },
   "source": [
    "### Is there any data?"
   ]
  },
  {
   "cell_type": "code",
   "execution_count": 23,
   "metadata": {
    "collapsed": false,
    "slideshow": {
     "slide_type": "fragment"
    }
   },
   "outputs": [
    {
     "data": {
      "text/plain": [
       "350"
      ]
     },
     "execution_count": 23,
     "metadata": {},
     "output_type": "execute_result"
    }
   ],
   "source": [
    "# number of stocks\n",
    "len(web_interface.select())"
   ]
  },
  {
   "cell_type": "markdown",
   "metadata": {
    "slideshow": {
     "slide_type": "subslide"
    }
   },
   "source": [
    "### What does it look like?"
   ]
  },
  {
   "cell_type": "code",
   "execution_count": 24,
   "metadata": {
    "collapsed": false,
    "slideshow": {
     "slide_type": "fragment"
    }
   },
   "outputs": [
    {
     "data": {
      "text/plain": [
       "OrderedDict([('A',\n",
       "              OrderedDict([('ts',\n",
       "                            TimeSeries(Length: 245 [25.55, ..., 28.56]))])),\n",
       "             ('AA',\n",
       "              OrderedDict([('ts',\n",
       "                            TimeSeries(Length: 245 [12.56, ..., 10.57]))])),\n",
       "             ('ABC',\n",
       "              OrderedDict([('ts',\n",
       "                            TimeSeries(Length: 245 [21.05, ..., 28.92]))])),\n",
       "             ('ABT',\n",
       "              OrderedDict([('ts',\n",
       "                            TimeSeries(Length: 245 [45.39, ..., 49.34]))])),\n",
       "             ('ADI',\n",
       "              OrderedDict([('ts',\n",
       "                            TimeSeries(Length: 245 [28.42, ..., 29.62]))])),\n",
       "             ('ADM',\n",
       "              OrderedDict([('ts',\n",
       "                            TimeSeries(Length: 245 [28.67, ..., 30.52]))])),\n",
       "             ('AEE',\n",
       "              OrderedDict([('ts',\n",
       "                            TimeSeries(Length: 245 [27.05, ..., 27.14]))])),\n",
       "             ('AEP',\n",
       "              OrderedDict([('ts',\n",
       "                            TimeSeries(Length: 245 [31.49, ..., 34.82]))])),\n",
       "             ('AES',\n",
       "              OrderedDict([('ts',\n",
       "                            TimeSeries(Length: 245 [14.26, ..., 10.4]))])),\n",
       "             ('AET',\n",
       "              OrderedDict([('ts',\n",
       "                            TimeSeries(Length: 245 [29.62, ..., 27.11]))]))])"
      ]
     },
     "execution_count": 24,
     "metadata": {},
     "output_type": "execute_result"
    }
   ],
   "source": [
    "# let's look at the first 10 stocks\n",
    "web_interface.select(fields=['ts'], additional={'sort_by': '+pk', 'limit': 10})"
   ]
  },
  {
   "cell_type": "markdown",
   "metadata": {
    "slideshow": {
     "slide_type": "subslide"
    }
   },
   "source": [
    "### Can we run a vantage point search?"
   ]
  },
  {
   "cell_type": "code",
   "execution_count": 25,
   "metadata": {
    "collapsed": false,
    "slideshow": {
     "slide_type": "fragment"
    }
   },
   "outputs": [
    {
     "name": "stdout",
     "output_type": "stream",
     "text": [
      "Stock: APC\n",
      "Most similar stock: CF\n"
     ]
    }
   ],
   "source": [
    "# pick a stock\n",
    "stock = np.random.choice(stocks_exclude)\n",
    "print('Stock:', stock)\n",
    "\n",
    "# run the vantage point similarity search\n",
    "result = web_interface.vp_similarity_search(TimeSeries(range(num_days), stock_data_exclude[stock]), 1)\n",
    "stock_match = list(result)[0]\n",
    "stock_ts = web_interface.select(fields=['ts'], md={'pk': stock_match})[stock_match]['ts']\n",
    "print('Most similar stock:', stock_match)"
   ]
  },
  {
   "cell_type": "markdown",
   "metadata": {
    "slideshow": {
     "slide_type": "subslide"
    }
   },
   "source": [
    "### How do the stocks compare?"
   ]
  },
  {
   "cell_type": "code",
   "execution_count": 26,
   "metadata": {
    "collapsed": false,
    "slideshow": {
     "slide_type": "fragment"
    }
   },
   "outputs": [
    {
     "data": {
      "image/png": "[encoded data removed]",
      "text/plain": [
       "<matplotlib.figure.Figure at 0x10e030588>"
      ]
     },
     "metadata": {},
     "output_type": "display_data"
    }
   ],
   "source": [
    "# visualize similarity\n",
    "plt.plot(stock_data_exclude[stock], label='Query:' + stock)\n",
    "plt.plot(stock_ts.values(), label='Result:' + stock_match)\n",
    "plt.xticks([])\n",
    "plt.legend(loc='best')\n",
    "plt.title('Daily Stock Price Similarity')\n",
    "plt.show()"
   ]
  },
  {
   "cell_type": "markdown",
   "metadata": {
    "slideshow": {
     "slide_type": "subslide"
    }
   },
   "source": [
    "### Can we run an iSAX tree similarity search?"
   ]
  },
  {
   "cell_type": "code",
   "execution_count": 27,
   "metadata": {
    "collapsed": false,
    "slideshow": {
     "slide_type": "fragment"
    }
   },
   "outputs": [
    {
     "name": "stdout",
     "output_type": "stream",
     "text": [
      "Stock: TMK\n",
      "Most similar stock: TJX\n"
     ]
    }
   ],
   "source": [
    "# pick the stock\n",
    "stock = np.random.choice(stocks_exclude)\n",
    "print('Stock:', stock)\n",
    "\n",
    "# run the isax tree similarity search\n",
    "result = web_interface.isax_similarity_search(TimeSeries(range(num_days), stock_data_exclude[stock]))\n",
    "\n",
    "if result == 'ERROR: NO_MATCH':\n",
    "    print('Could not find a similar stock.')\n",
    "else:\n",
    "    stock_match = list(result)[0]\n",
    "    stock_ts = web_interface.select(fields=['ts'], md={'pk': stock_match})[stock_match]['ts']\n",
    "    print('Most similar stock:', stock_match)"
   ]
  },
  {
   "cell_type": "markdown",
   "metadata": {
    "slideshow": {
     "slide_type": "subslide"
    }
   },
   "source": [
    "### How do the stocks compare?"
   ]
  },
  {
   "cell_type": "code",
   "execution_count": 28,
   "metadata": {
    "collapsed": false,
    "slideshow": {
     "slide_type": "fragment"
    }
   },
   "outputs": [
    {
     "data": {
      "image/png": "[encoded data removed]",
      "text/plain": [
       "<matplotlib.figure.Figure at 0x10e032470>"
      ]
     },
     "metadata": {},
     "output_type": "display_data"
    }
   ],
   "source": [
    "# visualize similarity\n",
    "plt.plot(stock_data_exclude[stock], label='Query:' + stock)\n",
    "plt.plot(stock_ts.values(), label='Result:' + stock_match)\n",
    "plt.xticks([])\n",
    "plt.legend(loc='best')\n",
    "plt.title('Daily Stock Price Similarity')\n",
    "plt.show()"
   ]
  },
  {
   "cell_type": "markdown",
   "metadata": {
    "slideshow": {
     "slide_type": "subslide"
    }
   },
   "source": [
    "### How do the methods compare?"
   ]
  },
  {
   "cell_type": "code",
   "execution_count": 29,
   "metadata": {
    "collapsed": false,
    "slideshow": {
     "slide_type": "fragment"
    }
   },
   "outputs": [
    {
     "name": "stdout",
     "output_type": "stream",
     "text": [
      "Stock: APC\n",
      "VP search result: CF\n",
      "iSAX search result: GIS\n"
     ]
    }
   ],
   "source": [
    "# pick the stock\n",
    "stock = np.random.choice(stocks_exclude)\n",
    "print('Stock:', stock)\n",
    "\n",
    "# run the vantage point similarity search\n",
    "result = web_interface.vp_similarity_search(TimeSeries(range(num_days), stock_data_exclude[stock]), 1)\n",
    "match_vp = list(result)[0]\n",
    "ts_vp = web_interface.select(fields=['ts'], md={'pk': match_vp})[match_vp]['ts']\n",
    "print('VP search result:', match_vp)\n",
    "\n",
    "# run the isax similarity search\n",
    "result = web_interface.isax_similarity_search(TimeSeries(range(num_days), stock_data_exclude[stock]))\n",
    "if result == 'ERROR: NO_MATCH':\n",
    "    print('iSAX search result: Could not find a similar stock.')\n",
    "else:\n",
    "    match_isax = list(result)[0]\n",
    "    ts_isax = web_interface.select(fields=['ts'], md={'pk': match_isax})[match_isax]['ts']\n",
    "    print('iSAX search result:', match_isax)"
   ]
  },
  {
   "cell_type": "markdown",
   "metadata": {
    "slideshow": {
     "slide_type": "subslide"
    }
   },
   "source": [
    "### Show me another graph!"
   ]
  },
  {
   "cell_type": "code",
   "execution_count": 30,
   "metadata": {
    "collapsed": false,
    "slideshow": {
     "slide_type": "fragment"
    }
   },
   "outputs": [
    {
     "data": {
      "image/png": "[encoded data removed]",
      "text/plain": [
       "<matplotlib.figure.Figure at 0x10816feb8>"
      ]
     },
     "metadata": {},
     "output_type": "display_data"
    }
   ],
   "source": [
    "# visualize similarity\n",
    "plt.plot(stock_data_exclude[stock], label='Query:' + stock)\n",
    "plt.plot(ts_vp.values(), label='Result:' + match_vp)\n",
    "plt.plot(ts_isax.values(), label='Result:' + match_isax)\n",
    "plt.xticks([])\n",
    "plt.legend(loc='best')\n",
    "plt.title('Daily Stock Price Similarity')\n",
    "plt.show()"
   ]
  },
  {
   "cell_type": "markdown",
   "metadata": {
    "slideshow": {
     "slide_type": "subslide"
    }
   },
   "source": [
    "### What is an iSAX tree, really?"
   ]
  },
  {
   "cell_type": "code",
   "execution_count": 31,
   "metadata": {
    "collapsed": false,
    "scrolled": false,
    "slideshow": {
     "slide_type": "fragment"
    }
   },
   "outputs": [
    {
     "name": "stdout",
     "output_type": "stream",
     "text": [
      "root\n",
      "--->['01', '00', '01', '11']: 0 []\n",
      "------>['011', '001', '011', '110']: 1 ['COG']\n",
      "------>['011', '000', '011', '111']: 1 ['PFE']\n",
      "------>['011', '001', '010', '111']: 5 ['AA', 'AKS', 'CF', 'CSC', 'KG']\n",
      "------>['010', '001', '011', '111']: 2 ['BAX', 'NOV']\n",
      "------>['011', '001', '011', '111']: 1 ['CNX']\n",
      "--->['11', '10', '01', '00']: 0 []\n",
      "------>['110', '101', '010', '001']: 5 ['BLL', 'CAT', 'EMC', 'MCK', 'RSG']\n",
      "------>['111', '100', '010', '001']: 5 ['ABC', 'D', 'EOG', 'RHT', 'WEC']\n",
      "------>['111', '101', '010', '000']: 2 ['AVB', 'TIE']\n",
      "------>['111', '101', '010', '001']: 0 []\n",
      "--------->['1110', '1010', '0100', '0010']: 0 []\n",
      "------------>['11101', '10101', '01000', '00100']: 1 ['Q']\n",
      "------------>['11100', '10100', '01000', '00101']: 2 ['HRL', 'MCD']\n",
      "------------>['11100', '10101', '01001', '00100']: 1 ['BF.B']\n",
      "------------>['11100', '10101', '01000', '00100']: 1 ['PXD']\n",
      "------------>['11101', '10100', '01001', '00100']: 1 ['VTR']\n",
      "--------->['1110', '1010', '0101', '0010']: 1 ['CPB']\n",
      "------>['110', '100', '010', '001']: 1 ['SO']\n",
      "------>['110', '101', '011', '000']: 2 ['AZO', 'NEM']\n",
      "------>['110', '101', '010', '000']: 2 ['CRM', 'TWC']\n",
      "--->['11', '10', '00', '00']: 0 []\n",
      "------>['111', '101', '001', '001']: 0 []\n",
      "--------->['1110', '1011', '0011', '0010']: 4 ['AIV', 'EQR', 'HAS', 'PSA']\n",
      "--------->['1110', '1010', '0010', '0011']: 3 ['LXK', 'VAR', 'WAT']\n",
      "--------->['1110', '1011', '0010', '0011']: 3 ['HOT', 'LTD', 'UNP']\n",
      "--------->['1110', '1010', '0011', '0010']: 3 ['CLX', 'SLE', 'VNO']\n",
      "------>['111', '100', '001', '001']: 0 []\n",
      "--------->['1110', '1001', '0011', '0011']: 3 ['HSP', 'MO', 'NU']\n",
      "--------->['1110', '1001', '0010', '0011']: 1 ['TEG']\n",
      "--------->['1110', '1001', '0011', '0010']: 3 ['MKC', 'SYY', 'WPI']\n",
      "--------->['1110', '1000', '0011', '0011']: 2 ['DE', 'DTE']\n",
      "------>['110', '101', '001', '001']: 5 ['BXP', 'CBG', 'GPC', 'MAR', 'NKE']\n",
      "--->['11', '01', '01', '01']: 0 []\n",
      "------>['111', '010', '010', '011']: 4 ['CNP', 'POM', 'SJM', 'UNH']\n",
      "------>['110', '010', '011', '011']: 3 ['ADI', 'CTL', 'PCG']\n",
      "------>['111', '011', '010', '010']: 4 ['CMS', 'PNW', 'TE', 'XEL']\n",
      "------>['111', '010', '010', '010']: 2 ['BMY', 'ED']\n",
      "------>['110', '011', '010', '011']: 1 ['SEE']\n",
      "--->['11', '10', '00', '01']: 0 []\n",
      "------>['111', '100', '001', '010']: 0 []\n",
      "--------->['1110', '1000', '0010', '0100']: 1 ['DVA']\n",
      "--------->['1110', '1001', '0010', '0100']: 0 []\n",
      "------------>['11101', '10010', '00100', '01000']: 1 ['EL']\n",
      "------------>['11100', '10010', '00101', '01001']: 1 ['COH']\n",
      "------------>['11101', '10011', '00101', '01000']: 1 ['GR']\n",
      "------------>['11101', '10010', '00100', '01001']: 1 ['HNZ']\n",
      "------------>['11100', '10011', '00101', '01000']: 1 ['PNC']\n",
      "------------>['11101', '10011', '00100', '01000']: 1 ['ATI']\n",
      "--------->['1110', '1000', '0011', '0100']: 2 ['LH', 'SCG']\n",
      "--------->['1110', '1001', '0010', '0101']: 3 ['CBS', 'DOV', 'EMR']\n",
      "--------->['1110', '1000', '0010', '0101']: 4 ['F', 'LUV', 'SNA', 'WYN']\n",
      "------>['110', '101', '000', '011']: 0 []\n",
      "--------->['1101', '1010', '0001', '0110']: 2 ['GNW', 'HON']\n",
      "--------->['1101', '1011', '0001', '0110']: 2 ['PH', 'TGT']\n",
      "--------->['1100', '1011', '0001', '0111']: 1 ['VFC']\n",
      "--------->['1100', '1010', '0001', '0111']: 1 ['XRX']\n",
      "--------->['1101', '1010', '0001', '0111']: 1 ['HD']\n",
      "------>['111', '100', '001', '011']: 3 ['CAG', 'PCP', 'SWK']\n",
      "------>['111', '101', '000', '010']: 2 ['BA', 'ROK']\n",
      "------>['110', '101', '001', '010']: 0 []\n",
      "--------->['1101', '1010', '0010', '0101']: 1 ['UPS']\n",
      "--------->['1101', '1011', '0010', '0101']: 2 ['LEG', 'PEP']\n",
      "--------->['1101', '1011', '0010', '0100']: 2 ['DRI', 'PPG']\n",
      "--------->['1101', '1010', '0011', '0100']: 1 ['CSX']\n",
      "--------->['1101', '1010', '0010', '0100']: 1 ['KFT']\n",
      "------>['111', '101', '001', '010']: 0 []\n",
      "--------->['1110', '1010', '0010', '0100']: 5 ['DIS', 'ETN', 'IFF', 'NSC', 'WHR']\n",
      "--------->['1110', '1011', '0010', '0100']: 1 ['CMA']\n",
      "------>['110', '100', '001', '011']: 4 ['FTI', 'PLL', 'TER', 'TMO']\n",
      "------>['111', '100', '000', '011']: 2 ['AMP', 'NOC']\n",
      "------>['110', '100', '001', '010']: 3 ['AGN', 'COP', 'ICE']\n",
      "------>['110', '101', '000', '010']: 1 ['KIM']\n",
      "--->['10', '10', '00', '10']: 0 []\n",
      "------>['101', '100', '001', '100']: 2 ['BHI', 'OXY']\n",
      "------>['101', '101', '000', '101']: 2 ['ANF', 'LNC']\n",
      "------>['101', '101', '000', '100']: 3 ['BBT', 'LEN', 'RDC']\n",
      "------>['101', '100', '001', '101']: 2 ['TRV', 'XL']\n",
      "------>['101', '101', '001', '100']: 1 ['HOG']\n",
      "------>['101', '100', '000', '101']: 3 ['EK', 'GE', 'OMC']\n",
      "------>['100', '101', '000', '101']: 1 ['WFC']\n",
      "--->['11', '01', '00', '10']: 0 []\n",
      "------>['110', '011', '001', '100']: 3 ['AFL', 'EMN', 'RL']\n",
      "------>['110', '010', '001', '101']: 2 ['DOW', 'JBL']\n",
      "------>['110', '011', '001', '101']: 1 ['FDX']\n",
      "------>['110', '010', '000', '101']: 2 ['RTN', 'WMB']\n",
      "------>['111', '010', '001', '100']: 1 ['GLW']\n",
      "------>['111', '011', '000', '100']: 2 ['SE', 'SYK']\n",
      "------>['110', '010', '001', '100']: 1 ['CL']\n",
      "------>['110', '011', '000', '101']: 3 ['BCR', 'EFX', 'X']\n",
      "------>['110', '011', '000', '100']: 1 ['TIF']\n",
      "--->['00', '10', '01', '11']: 0 []\n",
      "------>['001', '101', '011', '110']: 1 ['MUR']\n",
      "------>['001', '100', '011', '110']: 1 ['IGT']\n",
      "------>['000', '100', '011', '110']: 1 ['TSO']\n",
      "------>['001', '100', '011', '111']: 2 ['STT', 'WFR']\n",
      "------>['001', '100', '010', '110']: 1 ['JPM']\n",
      "------>['001', '101', '010', '110']: 2 ['JCP', 'OI']\n",
      "------>['001', '100', '010', '111']: 1 ['KSS']\n",
      "--->['00', '11', '01', '10']: 1 ['C']\n",
      "--->['11', '10', '00', '10']: 0 []\n",
      "------>['110', '100', '000', '100']: 3 ['A', 'JCI', 'PKI']\n",
      "------>['110', '101', '000', '101']: 1 ['LMT']\n",
      "------>['110', '101', '000', '100']: 2 ['CCL', 'FO']\n",
      "------>['110', '100', '000', '101']: 1 ['USB']\n",
      "--->['10', '01', '00', '11']: 0 []\n",
      "------>['100', '011', '001', '110']: 3 ['BBY', 'CAM', 'ITW']\n",
      "------>['100', '010', '001', '110']: 2 ['MCO', 'WY']\n",
      "------>['101', '011', '000', '110']: 4 ['DV', 'GD', 'HAR', 'RHI']\n",
      "------>['101', '010', '001', '110']: 4 ['APA', 'HES', 'HPQ', 'NBL']\n",
      "------>['100', '011', '001', '111']: 1 ['MAS']\n",
      "------>['100', '010', '001', '111']: 1 ['LSI']\n",
      "--->['11', '01', '00', '01']: 0 []\n",
      "------>['111', '010', '001', '011']: 4 ['AMD', 'BMS', 'HRS', 'PG']\n",
      "------>['111', '011', '001', '010']: 3 ['AXP', 'GAS', 'NI']\n",
      "------>['111', '011', '001', '011']: 4 ['GCI', 'MMM', 'SLM', 'WM']\n",
      "------>['110', '011', '001', '011']: 1 ['APH']\n",
      "--->['00', '01', '10', '11']: 0 []\n",
      "------>['000', '010', '101', '111']: 2 ['AES', 'BSX']\n",
      "------>['001', '010', '100', '111']: 1 ['XOM']\n",
      "------>['001', '010', '101', '110']: 2 ['APD', 'WU']\n",
      "------>['001', '010', '101', '111']: 1 ['EXC']\n",
      "------>['000', '011', '100', '111']: 1 ['GT']\n",
      "--->['00', '01', '01', '11']: 0 []\n",
      "------>['001', '011', '011', '111']: 5 ['AVP', 'GS', 'IVZ', 'MFE', 'MS']\n",
      "------>['001', '010', '011', '111']: 1 ['FII']\n",
      "--->['11', '00', '01', '10']: 4 ['CI', 'MRK', 'NYT', 'WLP']\n",
      "--->['11', '01', '01', '10']: 3 ['BTU', 'K', 'LLY']\n",
      "--->['10', '01', '01', '11']: 4 ['FCX', 'HAL', 'NSM', 'SLB']\n",
      "--->['11', '11', '01', '00']: 3 ['AIZ', 'EP', 'YUM']\n",
      "--->['10', '00', '01', '11']: 0 []\n",
      "------>['100', '001', '010', '111']: 2 ['DGX', 'WDC']\n",
      "------>['100', '001', '011', '110']: 1 ['EIX']\n",
      "------>['101', '001', '010', '110']: 3 ['ABT', 'MHS', 'MWV']\n",
      "--->['00', '11', '00', '10']: 1 ['MMC']\n",
      "--->['01', '10', '00', '11']: 0 []\n",
      "------>['011', '100', '001', '110']: 2 ['DHI', 'HIG']\n",
      "------>['010', '100', '001', '111']: 3 ['ITT', 'LUK', 'SVU']\n",
      "------>['010', '101', '001', '110']: 2 ['BAC', 'CVS']\n",
      "------>['010', '100', '001', '110']: 1 ['PHM']\n",
      "------>['011', '101', '000', '110']: 1 ['GPS']\n",
      "------>['011', '100', '000', '111']: 1 ['BK']\n",
      "--->['01', '10', '01', '10']: 2 ['DFS', 'PBI']\n",
      "--->['10', '10', '00', '11']: 3 ['ALL', 'FLS', 'SWY']\n",
      "--->['01', '01', '00', '11']: 5 ['BEN', 'DHR', 'FHN', 'GIS', 'THC']\n",
      "--->['10', '11', '00', '01']: 0 []\n",
      "------>['101', '110', '000', '011']: 2 ['M', 'MET']\n",
      "------>['101', '110', '001', '011']: 3 ['DNR', 'MI', 'UNM']\n",
      "------>['100', '110', '001', '010']: 1 ['TWX']\n",
      "--->['11', '00', '00', '11']: 3 ['BDX', 'MDT', 'MHP']\n",
      "--->['01', '11', '10', '01']: 1 ['MRO']\n",
      "--->['10', '00', '10', '11']: 2 ['FRX', 'NBR']\n",
      "--->['11', '01', '10', '00']: 1 ['PGN']\n",
      "--->['00', '00', '10', '11']: 2 ['DO', 'MON']\n",
      "--->['01', '01', '10', '11']: 3 ['CHK', 'T', 'TSS']\n",
      "--->['11', '00', '01', '01']: 2 ['AEP', 'DUK']\n",
      "--->['11', '01', '01', '00']: 4 ['AMT', 'HUM', 'RAI', 'TDC']\n",
      "--->['11', '01', '00', '11']: 2 ['LLL', 'MEE']\n",
      "--->['10', '00', '00', '11']: 5 ['CVH', 'JNJ', 'MA', 'PLD', 'WMT']\n",
      "--->['00', '10', '01', '10']: 1 ['FLR']\n",
      "--->['10', '10', '10', '00']: 2 ['AN', 'S']\n",
      "--->['01', '00', '10', '11']: 0 []\n",
      "------>['011', '001', '101', '110']: 2 ['SRE', 'SWN']\n",
      "------>['010', '001', '101', '110']: 2 ['ADM', 'PPL']\n",
      "------>['011', '001', '100', '110']: 3 ['DNB', 'DVN', 'VZ']\n",
      "------>['011', '000', '100', '111']: 1 ['HRB']\n",
      "--->['01', '01', '01', '11']: 0 []\n",
      "------>['010', '011', '010', '111']: 1 ['JNS']\n",
      "------>['011', '010', '010', '111']: 1 ['EQT']\n",
      "------>['010', '011', '010', '110']: 1 ['NUE']\n",
      "------>['010', '010', '010', '111']: 1 ['CA']\n",
      "------>['010', '010', '011', '111']: 2 ['RRC', 'WAG']\n",
      "--->['11', '11', '00', '01']: 3 ['IPG', 'PRU', 'SII']\n",
      "--->['01', '10', '01', '11']: 2 ['KR', 'VMC']\n",
      "--->['01', '10', '00', '10']: 2 ['VLO', 'WPO']\n",
      "--->['10', '01', '01', '10']: 4 ['CVX', 'IP', 'L', 'TXN']\n",
      "--->['11', '11', '00', '00']: 0 []\n",
      "------>['110', '110', '001', '001']: 0 []\n",
      "--------->['1101', '1100', '0011', '0010']: 2 ['FDO', 'PGR']\n",
      "--------->['1100', '1100', '0011', '0011']: 1 ['DD']\n",
      "--------->['1101', '1101', '0010', '0010']: 1 ['CCE']\n",
      "--------->['1101', '1100', '0011', '0011']: 2 ['KEY', 'SHW']\n",
      "--------->['1101', '1100', '0010', '0011']: 1 ['TJX']\n",
      "--->['01', '11', '01', '10']: 1 ['LM']\n",
      "--->['10', '11', '01', '01']: 1 ['NWL']\n",
      "--->['00', '01', '11', '10']: 1 ['MOT']\n",
      "--->['01', '11', '10', '00']: 1 ['PCS']\n",
      "--->['00', '10', '10', '10']: 2 ['AYE', 'TAP']\n",
      "--->['00', '11', '10', '01']: 1 ['PWR']\n",
      "--->['10', '00', '10', '10']: 2 ['AEE', 'KO']\n",
      "--->['11', '00', '00', '10']: 1 ['ZMH']\n",
      "--->['10', '01', '10', '01']: 2 ['KMB', 'PEG']\n",
      "--->['10', '11', '01', '00']: 3 ['FIS', 'HSY', 'SUN']\n",
      "--->['00', '10', '10', '11']: 1 ['GME']\n",
      "--->['01', '10', '01', '01']: 1 ['R']\n",
      "--->['00', '11', '00', '11']: 1 ['JEC']\n",
      "--->['00', '11', '01', '11']: 1 ['IRM']\n",
      "--->['10', '01', '01', '01']: 1 ['HCN']\n",
      "--->['10', '10', '01', '01']: 2 ['PX', 'STZ']\n",
      "--->['01', '01', '01', '10']: 1 ['AVY']\n",
      "--->['10', '01', '00', '10']: 2 ['AET', 'STJ']\n",
      "--->['01', '11', '00', '10']: 1 ['PFG']\n",
      "--->['01', '11', '00', '01']: 1 ['NYX']\n",
      "--->['00', '00', '11', '11']: 1 ['FE']\n",
      "--->['10', '11', '10', '00']: 1 ['PTV']\n",
      "--->['00', '11', '01', '01']: 1 ['AIG']\n",
      "\n"
     ]
    }
   ],
   "source": [
    "print(web_interface.isax_tree())"
   ]
  },
  {
   "cell_type": "markdown",
   "metadata": {
    "slideshow": {
     "slide_type": "subslide"
    }
   },
   "source": [
    "## Don't forget to close the server!"
   ]
  },
  {
   "cell_type": "code",
   "execution_count": 32,
   "metadata": {
    "collapsed": true,
    "slideshow": {
     "slide_type": "fragment"
    }
   },
   "outputs": [],
   "source": [
    "# terminate processes before exiting\n",
    "os.kill(server.pid, signal.SIGINT)\n",
    "time.sleep(5)  # give it time to terminate\n",
    "web_interface = None\n",
    "webserver.terminate()"
   ]
  },
  {
   "cell_type": "markdown",
   "metadata": {
    "slideshow": {
     "slide_type": "slide"
    }
   },
   "source": [
    "# Any questions?"
   ]
  },
  {
   "cell_type": "code",
   "execution_count": null,
   "metadata": {
    "collapsed": true,
    "slideshow": {
     "slide_type": "skip"
    }
   },
   "outputs": [],
   "source": []
  }
 ],
 "metadata": {
  "celltoolbar": "Slideshow",
  "kernelspec": {
   "display_name": "Python 3",
   "language": "python",
   "name": "python3"
  },
  "language_info": {
   "codemirror_mode": {
    "name": "ipython",
    "version": 3
   },
   "file_extension": ".py",
   "mimetype": "text/x-python",
   "name": "python",
   "nbconvert_exporter": "python",
   "pygments_lexer": "ipython3",
   "version": "3.5.1"
  }
 },
 "nbformat": 4,
 "nbformat_minor": 0
}
