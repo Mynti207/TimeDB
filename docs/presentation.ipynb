{
 "cells": [
  {
   "cell_type": "code",
   "execution_count": null,
   "metadata": {
    "collapsed": true,
    "slideshow": {
     "slide_type": "skip"
    }
   },
   "outputs": [],
   "source": [
    "import sys # for gioia to load aiohttp\n",
    "sys.path.append('/Users/maggiori/anaconda/envs/py35/lib/python3.5/site-packages')\n",
    "\n",
    "# to import modules locally without having installed the entire package\n",
    "# http://stackoverflow.com/questions/714063/importing-modules-from-parent-folder\n",
    "import os, sys, inspect\n",
    "currentdir = os.path.dirname(os.path.abspath(inspect.getfile(inspect.currentframe())))\n",
    "parentdir = os.path.dirname(currentdir)\n",
    "sys.path.insert(0, parentdir) \n",
    "\n",
    "import subprocess\n",
    "import numpy as np\n",
    "from scipy.stats import norm\n",
    "import json\n",
    "import matplotlib.pyplot as plt\n",
    "%matplotlib inline\n",
    "import seaborn as sns\n",
    "sns.set_style('white')\n",
    "sns.set_context('notebook')"
   ]
  },
  {
   "cell_type": "code",
   "execution_count": null,
   "metadata": {
    "collapsed": false,
    "slideshow": {
     "slide_type": "skip"
    }
   },
   "outputs": [],
   "source": [
    "# load data\n",
    "with open('data/prices_include.json') as f:    \n",
    "    stock_data_include = json.load(f)\n",
    "with open('data/prices_exclude.json') as f:    \n",
    "    stock_data_exclude = json.load(f)\n",
    "\n",
    "# keep track of which stocks are included/excluded from the database\n",
    "stocks_include = list(stock_data_include.keys())\n",
    "stocks_exclude = list(stock_data_exclude.keys())\n",
    "    \n",
    "# check the number of market days in the year\n",
    "num_days = len(stock_data_include[stocks_include[0]])"
   ]
  },
  {
   "cell_type": "markdown",
   "metadata": {
    "slideshow": {
     "slide_type": "slide"
    }
   },
   "source": [
    "# Time Series Database\n",
    "\n",
    "Gioia Dominedo  \n",
    "Nicolas Drizard  \n",
    "Kendrick Lo  "
   ]
  },
  {
   "cell_type": "markdown",
   "metadata": {
    "slideshow": {
     "slide_type": "slide"
    }
   },
   "source": [
    "## Persistence Architecture"
   ]
  },
  {
   "cell_type": "code",
   "execution_count": null,
   "metadata": {
    "collapsed": true,
    "slideshow": {
     "slide_type": "subslide"
    }
   },
   "outputs": [],
   "source": []
  },
  {
   "cell_type": "markdown",
   "metadata": {
    "slideshow": {
     "slide_type": "slide"
    }
   },
   "source": [
    "## Additional Feature:  \n",
    "## iSAX Similarity Searches"
   ]
  },
  {
   "cell_type": "markdown",
   "metadata": {
    "slideshow": {
     "slide_type": "subslide"
    }
   },
   "source": [
    "* A time series T of length n can be converted into a SAX representation\n",
    "  * approximates T using a smaller number of segments (e.g. w=4)\n",
    "  * each segment is represented by a discrete number\n",
    "  * result is a SAX word (i.e. a vector) such as {11, 11, 01, 00}\n",
    "\n",
    "<img src='img/slide1.png'>"
   ]
  },
  {
   "cell_type": "markdown",
   "metadata": {
    "slideshow": {
     "slide_type": "subslide"
    }
   },
   "source": [
    "* The SAX representation can be used as an index\n",
    "  * e.g. fixed cardinality of 8, word length of 4\n",
    "  * An example T may map to {68, 68, 38, 08} \n",
    "    * data for all Ts that can be represented by this SAX word can be stored in the same text file on disk \u000b",
    "(e.g. with name **6.8_6.8_3.8_0.8.txt**)\n",
    "* **Problem**: storage imbalance\n",
    "* **Solution**: introduce a threshold for the number of time series that can be stored in a single file\n",
    "  * If an insertion would cause threshold to be exceeded, **split the file**"
   ]
  },
  {
   "cell_type": "markdown",
   "metadata": {
    "slideshow": {
     "slide_type": "subslide"
    }
   },
   "source": [
    "* The diagram below illustrates an iSAX index as a tree\n",
    "  * **root node**: represents complete SAX space\n",
    "  * **terminal node**: leaf node containing pointer to file on disk\n",
    "    * **SAX word** as index, contents are the actual time series data\n",
    "  * **internal node** (new): designates split in SAX space\n",
    "    * created when number of entries in a terminal node exceeds threshold\n",
    "\n",
    "<img src='img/slide3.png'>"
   ]
  },
  {
   "cell_type": "markdown",
   "metadata": {
    "slideshow": {
     "slide_type": "subslide"
    }
   },
   "source": [
    "* Observations:\n",
    "  * **binary** splits are along one dimension (sequentially) \n",
    "    * creates two new words of increased cardinality\n",
    "  * “new” node splitting policy (iSAX 2.0) purports to provide better balance by determining optimal dimension\n",
    "    * checks whether mean value is close to a breakpoint\n",
    "* However:\n",
    "  * balancing problems still exist\n",
    "  * no justification given for binary splits\n",
    "    * note that root is connected to multiple nodes\n"
   ]
  },
  {
   "cell_type": "markdown",
   "metadata": {
    "slideshow": {
     "slide_type": "subslide"
    }
   },
   "source": [
    "<img src='img/slide5.png'>"
   ]
  },
  {
   "cell_type": "markdown",
   "metadata": {
    "slideshow": {
     "slide_type": "subslide"
    }
   },
   "source": [
    "* We implemented iSAX tree as a “true” n-ary tree\n",
    "  * splits series in a “full” terminal node into up to ‘n’ terminal nodes all located at the same depth in the tree\n",
    "  * achieves better balance, faster traversals\n",
    "* Class methods:\n",
    "  * insert, delete, preorder (x2), similarity search (find_nbr)"
   ]
  },
  {
   "cell_type": "markdown",
   "metadata": {
    "slideshow": {
     "slide_type": "subslide"
    }
   },
   "source": [
    "* Similarity search is **“approximate”**\n",
    "  * intuition is that two similar time series are often  represented by the same iSAX word\n",
    "  * natural clustering\n",
    "  * “ties” broken by computing Euclidean distance (but only for neighbors)\n",
    "   * adjust for sparser nodes by implementing search for series with common parent\n",
    "\n",
    "<img src='img/slide7.png'>"
   ]
  },
  {
   "cell_type": "markdown",
   "metadata": {
    "slideshow": {
     "slide_type": "slide"
    }
   },
   "source": [
    "## Stock Market Example"
   ]
  },
  {
   "cell_type": "code",
   "execution_count": null,
   "metadata": {
    "collapsed": false,
    "slideshow": {
     "slide_type": "subslide"
    }
   },
   "outputs": [],
   "source": [
    "# load the database server\n",
    "server = subprocess.Popen(['python', '../go_server_persistent.py',\n",
    "                           '--ts_length', str(num_days), '--data_dir', '../db_files', '--db_name', 'stock_prices'])\n",
    "\n",
    "# load the database webserver\n",
    "webserver = subprocess.Popen(['python', '../go_webserver.py'])\n",
    "\n",
    "# import the web interface and initialize it\n",
    "from webserver import *\n",
    "web_interface = WebInterface()"
   ]
  },
  {
   "cell_type": "code",
   "execution_count": null,
   "metadata": {
    "collapsed": false,
    "slideshow": {
     "slide_type": "subslide"
    }
   },
   "outputs": [],
   "source": [
    "len(web_interface.select())"
   ]
  },
  {
   "cell_type": "code",
   "execution_count": null,
   "metadata": {
    "collapsed": false,
    "slideshow": {
     "slide_type": "subslide"
    }
   },
   "outputs": [],
   "source": [
    "# let's look at the first 10 stocks\n",
    "web_interface.select(fields=None, additional={'sort_by': '+pk', 'limit': 10})"
   ]
  },
  {
   "cell_type": "markdown",
   "metadata": {
    "slideshow": {
     "slide_type": "slide"
    }
   },
   "source": [
    "## Vantage Point Search"
   ]
  },
  {
   "cell_type": "code",
   "execution_count": null,
   "metadata": {
    "collapsed": false,
    "slideshow": {
     "slide_type": "subslide"
    }
   },
   "outputs": [],
   "source": [
    "# pick the stock\n",
    "stock = np.random.choice(stocks_exclude)\n",
    "print('Stock:', stock)\n",
    "\n",
    "# run the vantage point similarity search\n",
    "result = web_interface.vp_similarity_search(TimeSeries(range(num_days), stock_data_exclude[stock]), 1)\n",
    "print('Most similar stock:', list(result)[0])"
   ]
  },
  {
   "cell_type": "code",
   "execution_count": null,
   "metadata": {
    "collapsed": false,
    "slideshow": {
     "slide_type": "subslide"
    }
   },
   "outputs": [],
   "source": [
    "# visualize similarity\n",
    "plt.plot(stock_data_exclude[stock], label='Query:' + stock)\n",
    "plt.plot(stock_data_include[list(result)[0]], label='Result:' + list(result)[0])\n",
    "plt.xticks([])\n",
    "plt.legend(loc='best')\n",
    "plt.title('Daily Stock Price Similarity')\n",
    "plt.show()"
   ]
  },
  {
   "cell_type": "markdown",
   "metadata": {
    "slideshow": {
     "slide_type": "slide"
    }
   },
   "source": [
    "## iSAX Tree Search"
   ]
  },
  {
   "cell_type": "code",
   "execution_count": null,
   "metadata": {
    "collapsed": false,
    "slideshow": {
     "slide_type": "subslide"
    }
   },
   "outputs": [],
   "source": [
    "# pick the stock\n",
    "stock = np.random.choice(stocks_exclude)\n",
    "print('Stock:', stock)\n",
    "\n",
    "# run the isax tree similarity search\n",
    "result = web_interface.isax_similarity_search(TimeSeries(range(num_days), stock_data_exclude[stock]))\n",
    "\n",
    "if result == 'ERROR: NO_MATCH':\n",
    "    print('Could not find a similar stock.')\n",
    "else:\n",
    "    print('Most similar stock:', list(result)[0])"
   ]
  },
  {
   "cell_type": "code",
   "execution_count": null,
   "metadata": {
    "collapsed": false,
    "slideshow": {
     "slide_type": "subslide"
    }
   },
   "outputs": [],
   "source": [
    "# visualize similarity\n",
    "plt.plot(stock_data_exclude[stock], label='Query:' + stock)\n",
    "plt.plot(stock_data_include[list(result)[0]], label='Result:' + list(result)[0])\n",
    "plt.xticks([])\n",
    "plt.legend(loc='best')\n",
    "plt.title('Daily Stock Price Similarity')\n",
    "plt.show()"
   ]
  },
  {
   "cell_type": "markdown",
   "metadata": {
    "slideshow": {
     "slide_type": "slide"
    }
   },
   "source": [
    "## Comparing Similarity Searches"
   ]
  },
  {
   "cell_type": "code",
   "execution_count": null,
   "metadata": {
    "collapsed": false,
    "slideshow": {
     "slide_type": "subslide"
    }
   },
   "outputs": [],
   "source": [
    "# pick the stock\n",
    "stock = np.random.choice(stocks_exclude)\n",
    "print('Stock:', stock)\n",
    "\n",
    "# run the vantage point similarity search\n",
    "result_vp = web_interface.vp_similarity_search(TimeSeries(range(num_days), stock_data_exclude[stock]), 1)\n",
    "print('VP search result:', list(result_vp)[0])\n",
    "\n",
    "# run the isax similarity search\n",
    "result_isax = web_interface.isax_similarity_search(TimeSeries(range(num_days), stock_data_exclude[stock]))\n",
    "if result_isax == 'ERROR: NO_MATCH':\n",
    "    print('iSAX search result: Could not find a similar stock.')\n",
    "else:\n",
    "    print('iSAX search result:', list(result_isax)[0])"
   ]
  },
  {
   "cell_type": "code",
   "execution_count": null,
   "metadata": {
    "collapsed": false,
    "slideshow": {
     "slide_type": "subslide"
    }
   },
   "outputs": [],
   "source": [
    "# visualize similarity\n",
    "plt.plot(stock_data_exclude[stock], label='Query:' + stock)\n",
    "plt.plot(stock_data_include[list(result_vp)[0]], label='VP Result:' + list(result_vp)[0])\n",
    "plt.plot(stock_data_include[list(result_isax)[0]], label='iSAX Result:' + list(result_isax)[0])\n",
    "plt.xticks([])\n",
    "plt.legend(loc='best')\n",
    "plt.title('Daily Stock Price Similarity')\n",
    "plt.show()"
   ]
  },
  {
   "cell_type": "markdown",
   "metadata": {
    "slideshow": {
     "slide_type": "slide"
    }
   },
   "source": [
    "## iSAX Tree Representation"
   ]
  },
  {
   "cell_type": "code",
   "execution_count": null,
   "metadata": {
    "collapsed": false,
    "scrolled": false,
    "slideshow": {
     "slide_type": "subslide"
    }
   },
   "outputs": [],
   "source": [
    "# print(web_interface.isax_tree())\n",
    "# print('\\n' * 100)"
   ]
  },
  {
   "cell_type": "code",
   "execution_count": null,
   "metadata": {
    "collapsed": true,
    "slideshow": {
     "slide_type": "skip"
    }
   },
   "outputs": [],
   "source": [
    "server.terminate()\n",
    "webserver.terminate()\n",
    "web_interface = None"
   ]
  },
  {
   "cell_type": "code",
   "execution_count": null,
   "metadata": {
    "collapsed": true,
    "slideshow": {
     "slide_type": "skip"
    }
   },
   "outputs": [],
   "source": []
  }
 ],
 "metadata": {
  "celltoolbar": "Slideshow",
  "kernelspec": {
   "display_name": "Python 3",
   "language": "python",
   "name": "python3"
  },
  "language_info": {
   "codemirror_mode": {
    "name": "ipython",
    "version": 3
   },
   "file_extension": ".py",
   "mimetype": "text/x-python",
   "name": "python",
   "nbconvert_exporter": "python",
   "pygments_lexer": "ipython3",
   "version": "3.5.1"
  }
 },
 "nbformat": 4,
 "nbformat_minor": 0
}
