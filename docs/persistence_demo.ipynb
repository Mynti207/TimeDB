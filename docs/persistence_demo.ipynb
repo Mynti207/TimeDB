{
 "cells": [
  {
   "cell_type": "code",
   "execution_count": 1,
   "metadata": {
    "collapsed": true
   },
   "outputs": [],
   "source": [
    "import sys # for gioia to load aiohttp\n",
    "sys.path.append('/Users/maggiori/anaconda/envs/py35/lib/python3.5/site-packages')"
   ]
  },
  {
   "cell_type": "code",
   "execution_count": 2,
   "metadata": {
    "collapsed": true
   },
   "outputs": [],
   "source": [
    "# to import modules locally without having installed the entire package\n",
    "# http://stackoverflow.com/questions/714063/importing-modules-from-parent-folder\n",
    "import os, sys, inspect\n",
    "currentdir = os.path.dirname(os.path.abspath(inspect.getfile(inspect.currentframe())))\n",
    "parentdir = os.path.dirname(currentdir)\n",
    "sys.path.insert(0, parentdir) "
   ]
  },
  {
   "cell_type": "code",
   "execution_count": 3,
   "metadata": {
    "collapsed": false
   },
   "outputs": [],
   "source": [
    "import signal\n",
    "import time\n",
    "import subprocess\n",
    "import numpy as np\n",
    "from scipy.stats import norm\n",
    "import matplotlib.pyplot as plt\n",
    "%matplotlib inline\n",
    "import seaborn as sns\n",
    "sns.set_style('white')\n",
    "sns.set_context('notebook')"
   ]
  },
  {
   "cell_type": "markdown",
   "metadata": {},
   "source": [
    "# Time Series Database\n",
    "\n",
    "This notebook demonstrates the persistent behavior of the database."
   ]
  },
  {
   "cell_type": "markdown",
   "metadata": {},
   "source": [
    "## Initialization"
   ]
  },
  {
   "cell_type": "markdown",
   "metadata": {},
   "source": [
    "* Clear the file system for demonstration purposes."
   ]
  },
  {
   "cell_type": "code",
   "execution_count": 4,
   "metadata": {
    "collapsed": true
   },
   "outputs": [],
   "source": [
    "# database parameters\n",
    "ts_length = 100\n",
    "data_dir = '../db_files'\n",
    "db_name = 'default'\n",
    "dir_path = data_dir + '/' + db_name + '/'"
   ]
  },
  {
   "cell_type": "code",
   "execution_count": 5,
   "metadata": {
    "collapsed": false
   },
   "outputs": [],
   "source": [
    "# clear file system for testing\n",
    "if not os.path.exists(dir_path):\n",
    "    os.makedirs(dir_path)\n",
    "filelist = [dir_path + f for f in os.listdir(dir_path)]\n",
    "for f in filelist:\n",
    "    os.remove(f)"
   ]
  },
  {
   "cell_type": "markdown",
   "metadata": {},
   "source": [
    "* Load the database server."
   ]
  },
  {
   "cell_type": "code",
   "execution_count": 6,
   "metadata": {
    "collapsed": false
   },
   "outputs": [],
   "source": [
    "# when running from the terminal\n",
    "# python go_server_persistent.py --ts_length 100 --db_name 'demo'\n",
    "\n",
    "# here we load the server as a subprocess for demonstration purposes\n",
    "server = subprocess.Popen(['python', '../go_server_persistent.py',\n",
    "                           '--ts_length', str(ts_length), '--data_dir', data_dir, '--db_name', db_name])\n",
    "time.sleep(5)  # make sure it loads completely"
   ]
  },
  {
   "cell_type": "markdown",
   "metadata": {},
   "source": [
    "* Load the database webserver."
   ]
  },
  {
   "cell_type": "code",
   "execution_count": 7,
   "metadata": {
    "collapsed": false
   },
   "outputs": [],
   "source": [
    "# when running from the terminal\n",
    "# python go_webserver.py\n",
    "\n",
    "# here we load the server as a subprocess for demonstration purposes\n",
    "webserver = subprocess.Popen(['python', '../go_webserver.py'])\n",
    "time.sleep(5)  # make sure it loads completely"
   ]
  },
  {
   "cell_type": "markdown",
   "metadata": {},
   "source": [
    "* Import the web interface and initialize it."
   ]
  },
  {
   "cell_type": "code",
   "execution_count": 8,
   "metadata": {
    "collapsed": false
   },
   "outputs": [
    {
     "name": "stderr",
     "output_type": "stream",
     "text": [
      "Generating LALR tables\n"
     ]
    }
   ],
   "source": [
    "from webserver import *"
   ]
  },
  {
   "cell_type": "code",
   "execution_count": 9,
   "metadata": {
    "collapsed": false
   },
   "outputs": [],
   "source": [
    "web_interface = WebInterface()"
   ]
  },
  {
   "cell_type": "markdown",
   "metadata": {},
   "source": [
    "## Generate Data"
   ]
  },
  {
   "cell_type": "markdown",
   "metadata": {},
   "source": [
    "Let's create some dummy data to aid in our demonstration. You will need to import the `timeseries` package to work with the TimeSeries format.\n",
    "\n",
    "**Note:** the database is persistent, so can store data between sessions, but we will start with an empty database here for demonstration purposes."
   ]
  },
  {
   "cell_type": "code",
   "execution_count": 10,
   "metadata": {
    "collapsed": true
   },
   "outputs": [],
   "source": [
    "from timeseries import *"
   ]
  },
  {
   "cell_type": "code",
   "execution_count": 11,
   "metadata": {
    "collapsed": true
   },
   "outputs": [],
   "source": [
    "def tsmaker(m, s, j):\n",
    "    '''\n",
    "    Helper function: randomly generates a time series for testing.\n",
    "\n",
    "    Parameters\n",
    "    ----------\n",
    "    m : float\n",
    "        Mean value for generating time series data\n",
    "    s : float\n",
    "        Standard deviation value for generating time series data\n",
    "    j : float\n",
    "        Quantifies the \"jitter\" to add to the time series data\n",
    "\n",
    "    Returns\n",
    "    -------\n",
    "    A time series and associated meta data.\n",
    "    '''\n",
    "\n",
    "    # generate metadata\n",
    "    meta = {}\n",
    "    meta['order'] = int(np.random.choice(\n",
    "        [-5, -4, -3, -2, -1, 0, 1, 2, 3, 4, 5]))\n",
    "    meta['blarg'] = int(np.random.choice([1, 2]))\n",
    "\n",
    "    # generate time series data\n",
    "    t = np.arange(0.0, 1.0, 0.01)\n",
    "    v = norm.pdf(t, m, s) + j * np.random.randn(ts_length)\n",
    "\n",
    "    # return time series and metadata\n",
    "    return meta, TimeSeries(t, v)"
   ]
  },
  {
   "cell_type": "code",
   "execution_count": 12,
   "metadata": {
    "collapsed": false
   },
   "outputs": [],
   "source": [
    "# generate sample time series\n",
    "num_ts = 50\n",
    "mus = np.random.uniform(low=0.0, high=1.0, size=num_ts)\n",
    "sigs = np.random.uniform(low=0.05, high=0.4, size=num_ts)\n",
    "jits = np.random.uniform(low=0.05, high=0.2, size=num_ts)\n",
    "\n",
    "# initialize dictionaries for time series and their metadata\n",
    "primary_keys = []\n",
    "tsdict = {}\n",
    "metadict = {}\n",
    "\n",
    "# fill dictionaries with randomly generated entries for database\n",
    "for i, m, s, j in zip(range(num_ts), mus, sigs, jits):\n",
    "    meta, tsrs = tsmaker(m, s, j)  # generate data\n",
    "    pk = \"ts-{}\".format(i)  # generate primary key\n",
    "    primary_keys.append(pk) # keep track of all primary keys\n",
    "    tsdict[pk] = tsrs  # store time series data\n",
    "    metadict[pk] = meta  # store metadata\n",
    "    \n",
    "# to assist with later testing\n",
    "ts_keys = sorted(tsdict.keys())\n",
    "    \n",
    "# randomly choose time series as vantage points\n",
    "num_vps = 5\n",
    "vpkeys = list(np.random.choice(ts_keys, size=num_vps, replace=False))\n",
    "vpdist = ['d_vp_{}'.format(i) for i in vpkeys]"
   ]
  },
  {
   "cell_type": "markdown",
   "metadata": {},
   "source": [
    "## Insert Data\n",
    "\n",
    "Let's start by loading the data into the database, using the REST API web interface."
   ]
  },
  {
   "cell_type": "code",
   "execution_count": 13,
   "metadata": {
    "collapsed": false
   },
   "outputs": [
    {
     "data": {
      "text/plain": [
       "OrderedDict()"
      ]
     },
     "execution_count": 13,
     "metadata": {},
     "output_type": "execute_result"
    }
   ],
   "source": [
    "# check that the database is empty\n",
    "web_interface.select()"
   ]
  },
  {
   "cell_type": "code",
   "execution_count": 14,
   "metadata": {
    "collapsed": false
   },
   "outputs": [
    {
     "data": {
      "text/plain": [
       "'OK'"
      ]
     },
     "execution_count": 14,
     "metadata": {},
     "output_type": "execute_result"
    }
   ],
   "source": [
    "# add stats trigger\n",
    "web_interface.add_trigger('stats', 'insert_ts', ['mean', 'std'], None)"
   ]
  },
  {
   "cell_type": "code",
   "execution_count": 15,
   "metadata": {
    "collapsed": true
   },
   "outputs": [],
   "source": [
    "# insert the time series\n",
    "for k in tsdict:\n",
    "    web_interface.insert_ts(k, tsdict[k])"
   ]
  },
  {
   "cell_type": "code",
   "execution_count": 16,
   "metadata": {
    "collapsed": false
   },
   "outputs": [],
   "source": [
    "# upsert the metadata\n",
    "for k in tsdict:\n",
    "    web_interface.upsert_meta(k, metadict[k])"
   ]
  },
  {
   "cell_type": "code",
   "execution_count": 17,
   "metadata": {
    "collapsed": false
   },
   "outputs": [],
   "source": [
    "# add the vantage points\n",
    "for i in range(num_vps):\n",
    "    web_interface.insert_vp(vpkeys[i])"
   ]
  },
  {
   "cell_type": "markdown",
   "metadata": {},
   "source": [
    "## Inspect Data\n",
    "\n",
    "Let's inspect the data, to make sure that all the previous operations were successful."
   ]
  },
  {
   "cell_type": "code",
   "execution_count": 18,
   "metadata": {
    "collapsed": false
   },
   "outputs": [],
   "source": [
    "# select all database entries; all metadata fields\n",
    "results = web_interface.select(fields=[])\n",
    "\n",
    "# we have the right number of database entries\n",
    "assert len(results) == num_ts\n",
    "\n",
    "# we have all the right primary keys\n",
    "assert sorted(results.keys()) == ts_keys"
   ]
  },
  {
   "cell_type": "code",
   "execution_count": 19,
   "metadata": {
    "collapsed": false
   },
   "outputs": [],
   "source": [
    "# check that all the time series and metadata matches\n",
    "for k in tsdict:\n",
    "    results = web_interface.select(fields=['ts'], md={'pk': k})\n",
    "    assert results[k]['ts'] == tsdict[k]\n",
    "    results = web_interface.select(fields=[], md={'pk': k})\n",
    "    for field in metadict[k]:\n",
    "        assert metadict[k][field] == results[k][field]"
   ]
  },
  {
   "cell_type": "code",
   "execution_count": 20,
   "metadata": {
    "collapsed": false
   },
   "outputs": [
    {
     "name": "stdout",
     "output_type": "stream",
     "text": [
      "Vantage points selected: ['ts-7', 'ts-5', 'ts-21', 'ts-1', 'ts-49']\n",
      "Vantage points in database: odict_keys(['ts-1', 'ts-21', 'ts-49', 'ts-5', 'ts-7'])\n"
     ]
    }
   ],
   "source": [
    "# check that the vantage points match\n",
    "print('Vantage points selected:', vpkeys)\n",
    "print('Vantage points in database:',\n",
    "      web_interface.select(fields=None, md={'vp': True}, additional={'sort_by': '+pk'}).keys())"
   ]
  },
  {
   "cell_type": "code",
   "execution_count": 21,
   "metadata": {
    "collapsed": false
   },
   "outputs": [
    {
     "name": "stdout",
     "output_type": "stream",
     "text": [
      "Vantage point distance fields: ['d_vp_ts-7', 'd_vp_ts-5', 'd_vp_ts-21', 'd_vp_ts-1', 'd_vp_ts-49']\n"
     ]
    },
    {
     "data": {
      "text/plain": [
       "OrderedDict([('ts-0',\n",
       "              OrderedDict([('d_vp_ts-7', 0.8709864020347595),\n",
       "                           ('d_vp_ts-21', 0.8077075481414795),\n",
       "                           ('d_vp_ts-1', 1.0068233013153076),\n",
       "                           ('d_vp_ts-49', 0.2151571810245514),\n",
       "                           ('d_vp_ts-5', 0.6147758960723877)]))])"
      ]
     },
     "execution_count": 21,
     "metadata": {},
     "output_type": "execute_result"
    }
   ],
   "source": [
    "# check that the vantage point distance fields have been created\n",
    "print('Vantage point distance fields:', vpdist)\n",
    "web_interface.select(fields=vpdist, additional={'sort_by': '+pk', 'limit': 1})"
   ]
  },
  {
   "cell_type": "code",
   "execution_count": 22,
   "metadata": {
    "collapsed": false
   },
   "outputs": [],
   "source": [
    "# check that the trigger has executed as expected (allowing for rounding errors)\n",
    "for k in tsdict:\n",
    "    results = web_interface.select(fields=['mean', 'std'], md={'pk': k})\n",
    "    assert np.round(results[k]['mean'], 4) == np.round(tsdict[k].mean(), 4)\n",
    "    assert np.round(results[k]['std'], 4) == np.round(tsdict[k].std(), 4)"
   ]
  },
  {
   "cell_type": "markdown",
   "metadata": {},
   "source": [
    "Let's generate an additional time series for similarity searches. We'll store the time series and the results of the similarity searches, so that we can compare against them after reloading the database."
   ]
  },
  {
   "cell_type": "code",
   "execution_count": 23,
   "metadata": {
    "collapsed": false
   },
   "outputs": [],
   "source": [
    "_, query = tsmaker(np.random.uniform(low=0.0, high=1.0),\n",
    "                   np.random.uniform(low=0.05, high=0.4),\n",
    "                   np.random.uniform(low=0.05, high=0.2))"
   ]
  },
  {
   "cell_type": "code",
   "execution_count": 24,
   "metadata": {
    "collapsed": false
   },
   "outputs": [
    {
     "data": {
      "text/plain": [
       "OrderedDict([('ts-10', 0.21131832345658083)])"
      ]
     },
     "execution_count": 24,
     "metadata": {},
     "output_type": "execute_result"
    }
   ],
   "source": [
    "results_vp = web_interface.vp_similarity_search(query, 1)\n",
    "results_vp"
   ]
  },
  {
   "cell_type": "code",
   "execution_count": 25,
   "metadata": {
    "collapsed": false
   },
   "outputs": [
    {
     "data": {
      "text/plain": [
       "OrderedDict([('ts-18', 0)])"
      ]
     },
     "execution_count": 25,
     "metadata": {},
     "output_type": "execute_result"
    }
   ],
   "source": [
    "results_isax = web_interface.isax_similarity_search(query)\n",
    "results_isax"
   ]
  },
  {
   "cell_type": "markdown",
   "metadata": {},
   "source": [
    "Finally, let's store our iSAX tree representation."
   ]
  },
  {
   "cell_type": "code",
   "execution_count": 26,
   "metadata": {
    "collapsed": false
   },
   "outputs": [
    {
     "name": "stdout",
     "output_type": "stream",
     "text": [
      "root\n",
      "--->['10', '00', '10', '10']: 2 ['ts-26', 'ts-4']\n",
      "--->['11', '10', '00', '00']: 1 ['ts-21']\n",
      "--->['00', '01', '11', '11']: 0 []\n",
      "------>['000', '010', '110', '110']: 3 ['ts-27', 'ts-33', 'ts-43']\n",
      "------>['001', '010', '110', '110']: 3 ['ts-12', 'ts-3', 'ts-8']\n",
      "------>['000', '011', '110', '110']: 1 ['ts-6']\n",
      "--->['00', '01', '10', '11']: 0 []\n",
      "------>['000', '010', '101', '111']: 2 ['ts-0', 'ts-2']\n",
      "------>['000', '010', '101', '110']: 1 ['ts-40']\n",
      "------>['001', '010', '101', '111']: 2 ['ts-25', 'ts-30']\n",
      "------>['001', '010', '100', '111']: 1 ['ts-45']\n",
      "--->['11', '10', '00', '10']: 3 ['ts-17', 'ts-39', 'ts-46']\n",
      "--->['11', '00', '00', '11']: 1 ['ts-13']\n",
      "--->['11', '01', '00', '10']: 4 ['ts-37', 'ts-41', 'ts-42', 'ts-48']\n",
      "--->['11', '11', '10', '00']: 2 ['ts-35', 'ts-44']\n",
      "--->['11', '00', '01', '11']: 1 ['ts-20']\n",
      "--->['01', '00', '01', '11']: 1 ['ts-29']\n",
      "--->['10', '00', '01', '11']: 3 ['ts-15', 'ts-5', 'ts-9']\n",
      "--->['11', '11', '01', '00']: 5 ['ts-10', 'ts-16', 'ts-23', 'ts-28', 'ts-36']\n",
      "--->['10', '10', '00', '10']: 2 ['ts-24', 'ts-38']\n",
      "--->['00', '10', '10', '10']: 1 ['ts-14']\n",
      "--->['00', '10', '11', '10']: 1 ['ts-31']\n",
      "--->['01', '00', '10', '11']: 2 ['ts-11', 'ts-47']\n",
      "--->['10', '00', '10', '11']: 1 ['ts-19']\n",
      "--->['10', '10', '00', '01']: 1 ['ts-1']\n",
      "--->['11', '01', '00', '01']: 1 ['ts-22']\n",
      "--->['00', '00', '10', '11']: 2 ['ts-32', 'ts-49']\n",
      "--->['01', '01', '10', '10']: 1 ['ts-34']\n",
      "--->['11', '01', '00', '11']: 1 ['ts-7']\n",
      "--->['11', '10', '01', '00']: 1 ['ts-18']\n",
      "\n"
     ]
    }
   ],
   "source": [
    "results_tree = web_interface.isax_tree()\n",
    "print(results_tree)"
   ]
  },
  {
   "cell_type": "markdown",
   "metadata": {},
   "source": [
    "## Terminate and Reload Database"
   ]
  },
  {
   "cell_type": "markdown",
   "metadata": {},
   "source": [
    "Now that we know that everything is loaded, let's close the database and re-open it."
   ]
  },
  {
   "cell_type": "code",
   "execution_count": 27,
   "metadata": {
    "collapsed": false
   },
   "outputs": [],
   "source": [
    "os.kill(server.pid, signal.SIGINT)\n",
    "time.sleep(5)  # give it time to terminate\n",
    "os.kill(webserver.pid, signal.SIGINT)\n",
    "time.sleep(5)  # give it time to terminate\n",
    "web_interface = None"
   ]
  },
  {
   "cell_type": "code",
   "execution_count": 28,
   "metadata": {
    "collapsed": true
   },
   "outputs": [],
   "source": [
    "server = subprocess.Popen(['python', '../go_server_persistent.py',\n",
    "                           '--ts_length', str(ts_length), '--data_dir', data_dir, '--db_name', db_name])\n",
    "time.sleep(5)  # give it time to load fully\n",
    "webserver = subprocess.Popen(['python', '../go_webserver.py'])\n",
    "time.sleep(5)  # give it time to load fully\n",
    "web_interface = WebInterface()"
   ]
  },
  {
   "cell_type": "markdown",
   "metadata": {
    "collapsed": true
   },
   "source": [
    "## Inspect Data\n",
    "\n",
    "Let's repeat the previous tests to check whether our persistence architecture worked."
   ]
  },
  {
   "cell_type": "code",
   "execution_count": 29,
   "metadata": {
    "collapsed": false
   },
   "outputs": [],
   "source": [
    "# select all database entries; all metadata fields\n",
    "results = web_interface.select(fields=[])\n",
    "\n",
    "# we have the right number of database entries\n",
    "assert len(results) == num_ts\n",
    "\n",
    "# we have all the right primary keys\n",
    "assert sorted(results.keys()) == ts_keys"
   ]
  },
  {
   "cell_type": "code",
   "execution_count": 30,
   "metadata": {
    "collapsed": false
   },
   "outputs": [],
   "source": [
    "# check that all the time series and metadata matches\n",
    "for k in tsdict:\n",
    "    results = web_interface.select(fields=['ts'], md={'pk': k})\n",
    "    assert results[k]['ts'] == tsdict[k]\n",
    "    results = web_interface.select(fields=[], md={'pk': k})\n",
    "    for field in metadict[k]:\n",
    "        assert metadict[k][field] == results[k][field]"
   ]
  },
  {
   "cell_type": "code",
   "execution_count": 31,
   "metadata": {
    "collapsed": false
   },
   "outputs": [
    {
     "name": "stdout",
     "output_type": "stream",
     "text": [
      "Vantage points selected: ['ts-7', 'ts-5', 'ts-21', 'ts-1', 'ts-49']\n",
      "Vantage points in database: odict_keys(['ts-1', 'ts-21', 'ts-49', 'ts-5', 'ts-7'])\n"
     ]
    }
   ],
   "source": [
    "# check that the vantage points match\n",
    "print('Vantage points selected:', vpkeys)\n",
    "print('Vantage points in database:',\n",
    "      web_interface.select(fields=None, md={'vp': True}, additional={'sort_by': '+pk'}).keys())"
   ]
  },
  {
   "cell_type": "code",
   "execution_count": 33,
   "metadata": {
    "collapsed": false
   },
   "outputs": [
    {
     "name": "stdout",
     "output_type": "stream",
     "text": [
      "root\n",
      "--->['10', '00', '10', '10']: 2 ['ts-26', 'ts-4']\n",
      "--->['10', '00', '01', '11']: 3 ['ts-15', 'ts-5', 'ts-9']\n",
      "--->['11', '10', '00', '10']: 3 ['ts-17', 'ts-39', 'ts-46']\n",
      "--->['00', '01', '11', '11']: 0 []\n",
      "------>['000', '011', '110', '110']: 1 ['ts-6']\n",
      "------>['000', '010', '110', '110']: 3 ['ts-27', 'ts-33', 'ts-43']\n",
      "------>['001', '010', '110', '110']: 3 ['ts-12', 'ts-3', 'ts-8']\n",
      "--->['11', '01', '00', '10']: 4 ['ts-37', 'ts-41', 'ts-42', 'ts-48']\n",
      "--->['11', '11', '10', '00']: 2 ['ts-35', 'ts-44']\n",
      "--->['00', '01', '10', '11']: 0 []\n",
      "------>['001', '010', '101', '111']: 2 ['ts-25', 'ts-30']\n",
      "------>['000', '010', '101', '111']: 2 ['ts-0', 'ts-2']\n",
      "------>['001', '010', '100', '111']: 1 ['ts-45']\n",
      "------>['000', '010', '101', '110']: 1 ['ts-40']\n",
      "--->['11', '11', '01', '00']: 5 ['ts-10', 'ts-16', 'ts-23', 'ts-28', 'ts-36']\n",
      "--->['00', '00', '10', '11']: 2 ['ts-32', 'ts-49']\n",
      "--->['00', '10', '11', '10']: 1 ['ts-31']\n",
      "--->['01', '00', '01', '11']: 1 ['ts-29']\n",
      "--->['01', '00', '10', '11']: 2 ['ts-11', 'ts-47']\n",
      "--->['11', '01', '00', '01']: 1 ['ts-22']\n",
      "--->['10', '10', '00', '10']: 2 ['ts-24', 'ts-38']\n",
      "--->['10', '00', '10', '11']: 1 ['ts-19']\n",
      "--->['10', '10', '00', '01']: 1 ['ts-1']\n",
      "--->['11', '00', '00', '11']: 1 ['ts-13']\n",
      "--->['11', '10', '01', '00']: 1 ['ts-18']\n",
      "--->['11', '01', '00', '11']: 1 ['ts-7']\n",
      "--->['00', '10', '10', '10']: 1 ['ts-14']\n",
      "--->['11', '00', '01', '11']: 1 ['ts-20']\n",
      "--->['11', '10', '00', '00']: 1 ['ts-21']\n",
      "--->['01', '01', '10', '10']: 1 ['ts-34']\n",
      "\n"
     ]
    }
   ],
   "source": [
    "# check that isax tree has fully reloaded\n",
    "print(web_interface.isax_tree())"
   ]
  },
  {
   "cell_type": "code",
   "execution_count": 34,
   "metadata": {
    "collapsed": false
   },
   "outputs": [
    {
     "data": {
      "text/plain": [
       "True"
      ]
     },
     "execution_count": 34,
     "metadata": {},
     "output_type": "execute_result"
    }
   ],
   "source": [
    "# compare vantage point search results\n",
    "results_vp == web_interface.vp_similarity_search(query, 1)"
   ]
  },
  {
   "cell_type": "code",
   "execution_count": 35,
   "metadata": {
    "collapsed": false
   },
   "outputs": [
    {
     "data": {
      "text/plain": [
       "True"
      ]
     },
     "execution_count": 35,
     "metadata": {},
     "output_type": "execute_result"
    }
   ],
   "source": [
    "# compare isax search results\n",
    "results_isax == web_interface.isax_similarity_search(query)"
   ]
  },
  {
   "cell_type": "code",
   "execution_count": 36,
   "metadata": {
    "collapsed": false
   },
   "outputs": [
    {
     "name": "stdout",
     "output_type": "stream",
     "text": [
      "OrderedDict([('test', OrderedDict([('std', 0.35098257660865784), ('mean', 0.9068292379379272)]))])\n"
     ]
    }
   ],
   "source": [
    "# check that the trigger is still there by loading new data\n",
    "\n",
    "# create test time series\n",
    "_, test = tsmaker(np.random.uniform(low=0.0, high=1.0),\n",
    "                  np.random.uniform(low=0.05, high=0.4),\n",
    "                  np.random.uniform(low=0.05, high=0.2))\n",
    "\n",
    "# insert test time series\n",
    "web_interface.insert_ts('test', test)\n",
    "\n",
    "# check that mean and standard deviation have been calculated\n",
    "print(web_interface.select(fields=['mean', 'std'], md={'pk': 'test'}))\n",
    "\n",
    "# remove test time series\n",
    "web_interface.delete_ts('test');"
   ]
  },
  {
   "cell_type": "markdown",
   "metadata": {},
   "source": [
    "We have successfully reloaded all of the database components from disk!"
   ]
  },
  {
   "cell_type": "code",
   "execution_count": 37,
   "metadata": {
    "collapsed": true
   },
   "outputs": [],
   "source": [
    "# terminate processes before exiting\n",
    "os.kill(server.pid, signal.SIGINT)\n",
    "time.sleep(5)  # give it time to terminate\n",
    "web_interface = None\n",
    "webserver.terminate()"
   ]
  }
 ],
 "metadata": {
  "kernelspec": {
   "display_name": "Python 3",
   "language": "python",
   "name": "python3"
  },
  "language_info": {
   "codemirror_mode": {
    "name": "ipython",
    "version": 3
   },
   "file_extension": ".py",
   "mimetype": "text/x-python",
   "name": "python",
   "nbconvert_exporter": "python",
   "pygments_lexer": "ipython3",
   "version": "3.5.1"
  }
 },
 "nbformat": 4,
 "nbformat_minor": 0
}
