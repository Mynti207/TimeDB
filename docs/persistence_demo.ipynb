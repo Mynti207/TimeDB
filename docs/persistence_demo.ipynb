{
 "cells": [
  {
   "cell_type": "code",
   "execution_count": 32,
   "metadata": {
    "collapsed": true
   },
   "outputs": [],
   "source": [
    "import sys # for gioia to load aiohttp\n",
    "sys.path.append('/Users/maggiori/anaconda/envs/py35/lib/python3.5/site-packages')"
   ]
  },
  {
   "cell_type": "code",
   "execution_count": 33,
   "metadata": {
    "collapsed": true
   },
   "outputs": [],
   "source": [
    "# to import modules locally without having installed the entire package\n",
    "# http://stackoverflow.com/questions/714063/importing-modules-from-parent-folder\n",
    "import os, sys, inspect\n",
    "currentdir = os.path.dirname(os.path.abspath(inspect.getfile(inspect.currentframe())))\n",
    "parentdir = os.path.dirname(currentdir)\n",
    "sys.path.insert(0, parentdir) "
   ]
  },
  {
   "cell_type": "code",
   "execution_count": 34,
   "metadata": {
    "collapsed": false
   },
   "outputs": [],
   "source": [
    "import subprocess\n",
    "import numpy as np\n",
    "from scipy.stats import norm\n",
    "import matplotlib.pyplot as plt\n",
    "%matplotlib inline\n",
    "import seaborn as sns\n",
    "sns.set_style('white')\n",
    "sns.set_context('notebook')"
   ]
  },
  {
   "cell_type": "markdown",
   "metadata": {},
   "source": [
    "# Time Series Database\n",
    "\n",
    "This notebook demonstrates the persistent behavior of the database."
   ]
  },
  {
   "cell_type": "markdown",
   "metadata": {},
   "source": [
    "## Initialization"
   ]
  },
  {
   "cell_type": "markdown",
   "metadata": {},
   "source": [
    "* Clear the file system for demonstration purposes."
   ]
  },
  {
   "cell_type": "code",
   "execution_count": 35,
   "metadata": {
    "collapsed": true
   },
   "outputs": [],
   "source": [
    "# database parameters\n",
    "ts_length = 100\n",
    "data_dir = '../db_files'\n",
    "db_name = 'default'\n",
    "dir_path = data_dir + '/' + db_name + '/'"
   ]
  },
  {
   "cell_type": "code",
   "execution_count": 36,
   "metadata": {
    "collapsed": false
   },
   "outputs": [],
   "source": [
    "# clear file system for testing\n",
    "if not os.path.exists(dir_path):\n",
    "    os.makedirs(dir_path)\n",
    "filelist = [dir_path + f for f in os.listdir(dir_path)]\n",
    "for f in filelist:\n",
    "    os.remove(f)"
   ]
  },
  {
   "cell_type": "markdown",
   "metadata": {},
   "source": [
    "* Load the database server."
   ]
  },
  {
   "cell_type": "code",
   "execution_count": 37,
   "metadata": {
    "collapsed": false
   },
   "outputs": [],
   "source": [
    "# when running from the terminal\n",
    "# python go_server_persistent.py --ts_length 100 --db_name 'demo'\n",
    "\n",
    "# here we load the server as a subprocess for demonstration purposes\n",
    "server = subprocess.Popen(['python', '../go_server_persistent.py',\n",
    "                           '--ts_length', str(ts_length), '--data_dir', data_dir, '--db_name', db_name])"
   ]
  },
  {
   "cell_type": "markdown",
   "metadata": {},
   "source": [
    "* Load the database webserver."
   ]
  },
  {
   "cell_type": "code",
   "execution_count": 38,
   "metadata": {
    "collapsed": false
   },
   "outputs": [],
   "source": [
    "# when running from the terminal\n",
    "# python go_webserver.py\n",
    "\n",
    "# here we load the server as a subprocess for demonstration purposes\n",
    "webserver = subprocess.Popen(['python', '../go_webserver.py'])"
   ]
  },
  {
   "cell_type": "markdown",
   "metadata": {},
   "source": [
    "* Import the web interface and initialize it."
   ]
  },
  {
   "cell_type": "code",
   "execution_count": 39,
   "metadata": {
    "collapsed": false
   },
   "outputs": [],
   "source": [
    "from webserver import *"
   ]
  },
  {
   "cell_type": "code",
   "execution_count": 40,
   "metadata": {
    "collapsed": false
   },
   "outputs": [],
   "source": [
    "web_interface = WebInterface()"
   ]
  },
  {
   "cell_type": "markdown",
   "metadata": {},
   "source": [
    "## Generate Data"
   ]
  },
  {
   "cell_type": "markdown",
   "metadata": {},
   "source": [
    "Let's create some dummy data to aid in our demonstration. You will need to import the `timeseries` package to work with the TimeSeries format.\n",
    "\n",
    "**Note:** the database is persistent, so can store data between sessions, but we will start with an empty database here for demonstration purposes."
   ]
  },
  {
   "cell_type": "code",
   "execution_count": 41,
   "metadata": {
    "collapsed": true
   },
   "outputs": [],
   "source": [
    "from timeseries import *"
   ]
  },
  {
   "cell_type": "code",
   "execution_count": 42,
   "metadata": {
    "collapsed": true
   },
   "outputs": [],
   "source": [
    "def tsmaker(m, s, j):\n",
    "    '''\n",
    "    Helper function: randomly generates a time series for testing.\n",
    "\n",
    "    Parameters\n",
    "    ----------\n",
    "    m : float\n",
    "        Mean value for generating time series data\n",
    "    s : float\n",
    "        Standard deviation value for generating time series data\n",
    "    j : float\n",
    "        Quantifies the \"jitter\" to add to the time series data\n",
    "\n",
    "    Returns\n",
    "    -------\n",
    "    A time series and associated meta data.\n",
    "    '''\n",
    "\n",
    "    # generate metadata\n",
    "    meta = {}\n",
    "    meta['order'] = int(np.random.choice(\n",
    "        [-5, -4, -3, -2, -1, 0, 1, 2, 3, 4, 5]))\n",
    "    meta['blarg'] = int(np.random.choice([1, 2]))\n",
    "\n",
    "    # generate time series data\n",
    "    t = np.arange(0.0, 1.0, 0.01)\n",
    "    v = norm.pdf(t, m, s) + j * np.random.randn(ts_length)\n",
    "\n",
    "    # return time series and metadata\n",
    "    return meta, TimeSeries(t, v)"
   ]
  },
  {
   "cell_type": "code",
   "execution_count": 43,
   "metadata": {
    "collapsed": false
   },
   "outputs": [],
   "source": [
    "# generate sample time series\n",
    "num_ts = 50\n",
    "mus = np.random.uniform(low=0.0, high=1.0, size=num_ts)\n",
    "sigs = np.random.uniform(low=0.05, high=0.4, size=num_ts)\n",
    "jits = np.random.uniform(low=0.05, high=0.2, size=num_ts)\n",
    "\n",
    "# initialize dictionaries for time series and their metadata\n",
    "primary_keys = []\n",
    "tsdict = {}\n",
    "metadict = {}\n",
    "\n",
    "# fill dictionaries with randomly generated entries for database\n",
    "for i, m, s, j in zip(range(num_ts), mus, sigs, jits):\n",
    "    meta, tsrs = tsmaker(m, s, j)  # generate data\n",
    "    pk = \"ts-{}\".format(i)  # generate primary key\n",
    "    primary_keys.append(pk) # keep track of all primary keys\n",
    "    tsdict[pk] = tsrs  # store time series data\n",
    "    metadict[pk] = meta  # store metadata\n",
    "    \n",
    "# to assist with later testing\n",
    "ts_keys = sorted(tsdict.keys())\n",
    "    \n",
    "# randomly choose time series as vantage points\n",
    "num_vps = 5\n",
    "random_vps = np.random.choice(range(num_ts), size=num_vps, replace=False)\n",
    "vpkeys = sorted(['ts-{}'.format(i) for i in random_vps])"
   ]
  },
  {
   "cell_type": "markdown",
   "metadata": {},
   "source": [
    "## Insert Data\n",
    "\n",
    "Let's start by loading the data into the database, using the REST API web interface."
   ]
  },
  {
   "cell_type": "code",
   "execution_count": 44,
   "metadata": {
    "collapsed": false
   },
   "outputs": [
    {
     "data": {
      "text/plain": [
       "OrderedDict()"
      ]
     },
     "execution_count": 44,
     "metadata": {},
     "output_type": "execute_result"
    }
   ],
   "source": [
    "# check that the database is empty\n",
    "web_interface.select()"
   ]
  },
  {
   "cell_type": "code",
   "execution_count": 45,
   "metadata": {
    "collapsed": false
   },
   "outputs": [
    {
     "data": {
      "text/plain": [
       "'OK'"
      ]
     },
     "execution_count": 45,
     "metadata": {},
     "output_type": "execute_result"
    }
   ],
   "source": [
    "# add stats trigger\n",
    "web_interface.add_trigger('stats', 'insert_ts', ['mean', 'std'], None)"
   ]
  },
  {
   "cell_type": "code",
   "execution_count": 46,
   "metadata": {
    "collapsed": true
   },
   "outputs": [],
   "source": [
    "# insert the time series\n",
    "for k in tsdict:\n",
    "    web_interface.insert_ts(k, tsdict[k])"
   ]
  },
  {
   "cell_type": "code",
   "execution_count": 47,
   "metadata": {
    "collapsed": false
   },
   "outputs": [],
   "source": [
    "# upsert the metadata\n",
    "for k in tsdict:\n",
    "    web_interface.upsert_meta(k, metadict[k])"
   ]
  },
  {
   "cell_type": "code",
   "execution_count": 48,
   "metadata": {
    "collapsed": false
   },
   "outputs": [],
   "source": [
    "# add the vantage points\n",
    "for i in range(num_vps):\n",
    "    web_interface.insert_vp(vpkeys[i])"
   ]
  },
  {
   "cell_type": "markdown",
   "metadata": {},
   "source": [
    "## Inspect Data\n",
    "\n",
    "Let's inspect the data, to make sure that all the previous operations were successful."
   ]
  },
  {
   "cell_type": "code",
   "execution_count": 49,
   "metadata": {
    "collapsed": false
   },
   "outputs": [],
   "source": [
    "# select all database entries; all metadata fields\n",
    "results = web_interface.select(fields=[])"
   ]
  },
  {
   "cell_type": "code",
   "execution_count": 50,
   "metadata": {
    "collapsed": false
   },
   "outputs": [],
   "source": [
    "# we have the right number of database entries\n",
    "assert len(results) == num_ts\n",
    "\n",
    "# we have all the right primary keys\n",
    "assert sorted(results.keys()) == ts_keys"
   ]
  },
  {
   "cell_type": "code",
   "execution_count": 51,
   "metadata": {
    "collapsed": false
   },
   "outputs": [],
   "source": [
    "# check that all the time series and metadata matches\n",
    "for k in tsdict:\n",
    "    results = web_interface.select(fields=['ts'], md={'pk': k})\n",
    "    assert results[k]['ts'] == tsdict[k]\n",
    "    results = web_interface.select(fields=[], md={'pk': k})\n",
    "    for field in metadict[k]:\n",
    "        assert metadict[k][field] == results[k][field]"
   ]
  },
  {
   "cell_type": "code",
   "execution_count": 59,
   "metadata": {
    "collapsed": false
   },
   "outputs": [
    {
     "name": "stdout",
     "output_type": "stream",
     "text": [
      "Vantage points selected: ['ts-15', 'ts-20', 'ts-31', 'ts-46', 'ts-9']\n",
      "Vantage points in database: odict_keys(['ts-15', 'ts-20', 'ts-31', 'ts-46', 'ts-9'])\n"
     ]
    }
   ],
   "source": [
    "# check that the vantage points match\n",
    "print('Vantage points selected:', vpkeys)\n",
    "print('Vantage points in database:',\n",
    "      web_interface.select(fields=None, md={'vp': True}, additional={'sort_by': '+pk'}).keys())"
   ]
  },
  {
   "cell_type": "code",
   "execution_count": 62,
   "metadata": {
    "collapsed": false
   },
   "outputs": [],
   "source": [
    "# check that the trigger has executed as expected (allowing for rounding errors)\n",
    "for k in tsdict:\n",
    "    results = web_interface.select(fields=['mean', 'std'], md={'pk': k})\n",
    "    assert np.round(results[k]['mean'], 4) == np.round(tsdict[k].mean(), 4)\n",
    "    assert np.round(results[k]['std'], 4) == np.round(tsdict[k].std(), 4)"
   ]
  },
  {
   "cell_type": "markdown",
   "metadata": {},
   "source": [
    "Let's generate an additional time series for similarity searches. We'll store the time series and the results of the similarity searches, so that we can compare against them after reloading the database."
   ]
  },
  {
   "cell_type": "code",
   "execution_count": 64,
   "metadata": {
    "collapsed": false
   },
   "outputs": [],
   "source": [
    "_, query = tsmaker(np.random.uniform(low=0.0, high=1.0),\n",
    "                   np.random.uniform(low=0.05, high=0.4),\n",
    "                   np.random.uniform(low=0.05, high=0.2))"
   ]
  },
  {
   "cell_type": "code",
   "execution_count": 66,
   "metadata": {
    "collapsed": false
   },
   "outputs": [
    {
     "data": {
      "text/plain": [
       "OrderedDict([('ts-4', 0.14793853804867974)])"
      ]
     },
     "execution_count": 66,
     "metadata": {},
     "output_type": "execute_result"
    }
   ],
   "source": [
    "results_vp = web_interface.vp_similarity_search(query, 1)\n",
    "results_vp"
   ]
  },
  {
   "cell_type": "code",
   "execution_count": 68,
   "metadata": {
    "collapsed": false
   },
   "outputs": [
    {
     "data": {
      "text/plain": [
       "OrderedDict([('ts-4', 1.8006607394375933)])"
      ]
     },
     "execution_count": 68,
     "metadata": {},
     "output_type": "execute_result"
    }
   ],
   "source": [
    "results_isax = web_interface.isax_similarity_search(query)\n",
    "results_isax"
   ]
  },
  {
   "cell_type": "markdown",
   "metadata": {},
   "source": [
    "Finally, let's store our iSAX tree representation."
   ]
  },
  {
   "cell_type": "code",
   "execution_count": 71,
   "metadata": {
    "collapsed": false
   },
   "outputs": [
    {
     "name": "stdout",
     "output_type": "stream",
     "text": [
      "root\n",
      "--->['11', '10', '00', '00']: 5 ['ts-18', 'ts-19', 'ts-26', 'ts-31', 'ts-39']\n",
      "--->['11', '10', '00', '01']: 1 ['ts-34']\n",
      "--->['11', '01', '00', '11']: 1 ['ts-46']\n",
      "--->['00', '01', '11', '11']: 2 ['ts-14', 'ts-45']\n",
      "--->['10', '10', '10', '00']: 4 ['ts-0', 'ts-16', 'ts-3', 'ts-9']\n",
      "--->['01', '00', '10', '11']: 0 []\n",
      "------>['011', '000', '100', '111']: 1 ['ts-2']\n",
      "------>['010', '001', '101', '111']: 1 ['ts-5']\n",
      "------>['010', '001', '100', '111']: 1 ['ts-41']\n",
      "------>['010', '001', '101', '110']: 1 ['ts-17']\n",
      "------>['011', '001', '100', '111']: 1 ['ts-29']\n",
      "------>['011', '000', '101', '110']: 1 ['ts-33']\n",
      "--->['00', '00', '10', '11']: 4 ['ts-1', 'ts-22', 'ts-42', 'ts-48']\n",
      "--->['10', '00', '01', '11']: 2 ['ts-27', 'ts-35']\n",
      "--->['00', '01', '10', '11']: 1 ['ts-11']\n",
      "--->['11', '10', '01', '00']: 5 ['ts-20', 'ts-23', 'ts-36', 'ts-37', 'ts-44']\n",
      "--->['11', '00', '00', '11']: 1 ['ts-8']\n",
      "--->['00', '00', '11', '11']: 1 ['ts-30']\n",
      "--->['11', '11', '01', '00']: 5 ['ts-28', 'ts-32', 'ts-38', 'ts-4', 'ts-47']\n",
      "--->['11', '00', '01', '10']: 1 ['ts-43']\n",
      "--->['10', '10', '00', '10']: 1 ['ts-6']\n",
      "--->['10', '11', '10', '00']: 1 ['ts-24']\n",
      "--->['10', '00', '10', '11']: 1 ['ts-49']\n",
      "--->['11', '01', '00', '01']: 1 ['ts-15']\n",
      "--->['00', '10', '11', '11']: 1 ['ts-12']\n",
      "--->['00', '01', '10', '10']: 1 ['ts-21']\n",
      "--->['00', '10', '10', '10']: 3 ['ts-13', 'ts-25', 'ts-40']\n",
      "--->['10', '00', '10', '10']: 1 ['ts-7']\n",
      "--->['11', '01', '00', '10']: 1 ['ts-10']\n",
      "\n"
     ]
    }
   ],
   "source": [
    "results_tree = web_interface.isax_tree()\n",
    "print(results_tree)"
   ]
  },
  {
   "cell_type": "markdown",
   "metadata": {},
   "source": [
    "## Terminate and Reload Database"
   ]
  },
  {
   "cell_type": "markdown",
   "metadata": {},
   "source": [
    "Now that we know that everything is loaded, let's close the database and re-open it."
   ]
  },
  {
   "cell_type": "code",
   "execution_count": 72,
   "metadata": {
    "collapsed": false
   },
   "outputs": [],
   "source": [
    "server.terminate()\n",
    "webserver.terminate()\n",
    "web_interface = None"
   ]
  },
  {
   "cell_type": "code",
   "execution_count": 73,
   "metadata": {
    "collapsed": true
   },
   "outputs": [],
   "source": [
    "server = subprocess.Popen(['python', '../go_server_persistent.py',\n",
    "                           '--ts_length', str(ts_length), '--data_dir', data_dir, '--db_name', db_name])\n",
    "webserver = subprocess.Popen(['python', '../go_webserver.py'])\n",
    "web_interface = WebInterface()"
   ]
  },
  {
   "cell_type": "markdown",
   "metadata": {
    "collapsed": true
   },
   "source": [
    "## Inspect Data\n",
    "\n",
    "Let's repeat the previous tests to check whether our persistence architecture worked."
   ]
  },
  {
   "cell_type": "code",
   "execution_count": 74,
   "metadata": {
    "collapsed": true
   },
   "outputs": [],
   "source": [
    "# select all database entries; all metadata fields\n",
    "results = web_interface.select(fields=[])"
   ]
  },
  {
   "cell_type": "code",
   "execution_count": 78,
   "metadata": {
    "collapsed": false
   },
   "outputs": [
    {
     "data": {
      "text/plain": [
       "OrderedDict([('ts-33',\n",
       "              OrderedDict([('blarg', 1),\n",
       "                           ('pk', 'ts-33'),\n",
       "                           ('useless', 1062695157),\n",
       "                           ('vp', False),\n",
       "                           ('std', 0.4770243763923645),\n",
       "                           ('order', 1061211351),\n",
       "                           ('mean', 0.7254546284675598)]))])"
      ]
     },
     "execution_count": 78,
     "metadata": {},
     "output_type": "execute_result"
    }
   ],
   "source": [
    "web_interface.select(fields=[])"
   ]
  },
  {
   "cell_type": "code",
   "execution_count": 75,
   "metadata": {
    "collapsed": true
   },
   "outputs": [],
   "source": [
    "# we have the right number of database entries\n",
    "assert len(results) == num_ts\n",
    "\n",
    "# we have all the right primary keys\n",
    "assert sorted(results.keys()) == ts_keys"
   ]
  },
  {
   "cell_type": "code",
   "execution_count": 77,
   "metadata": {
    "collapsed": false
   },
   "outputs": [
    {
     "name": "stdout",
     "output_type": "stream",
     "text": [
      "ts-31 order -1 0\n",
      "ts-34 order -4 1058371128\n",
      "ts-46 order 0 1063892437\n",
      "ts-14 order -3 1062630045\n",
      "ts-0 order -5 1065379942\n",
      "ts-3 order 1 1065718121\n",
      "ts-2 order -3 1060174732\n",
      "ts-42 order 3 1062983357\n",
      "ts-35 order 3 1058798047\n",
      "ts-9 order 0 1065310348\n",
      "ts-11 order -5 1063268559\n",
      "ts-48 order 1 1061994563\n",
      "ts-36 order -2 1051432939\n",
      "ts-18 order -3 1049491364\n",
      "ts-8 order -1 1057427250\n",
      "ts-23 order 2 1050019161\n",
      "ts-30 order -3 1062320276\n",
      "ts-38 order -1 1062721490\n",
      "ts-45 order -3 1063763770\n",
      "ts-20 order -3 1050489331\n",
      "ts-43 order -5 1061680176\n",
      "ts-27 order -4 1058630216\n",
      "ts-22 order -2 1062161939\n",
      "ts-5 order -5 1060950230\n",
      "ts-6 order -4 1065247692\n",
      "ts-24 order 5 1064063519\n",
      "ts-32 order -3 1056015493\n",
      "ts-39 order 0 1053291596\n",
      "ts-49 order 1 1064029434\n",
      "ts-15 order 3 1059647462\n",
      "ts-12 order -5 1063911407\n",
      "ts-1 order -2 1063791921\n",
      "ts-37 order 0 1049154434\n",
      "ts-21 order 3 1065060483\n",
      "ts-40 order -4 1065278102\n",
      "ts-26 order -1 1047792833\n",
      "ts-13 order -3 1066187057\n",
      "ts-7 order -4 1066374293\n",
      "ts-16 order 2 1065702951\n",
      "ts-44 order -5 1052530963\n",
      "ts-4 order 5 1059082094\n",
      "ts-10 order 3 1058155679\n",
      "ts-41 order -2 1061115489\n",
      "ts-25 order 2 1065935216\n",
      "ts-17 order 5 1063381668\n",
      "ts-29 order 5 1059438095\n",
      "ts-19 order 1 1049025644\n",
      "ts-47 order -1 1053853339\n",
      "ts-28 order -3 1052804364\n",
      "ts-33 order 1 1061211351\n"
     ]
    }
   ],
   "source": [
    "# check that all the time series and metadata matches\n",
    "for k in tsdict:\n",
    "    results = web_interface.select(fields=['ts'], md={'pk': k})\n",
    "    assert results[k]['ts'] == tsdict[k]\n",
    "    results = web_interface.select(fields=[], md={'pk': k})\n",
    "    for field in metadict[k]:\n",
    "        if metadict[k][field] != results[k][field]:\n",
    "            print(k, field, metadict[k][field], results[k][field])\n",
    "#         assert metadict[k][field] == results[k][field]"
   ]
  },
  {
   "cell_type": "code",
   "execution_count": null,
   "metadata": {
    "collapsed": true
   },
   "outputs": [],
   "source": []
  }
 ],
 "metadata": {
  "kernelspec": {
   "display_name": "Python 3",
   "language": "python",
   "name": "python3"
  },
  "language_info": {
   "codemirror_mode": {
    "name": "ipython",
    "version": 3
   },
   "file_extension": ".py",
   "mimetype": "text/x-python",
   "name": "python",
   "nbconvert_exporter": "python",
   "pygments_lexer": "ipython3",
   "version": "3.5.1"
  }
 },
 "nbformat": 4,
 "nbformat_minor": 0
}
