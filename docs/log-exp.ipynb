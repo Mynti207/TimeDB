{
 "cells": [
  {
   "cell_type": "code",
   "execution_count": 1,
   "metadata": {
    "collapsed": true
   },
   "outputs": [],
   "source": [
    "# to import modules locally without having installed the entire package\n",
    "# http://stackoverflow.com/questions/714063/importing-modules-from-parent-folder\n",
    "import os, sys, inspect\n",
    "currentdir = os.path.dirname(os.path.abspath(inspect.getfile(inspect.currentframe())))\n",
    "parentdir = os.path.dirname(currentdir)\n",
    "sys.path.insert(0, parentdir) "
   ]
  },
  {
   "cell_type": "code",
   "execution_count": 2,
   "metadata": {
    "collapsed": false
   },
   "outputs": [
    {
     "name": "stderr",
     "output_type": "stream",
     "text": [
      "/Users/nicolasdrizard/anaconda/lib/python3.5/site-packages/matplotlib/__init__.py:872: UserWarning: axes.color_cycle is deprecated and replaced with axes.prop_cycle; please use the latter.\n",
      "  warnings.warn(self.msg_depr % (key, alt_key))\n"
     ]
    }
   ],
   "source": [
    "import subprocess\n",
    "import numpy as np\n",
    "from scipy.stats import norm\n",
    "import matplotlib.pyplot as plt\n",
    "%matplotlib inline\n",
    "import seaborn as sns\n",
    "sns.set_style('white')\n",
    "sns.set_context('notebook')"
   ]
  },
  {
   "cell_type": "code",
   "execution_count": 3,
   "metadata": {
    "collapsed": true
   },
   "outputs": [],
   "source": [
    "# database parameters\n",
    "ts_length = 100\n",
    "data_dir = '../db_files'\n",
    "db_name = 'default'\n",
    "dir_path = data_dir + '/' + db_name + '/'"
   ]
  },
  {
   "cell_type": "code",
   "execution_count": 20,
   "metadata": {
    "collapsed": true
   },
   "outputs": [],
   "source": [
    "# clear file system for testing\n",
    "if not os.path.exists(dir_path):\n",
    "    os.makedirs(dir_path)\n",
    "filelist = [dir_path + f for f in os.listdir(dir_path)]\n",
    "for f in filelist:\n",
    "    os.remove(f)"
   ]
  },
  {
   "cell_type": "code",
   "execution_count": 21,
   "metadata": {
    "collapsed": false
   },
   "outputs": [],
   "source": [
    "from timeseries import *\n",
    "\n",
    "def tsmaker(m, s, j):\n",
    "    '''\n",
    "    Helper function: randomly generates a time series for testing.\n",
    "\n",
    "    Parameters\n",
    "    ----------\n",
    "    m : float\n",
    "        Mean value for generating time series data\n",
    "    s : float\n",
    "        Standard deviation value for generating time series data\n",
    "    j : float\n",
    "        Quantifies the \"jitter\" to add to the time series data\n",
    "\n",
    "    Returns\n",
    "    -------\n",
    "    A time series and associated meta data.\n",
    "    '''\n",
    "\n",
    "    # generate metadata\n",
    "    meta = {}\n",
    "    meta['order'] = int(np.random.choice(\n",
    "        [-5, -4, -3, -2, -1, 0, 1, 2, 3, 4, 5]))\n",
    "    meta['blarg'] = int(np.random.choice([1, 2]))\n",
    "\n",
    "    # generate time series data\n",
    "    t = np.arange(0.0, 1.0, 0.01)\n",
    "    v = norm.pdf(t, m, s) + j * np.random.randn(ts_length)\n",
    "\n",
    "    # return time series and metadata\n",
    "    return meta, TimeSeries(t, v)"
   ]
  },
  {
   "cell_type": "code",
   "execution_count": 22,
   "metadata": {
    "collapsed": true
   },
   "outputs": [],
   "source": [
    "# generate sample time series\n",
    "num_ts = 50\n",
    "mus = np.random.uniform(low=0.0, high=1.0, size=num_ts)\n",
    "sigs = np.random.uniform(low=0.05, high=0.4, size=num_ts)\n",
    "jits = np.random.uniform(low=0.05, high=0.2, size=num_ts)\n",
    "\n",
    "# initialize dictionaries for time series and their metadata\n",
    "primary_keys = []\n",
    "tsdict = {}\n",
    "metadict = {}\n",
    "\n",
    "# fill dictionaries with randomly generated entries for database\n",
    "for i, m, s, j in zip(range(num_ts), mus, sigs, jits):\n",
    "    meta, tsrs = tsmaker(m, s, j)  # generate data\n",
    "    pk = \"ts-{}\".format(i)  # generate primary key\n",
    "    primary_keys.append(pk) # keep track of all primary keys\n",
    "    tsdict[pk] = tsrs  # store time series data\n",
    "    metadict[pk] = meta  # store metadata\n",
    "    \n",
    "# to assist with later testing\n",
    "ts_keys = sorted(tsdict.keys())\n",
    "    \n",
    "# randomly choose time series as vantage points\n",
    "num_vps = 5\n",
    "random_vps = np.random.choice(range(num_ts), size=num_vps, replace=False)\n",
    "vpkeys = sorted(['ts-{}'.format(i) for i in random_vps])"
   ]
  },
  {
   "cell_type": "code",
   "execution_count": 23,
   "metadata": {
    "collapsed": true
   },
   "outputs": [],
   "source": [
    "from tsdb import *"
   ]
  },
  {
   "cell_type": "code",
   "execution_count": 24,
   "metadata": {
    "collapsed": true
   },
   "outputs": [],
   "source": [
    "identity = lambda x: x\n",
    "\n",
    "# index: 1 is binary tree index, 2 is bitmap index\n",
    "schema = {\n",
    "  'pk': {'type': 'str', 'convert': identity, 'index': None, 'values': None},\n",
    "  'ts': {'type': 'int', 'convert': identity, 'index': None, 'values': None},\n",
    "  'order': {'type': 'int', 'convert': int, 'index': 1, 'values': None},\n",
    "  'blarg': {'type': 'int', 'convert': int, 'index': 1, 'values': None},\n",
    "  'useless': {'type': 'int', 'convert': identity, 'index': 1, 'values': None},\n",
    "  'mean': {'type': 'float', 'convert': float, 'index': 1, 'values': None},\n",
    "  'std': {'type': 'float', 'convert': float, 'index': 1, 'values': None},\n",
    "  'vp': {'type': 'bool', 'convert': bool, 'index': 2, 'values': [True, False]},\n",
    "  'deleted': {'type': 'bool', 'convert': bool, 'index': 2, 'values': [True, False]}\n",
    "}"
   ]
  },
  {
   "cell_type": "code",
   "execution_count": 25,
   "metadata": {
    "collapsed": true
   },
   "outputs": [],
   "source": [
    "# Creating db\n",
    "db = PersistentDB(schema, 'pk', 100, db_name=db_name, data_dir=data_dir, commit_step=15)"
   ]
  },
  {
   "cell_type": "code",
   "execution_count": 26,
   "metadata": {
    "collapsed": false
   },
   "outputs": [
    {
     "name": "stdout",
     "output_type": "stream",
     "text": [
      "COMMITTING TO DISK\n",
      "COMMITTING TO DISK\n",
      "COMMITTING TO DISK\n"
     ]
    }
   ],
   "source": [
    "# Inserting ts\n",
    "for pk, t in tsdict.items():\n",
    "    db.insert_ts(pk, t)"
   ]
  },
  {
   "cell_type": "code",
   "execution_count": 27,
   "metadata": {
    "collapsed": true
   },
   "outputs": [],
   "source": [
    "# Inserting meta\n",
    "for pk, m in metadict.items():\n",
    "    db.upsert_meta(pk, m)"
   ]
  },
  {
   "cell_type": "code",
   "execution_count": 11,
   "metadata": {
    "collapsed": false
   },
   "outputs": [
    {
     "name": "stdout",
     "output_type": "stream",
     "text": [
      "50\n",
      "dict_keys(['ts-7', 'ts-21', 'ts-0', 'ts-1', 'ts-13', 'ts-22', 'ts-34', 'ts-48', 'ts-9', 'ts-38', 'ts-10', 'ts-28', 'ts-11', 'ts-8', 'ts-30', 'ts-3', 'ts-25', 'ts-35', 'ts-14', 'ts-46', 'ts-5', 'ts-18', 'ts-43', 'ts-41', 'ts-47', 'ts-27', 'ts-2', 'ts-20', 'ts-26', 'ts-39', 'ts-42', 'ts-15', 'ts-12', 'ts-45', 'ts-44', 'ts-23', 'ts-49', 'ts-31', 'ts-32', 'ts-17', 'ts-19', 'ts-6', 'ts-24', 'ts-29', 'ts-4', 'ts-37', 'ts-16', 'ts-33', 'ts-36', 'ts-40'])\n",
      "dict_values([(4, 0), (1604, 25), (3204, 50), (4804, 75), (6404, 100), (8004, 125), (9604, 150), (11204, 175), (12804, 200), (33604, 525), (54404, 850), (56004, 875), (17604, 275), (19204, 300), (20804, 325), (22404, 350), (24004, 375), (25604, 400), (27204, 425), (28804, 450), (30404, 475), (32004, 500), (49604, 775), (35204, 550), (36804, 575), (38404, 600), (40004, 625), (41604, 650), (43204, 675), (44804, 700), (46404, 725), (48004, 750), (16004, 250), (62404, 975), (51204, 800), (52804, 825), (14404, 225), (57604, 900), (59204, 925), (60804, 950), (64004, 1000), (65604, 1025), (67204, 1050), (68804, 1075), (70404, 1100), (72004, 1125), (73604, 1150), (75204, 1175), (76804, 1200), (78404, 1225)])\n"
     ]
    }
   ],
   "source": [
    "print(len(db.pks.keys()))\n",
    "print(db.pks.keys())\n",
    "print(db.pks.values())"
   ]
  },
  {
   "cell_type": "code",
   "execution_count": 12,
   "metadata": {
    "collapsed": false
   },
   "outputs": [
    {
     "name": "stdout",
     "output_type": "stream",
     "text": [
      "LOG\n",
      "51\n",
      "{'ts-7': (4, 0), 'ts-21': (1604, 25), 'ts-0': (3204, 50), 'ts-1': (4804, 75), 'ts-13': (6404, 100), 'ts-22': (8004, 125), 'ts-34': (9604, 150), 'ts-2': (40004, 625), 'ts-48': (11204, 175), 'ts-9': (12804, 200), 'ts-38': (33604, 525), 'ts-10': (54404, 850), 'ts-28': (56004, 875), 'ts-11': (17604, 275), 'ts-8': (19204, 300), 'ts-30': (20804, 325), 'ts-3': (22404, 350), 'ts-25': (24004, 375), 'ts-35': (25604, 400), 'ts-14': (27204, 425), 'ts-46': (28804, 450), 'ts-5': (30404, 475), 'ts-18': (32004, 500), 'ts-43': (49604, 775), 'ts-41': (35204, 550), 'ts-47': (36804, 575), 'ts-27': (38404, 600), '$COMMITED$': False, 'ts-20': (41604, 650), 'ts-26': (43204, 675), 'ts-39': (44804, 700), 'ts-42': (46404, 725), 'ts-15': (48004, 750), 'ts-12': (16004, 250), 'ts-45': (62404, 975), 'ts-44': (51204, 800), 'ts-23': (52804, 825), 'ts-49': (14404, 225), 'ts-31': (57604, 900), 'ts-32': (59204, 925), 'ts-17': (60804, 950), 'ts-19': (64004, 1000), 'ts-6': (65604, 1025), 'ts-24': (67204, 1050), 'ts-29': (68804, 1075), 'ts-4': (70404, 1100), 'ts-37': (72004, 1125), 'ts-16': (73604, 1150), 'ts-33': (75204, 1175), 'ts-36': (76804, 1200), 'ts-40': (78404, 1225)}\n",
      "INDEX\n",
      "50\n",
      "{'ts-7': (4, 0), 'ts-21': (1604, 25), 'ts-0': (3204, 50), 'ts-1': (4804, 75), 'ts-13': (6404, 100), 'ts-22': (8004, 125), 'ts-34': (9604, 150), 'ts-48': (11204, 175), 'ts-9': (12804, 200), 'ts-38': (33604, 525), 'ts-10': (54404, 850), 'ts-28': (56004, 875), 'ts-11': (17604, 275), 'ts-8': (19204, 300), 'ts-30': (20804, 325), 'ts-3': (22404, 350), 'ts-25': (24004, 375), 'ts-35': (25604, 400), 'ts-14': (27204, 425), 'ts-46': (28804, 450), 'ts-5': (30404, 475), 'ts-18': (32004, 500), 'ts-43': (49604, 775), 'ts-41': (35204, 550), 'ts-47': (36804, 575), 'ts-27': (38404, 600), 'ts-2': (40004, 625), 'ts-20': (41604, 650), 'ts-26': (43204, 675), 'ts-39': (44804, 700), 'ts-42': (46404, 725), 'ts-15': (48004, 750), 'ts-12': (16004, 250), 'ts-45': (62404, 975), 'ts-44': (51204, 800), 'ts-23': (52804, 825), 'ts-49': (14404, 225), 'ts-31': (57604, 900), 'ts-32': (59204, 925), 'ts-17': (60804, 950), 'ts-19': (64004, 1000), 'ts-6': (65604, 1025), 'ts-24': (67204, 1050), 'ts-29': (68804, 1075), 'ts-4': (70404, 1100), 'ts-37': (72004, 1125), 'ts-16': (73604, 1150), 'ts-33': (75204, 1175), 'ts-36': (76804, 1200), 'ts-40': (78404, 1225)}\n"
     ]
    }
   ],
   "source": [
    "# Inspecting log\n",
    "print('LOG')\n",
    "print(len(db.pks.log))\n",
    "print(db.pks.log)\n",
    "print('INDEX')\n",
    "print(len(db.pks.index))\n",
    "print(db.pks.index)"
   ]
  },
  {
   "cell_type": "code",
   "execution_count": 13,
   "metadata": {
    "collapsed": false
   },
   "outputs": [],
   "source": [
    "# Loading index from file\n",
    "file = db.pks.file\n",
    "with open(file, \"rb\", buffering=0) as fd:\n",
    "    index_load = pickle.load(fd)"
   ]
  },
  {
   "cell_type": "code",
   "execution_count": 14,
   "metadata": {
    "collapsed": false
   },
   "outputs": [
    {
     "data": {
      "text/plain": [
       "45"
      ]
     },
     "execution_count": 14,
     "metadata": {},
     "output_type": "execute_result"
    }
   ],
   "source": [
    "len(index_load)"
   ]
  },
  {
   "cell_type": "code",
   "execution_count": 15,
   "metadata": {
    "collapsed": true
   },
   "outputs": [],
   "source": [
    "# Closing db\n",
    "db.close()"
   ]
  },
  {
   "cell_type": "code",
   "execution_count": 16,
   "metadata": {
    "collapsed": false
   },
   "outputs": [
    {
     "ename": "ValueError",
     "evalue": "Database closed.",
     "output_type": "error",
     "traceback": [
      "\u001b[0;31m---------------------------------------------------------------------------\u001b[0m",
      "\u001b[0;31mValueError\u001b[0m                                Traceback (most recent call last)",
      "\u001b[0;32m<ipython-input-16-f09c6709a655>\u001b[0m in \u001b[0;36m<module>\u001b[0;34m()\u001b[0m\n\u001b[1;32m      1\u001b[0m \u001b[0;31m# Checking error checked\u001b[0m\u001b[0;34m\u001b[0m\u001b[0;34m\u001b[0m\u001b[0m\n\u001b[0;32m----> 2\u001b[0;31m \u001b[0mdb\u001b[0m\u001b[0;34m.\u001b[0m\u001b[0m_assert_not_closed\u001b[0m\u001b[0;34m(\u001b[0m\u001b[0;34m)\u001b[0m\u001b[0;34m\u001b[0m\u001b[0m\n\u001b[0m",
      "\u001b[0;32m/Users/nicolasdrizard/Documents/Course CSE/CS207/TimeDB/tsdb/persistent_db.py\u001b[0m in \u001b[0;36m_assert_not_closed\u001b[0;34m(self)\u001b[0m\n\u001b[1;32m    178\u001b[0m         '''\n\u001b[1;32m    179\u001b[0m         \u001b[0;32mif\u001b[0m \u001b[0mself\u001b[0m\u001b[0;34m.\u001b[0m\u001b[0mclosed\u001b[0m\u001b[0;34m:\u001b[0m\u001b[0;34m\u001b[0m\u001b[0m\n\u001b[0;32m--> 180\u001b[0;31m             \u001b[0;32mraise\u001b[0m \u001b[0mValueError\u001b[0m\u001b[0;34m(\u001b[0m\u001b[0;34m'Database closed.'\u001b[0m\u001b[0;34m)\u001b[0m\u001b[0;34m\u001b[0m\u001b[0m\n\u001b[0m\u001b[1;32m    181\u001b[0m \u001b[0;34m\u001b[0m\u001b[0m\n\u001b[1;32m    182\u001b[0m     \u001b[0;32mdef\u001b[0m \u001b[0m_init_indexes\u001b[0m\u001b[0;34m(\u001b[0m\u001b[0mself\u001b[0m\u001b[0;34m,\u001b[0m \u001b[0mfield\u001b[0m\u001b[0;34m,\u001b[0m \u001b[0mvalue\u001b[0m\u001b[0;34m)\u001b[0m\u001b[0;34m:\u001b[0m\u001b[0;34m\u001b[0m\u001b[0m\n",
      "\u001b[0;31mValueError\u001b[0m: Database closed."
     ]
    }
   ],
   "source": [
    "# Checking error checked\n",
    "db._assert_not_closed()"
   ]
  },
  {
   "cell_type": "code",
   "execution_count": 17,
   "metadata": {
    "collapsed": true
   },
   "outputs": [],
   "source": [
    "db = PersistentDB(schema, 'pk', 100, db_name=db_name, data_dir=data_dir, commit_step=15)"
   ]
  },
  {
   "cell_type": "code",
   "execution_count": 18,
   "metadata": {
    "collapsed": false
   },
   "outputs": [
    {
     "name": "stdout",
     "output_type": "stream",
     "text": [
      "LOG\n",
      "51\n",
      "{'ts-7': (4, 0), 'ts-21': (1604, 25), 'ts-0': (3204, 50), 'ts-1': (4804, 75), 'ts-13': (6404, 100), 'ts-22': (8004, 125), 'ts-34': (9604, 150), '$COMMITED$': True, 'ts-48': (11204, 175), 'ts-9': (12804, 200), 'ts-38': (33604, 525), 'ts-49': (14404, 225), 'ts-28': (56004, 875), 'ts-11': (17604, 275), 'ts-8': (19204, 300), 'ts-30': (20804, 325), 'ts-3': (22404, 350), 'ts-25': (24004, 375), 'ts-35': (25604, 400), 'ts-14': (27204, 425), 'ts-46': (28804, 450), 'ts-5': (30404, 475), 'ts-18': (32004, 500), 'ts-43': (49604, 775), 'ts-41': (35204, 550), 'ts-47': (36804, 575), 'ts-27': (38404, 600), 'ts-2': (40004, 625), 'ts-20': (41604, 650), 'ts-26': (43204, 675), 'ts-39': (44804, 700), 'ts-42': (46404, 725), 'ts-15': (48004, 750), 'ts-12': (16004, 250), 'ts-45': (62404, 975), 'ts-44': (51204, 800), 'ts-23': (52804, 825), 'ts-10': (54404, 850), 'ts-31': (57604, 900), 'ts-32': (59204, 925), 'ts-17': (60804, 950), 'ts-19': (64004, 1000), 'ts-6': (65604, 1025), 'ts-24': (67204, 1050), 'ts-29': (68804, 1075), 'ts-4': (70404, 1100), 'ts-37': (72004, 1125), 'ts-16': (73604, 1150), 'ts-33': (75204, 1175), 'ts-36': (76804, 1200), 'ts-40': (78404, 1225)}\n",
      "INDEX\n",
      "50\n",
      "{'ts-7': (4, 0), 'ts-21': (1604, 25), 'ts-0': (3204, 50), 'ts-1': (4804, 75), 'ts-13': (6404, 100), 'ts-22': (8004, 125), 'ts-34': (9604, 150), 'ts-48': (11204, 175), 'ts-9': (12804, 200), 'ts-10': (54404, 850), 'ts-28': (56004, 875), 'ts-11': (17604, 275), 'ts-8': (19204, 300), 'ts-30': (20804, 325), 'ts-3': (22404, 350), 'ts-25': (24004, 375), 'ts-35': (25604, 400), 'ts-14': (27204, 425), 'ts-46': (28804, 450), 'ts-5': (30404, 475), 'ts-18': (32004, 500), 'ts-38': (33604, 525), 'ts-41': (35204, 550), 'ts-47': (36804, 575), 'ts-27': (38404, 600), 'ts-2': (40004, 625), 'ts-20': (41604, 650), 'ts-26': (43204, 675), 'ts-39': (44804, 700), 'ts-42': (46404, 725), 'ts-15': (48004, 750), 'ts-12': (16004, 250), 'ts-43': (49604, 775), 'ts-44': (51204, 800), 'ts-23': (52804, 825), 'ts-49': (14404, 225), 'ts-31': (57604, 900), 'ts-32': (59204, 925), 'ts-17': (60804, 950), 'ts-45': (62404, 975), 'ts-19': (64004, 1000), 'ts-6': (65604, 1025), 'ts-24': (67204, 1050), 'ts-29': (68804, 1075), 'ts-4': (70404, 1100), 'ts-37': (72004, 1125), 'ts-16': (73604, 1150), 'ts-33': (75204, 1175), 'ts-36': (76804, 1200), 'ts-40': (78404, 1225)}\n"
     ]
    }
   ],
   "source": [
    "print('LOG')\n",
    "print(len(db.pks.log))\n",
    "print(db.pks.log)\n",
    "print('INDEX')\n",
    "print(len(db.pks.index))\n",
    "print(db.pks.index)"
   ]
  },
  {
   "cell_type": "code",
   "execution_count": 19,
   "metadata": {
    "collapsed": false
   },
   "outputs": [
    {
     "name": "stdout",
     "output_type": "stream",
     "text": [
      "50\n",
      "dict_keys(['ts-7', 'ts-21', 'ts-0', 'ts-1', 'ts-13', 'ts-22', 'ts-34', 'ts-48', 'ts-9', 'ts-10', 'ts-28', 'ts-11', 'ts-8', 'ts-30', 'ts-3', 'ts-25', 'ts-35', 'ts-14', 'ts-46', 'ts-5', 'ts-18', 'ts-38', 'ts-41', 'ts-47', 'ts-27', 'ts-2', 'ts-20', 'ts-26', 'ts-39', 'ts-42', 'ts-15', 'ts-12', 'ts-43', 'ts-44', 'ts-23', 'ts-49', 'ts-31', 'ts-32', 'ts-17', 'ts-45', 'ts-19', 'ts-6', 'ts-24', 'ts-29', 'ts-4', 'ts-37', 'ts-16', 'ts-33', 'ts-36', 'ts-40'])\n",
      "dict_values([(4, 0), (1604, 25), (3204, 50), (4804, 75), (6404, 100), (8004, 125), (9604, 150), (11204, 175), (12804, 200), (54404, 850), (56004, 875), (17604, 275), (19204, 300), (20804, 325), (22404, 350), (24004, 375), (25604, 400), (27204, 425), (28804, 450), (30404, 475), (32004, 500), (33604, 525), (35204, 550), (36804, 575), (38404, 600), (40004, 625), (41604, 650), (43204, 675), (44804, 700), (46404, 725), (48004, 750), (16004, 250), (49604, 775), (51204, 800), (52804, 825), (14404, 225), (57604, 900), (59204, 925), (60804, 950), (62404, 975), (64004, 1000), (65604, 1025), (67204, 1050), (68804, 1075), (70404, 1100), (72004, 1125), (73604, 1150), (75204, 1175), (76804, 1200), (78404, 1225)])\n"
     ]
    }
   ],
   "source": [
    "print(len(db.pks.keys()))\n",
    "print(db.pks.keys())\n",
    "print(db.pks.values())"
   ]
  },
  {
   "cell_type": "code",
   "execution_count": null,
   "metadata": {
    "collapsed": true
   },
   "outputs": [],
   "source": []
  }
 ],
 "metadata": {
  "kernelspec": {
   "display_name": "Python 3",
   "language": "python",
   "name": "python3"
  },
  "language_info": {
   "codemirror_mode": {
    "name": "ipython",
    "version": 3
   },
   "file_extension": ".py",
   "mimetype": "text/x-python",
   "name": "python",
   "nbconvert_exporter": "python",
   "pygments_lexer": "ipython3",
   "version": "3.5.1"
  }
 },
 "nbformat": 4,
 "nbformat_minor": 0
}
