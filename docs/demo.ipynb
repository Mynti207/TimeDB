{
 "cells": [
  {
   "cell_type": "code",
   "execution_count": 19,
   "metadata": {
    "collapsed": true
   },
   "outputs": [],
   "source": [
    "import sys # for gioia to load aiohttp - delete before finalizing\n",
    "sys.path.append('/Users/maggiori/anaconda/envs/py35/lib/python3.5/site-packages')"
   ]
  },
  {
   "cell_type": "code",
   "execution_count": 21,
   "metadata": {
    "collapsed": true
   },
   "outputs": [],
   "source": [
    "# to import modules locally without having installed the entire package\n",
    "# http://stackoverflow.com/questions/714063/importing-modules-from-parent-folder\n",
    "import os, sys, inspect\n",
    "currentdir = os.path.dirname(os.path.abspath(inspect.getfile(inspect.currentframe())))\n",
    "parentdir = os.path.dirname(currentdir)\n",
    "sys.path.insert(0,parentdir) "
   ]
  },
  {
   "cell_type": "code",
   "execution_count": 68,
   "metadata": {
    "collapsed": true
   },
   "outputs": [],
   "source": [
    "import subprocess\n",
    "import numpy as np\n",
    "from scipy.stats import norm\n",
    "import matplotlib.pyplot as plt\n",
    "%matplotlib inline"
   ]
  },
  {
   "cell_type": "markdown",
   "metadata": {},
   "source": [
    "# Time Series Database"
   ]
  },
  {
   "cell_type": "markdown",
   "metadata": {},
   "source": [
    "Summary\n",
    "========\n",
    "This package implements a persistent time series database with the following functionality:\n",
    "* Insert time series data. May be followed by running a pre-defined function, if previously specified.\n",
    "* Insert/update time series metadata.\n",
    "* Delete time series data and all associated metadata.\n",
    "* Perform select (query) of time series data and/or metadata.\n",
    "* Perform augmented select (query, followed by a pre-defined function) of time series data and/or metadata.\n",
    "* Add a trigger that will cause a pre-defined function to be run upon execution of a particular database operation (e.g. after adding a new time series).\n",
    "* Remove a trigger associated with a database operation and a pre-defined function.\n",
    "* Run a basic similarity search, to find the closest (most similar) time series in the database.\n",
    "* Run an enhanced iSAX tree-based similarity search."
   ]
  },
  {
   "cell_type": "markdown",
   "metadata": {},
   "source": [
    "Initialization\n",
    "========\n",
    "\n",
    "The time series database can be accessed through a web interface, which directly executes database operations via the webserver (REST API).\n",
    "\n",
    "Before running any database operations, you must:"
   ]
  },
  {
   "cell_type": "markdown",
   "metadata": {},
   "source": [
    "* Load the database server."
   ]
  },
  {
   "cell_type": "code",
   "execution_count": 27,
   "metadata": {
    "collapsed": false
   },
   "outputs": [],
   "source": [
    "# when running from the terminal\n",
    "# python go_server.py\n",
    "\n",
    "# here we load the server as a subprocess for demonstration purposes\n",
    "server = subprocess.Popen(['python', '../go_server.py'])"
   ]
  },
  {
   "cell_type": "markdown",
   "metadata": {},
   "source": [
    "* Load the database webserver."
   ]
  },
  {
   "cell_type": "code",
   "execution_count": 28,
   "metadata": {
    "collapsed": false
   },
   "outputs": [],
   "source": [
    "# when running from the terminal\n",
    "# python go_webserver.py\n",
    "\n",
    "# here we load the server as a subprocess for demonstration purposes\n",
    "webserver = subprocess.Popen(['python', '../go_webserver.py'])"
   ]
  },
  {
   "cell_type": "markdown",
   "metadata": {},
   "source": [
    "* Import the web interface and initialize it."
   ]
  },
  {
   "cell_type": "code",
   "execution_count": 29,
   "metadata": {
    "collapsed": true
   },
   "outputs": [],
   "source": [
    "from webserver import *"
   ]
  },
  {
   "cell_type": "code",
   "execution_count": 30,
   "metadata": {
    "collapsed": false
   },
   "outputs": [],
   "source": [
    "web_interface = WebInterface()"
   ]
  },
  {
   "cell_type": "markdown",
   "metadata": {},
   "source": [
    "The instructions below assume that these three steps have been carried out."
   ]
  },
  {
   "cell_type": "markdown",
   "metadata": {},
   "source": [
    "Database Operations\n",
    "=================="
   ]
  },
  {
   "cell_type": "markdown",
   "metadata": {},
   "source": [
    "Let's create some dummy data to aid in our demonstration. You will need to import the `timeseries` package to work with the TimeSeries format."
   ]
  },
  {
   "cell_type": "code",
   "execution_count": 37,
   "metadata": {
    "collapsed": true
   },
   "outputs": [],
   "source": [
    "from timeseries import *"
   ]
  },
  {
   "cell_type": "code",
   "execution_count": 32,
   "metadata": {
    "collapsed": true
   },
   "outputs": [],
   "source": [
    "def tsmaker(m, s, j):\n",
    "    '''\n",
    "    Helper function: randomly generates a time series for testing.\n",
    "\n",
    "    Parameters\n",
    "    ----------\n",
    "    m : float\n",
    "        Mean value for generating time series data\n",
    "    s : float\n",
    "        Standard deviation value for generating time series data\n",
    "    j : float\n",
    "        Quantifies the \"jitter\" to add to the time series data\n",
    "\n",
    "    Returns\n",
    "    -------\n",
    "    A time series and associated meta data.\n",
    "    '''\n",
    "\n",
    "    # generate metadata\n",
    "    meta = {}\n",
    "    meta['order'] = int(np.random.choice(\n",
    "        [-5, -4, -3, -2, -1, 0, 1, 2, 3, 4, 5]))\n",
    "    meta['blarg'] = int(np.random.choice([1, 2]))\n",
    "    meta['vp'] = False  # initialize vantage point indicator as negative\n",
    "\n",
    "    # generate time series data\n",
    "    t = np.arange(0.0, 1.0, 0.01)\n",
    "    v = norm.pdf(t, m, s) + j * np.random.randn(100)\n",
    "\n",
    "    # return time series and metadata\n",
    "    return meta, TimeSeries(t, v)"
   ]
  },
  {
   "cell_type": "code",
   "execution_count": 38,
   "metadata": {
    "collapsed": false
   },
   "outputs": [],
   "source": [
    "# a manageable number of test time series\n",
    "num_ts = 25\n",
    "mus = np.random.uniform(low=0.0, high=1.0, size=num_ts)\n",
    "sigs = np.random.uniform(low=0.05, high=0.4, size=num_ts)\n",
    "jits = np.random.uniform(low=0.05, high=0.2, size=num_ts)\n",
    "\n",
    "# initialize dictionaries for time series and their metadata\n",
    "tsdict = {}\n",
    "metadict = {}\n",
    "\n",
    "# fill dictionaries with randomly generated entries for database\n",
    "for i, m, s, j in zip(range(num_ts), mus, sigs, jits):\n",
    "    meta, tsrs = tsmaker(m, s, j)  # generate data\n",
    "    pk = \"ts-{}\".format(i)  # generate primary key\n",
    "    tsdict[pk] = tsrs  # store time series data\n",
    "    metadict[pk] = meta  # store metadata\n",
    "\n",
    "# for testing later on\n",
    "ts_keys = sorted(tsdict.keys())\n",
    "\n",
    "# randomly choose two time series as the vantage points\n",
    "num_vps = 2\n",
    "random_vps = np.random.choice(range(num_ts), size=num_vps, replace=False)\n",
    "vpkeys = [\"ts-{}\".format(i) for i in random_vps]\n",
    "\n",
    "# change the metadata for the vantage points to have meta['vp']=True\n",
    "for i in range(num_vps):\n",
    "    metadict[vpkeys[i]]['vp'] = True"
   ]
  },
  {
   "cell_type": "markdown",
   "metadata": {},
   "source": [
    "Insert Time Series\n",
    "------------------\n",
    "Inserts a new time series into the database. If any triggers are associated with time series insertion, then these are run and the results of their operations are also stored in the database."
   ]
  },
  {
   "cell_type": "code",
   "execution_count": 39,
   "metadata": {
    "collapsed": true
   },
   "outputs": [],
   "source": [
    "# TODO: add function signature"
   ]
  },
  {
   "cell_type": "code",
   "execution_count": 41,
   "metadata": {
    "collapsed": false
   },
   "outputs": [],
   "source": [
    "# insert all the time series\n",
    "for k in tsdict:\n",
    "    web_interface.insert_ts(k, tsdict[k])"
   ]
  },
  {
   "cell_type": "markdown",
   "metadata": {},
   "source": [
    "Upsert Metadata\n",
    "------------------\n",
    "Inserts or updates metadata associated with a time series."
   ]
  },
  {
   "cell_type": "code",
   "execution_count": null,
   "metadata": {
    "collapsed": true
   },
   "outputs": [],
   "source": [
    "# TODO: add function signature"
   ]
  },
  {
   "cell_type": "code",
   "execution_count": 42,
   "metadata": {
    "collapsed": true
   },
   "outputs": [],
   "source": [
    "# upsert the metadata\n",
    "for k in tsdict:\n",
    "    web_interface.upsert_meta(k, metadict[k])"
   ]
  },
  {
   "cell_type": "markdown",
   "metadata": {},
   "source": [
    "Delete Time Series\n",
    "------------------\n",
    "Deletes a time series and all associated metadata from the database."
   ]
  },
  {
   "cell_type": "code",
   "execution_count": 43,
   "metadata": {
    "collapsed": true
   },
   "outputs": [],
   "source": [
    "# TODO: add function signature"
   ]
  },
  {
   "cell_type": "code",
   "execution_count": 44,
   "metadata": {
    "collapsed": true
   },
   "outputs": [],
   "source": [
    "# delete an existing time series\n",
    "web_interface.delete_ts(vpkeys[0])"
   ]
  },
  {
   "cell_type": "code",
   "execution_count": 45,
   "metadata": {
    "collapsed": true
   },
   "outputs": [],
   "source": [
    "# add the time series back in\n",
    "web_interface.insert_ts(vpkeys[0], tsdict[vpkeys[0]])"
   ]
  },
  {
   "cell_type": "markdown",
   "metadata": {},
   "source": [
    "Select\n",
    "------------------\n",
    "Queries the database for time series and/or associated metadata."
   ]
  },
  {
   "cell_type": "code",
   "execution_count": null,
   "metadata": {
    "collapsed": true
   },
   "outputs": [],
   "source": [
    "# TODO: add function signature and examples"
   ]
  },
  {
   "cell_type": "code",
   "execution_count": 47,
   "metadata": {
    "collapsed": false
   },
   "outputs": [
    {
     "data": {
      "text/plain": [
       "OrderedDict([('ts-16', OrderedDict()),\n",
       "             ('ts-15', OrderedDict()),\n",
       "             ('ts-7', OrderedDict()),\n",
       "             ('ts-17', OrderedDict()),\n",
       "             ('ts-19', OrderedDict()),\n",
       "             ('ts-21', OrderedDict()),\n",
       "             ('ts-20', OrderedDict()),\n",
       "             ('ts-6', OrderedDict()),\n",
       "             ('ts-18', OrderedDict()),\n",
       "             ('ts-0', OrderedDict()),\n",
       "             ('ts-22', OrderedDict()),\n",
       "             ('ts-9', OrderedDict()),\n",
       "             ('ts-12', OrderedDict()),\n",
       "             ('ts-10', OrderedDict()),\n",
       "             ('ts-13', OrderedDict()),\n",
       "             ('ts-14', OrderedDict()),\n",
       "             ('ts-3', OrderedDict()),\n",
       "             ('ts-1', OrderedDict()),\n",
       "             ('ts-2', OrderedDict()),\n",
       "             ('ts-4', OrderedDict()),\n",
       "             ('ts-24', OrderedDict()),\n",
       "             ('ts-5', OrderedDict()),\n",
       "             ('ts-8', OrderedDict()),\n",
       "             ('ts-11', OrderedDict()),\n",
       "             ('ts-23', OrderedDict())])"
      ]
     },
     "execution_count": 47,
     "metadata": {},
     "output_type": "execute_result"
    }
   ],
   "source": [
    "# select all database entries; no metadata fields\n",
    "results = web_interface.select()\n",
    "results"
   ]
  },
  {
   "cell_type": "code",
   "execution_count": 48,
   "metadata": {
    "collapsed": false
   },
   "outputs": [
    {
     "data": {
      "text/plain": [
       "OrderedDict([('ts-16',\n",
       "              OrderedDict([('blarg', 2),\n",
       "                           ('pk', 'ts-16'),\n",
       "                           ('vp', False),\n",
       "                           ('order', 1)])),\n",
       "             ('ts-15',\n",
       "              OrderedDict([('blarg', 2),\n",
       "                           ('pk', 'ts-15'),\n",
       "                           ('vp', False),\n",
       "                           ('order', 3)])),\n",
       "             ('ts-7',\n",
       "              OrderedDict([('blarg', 2),\n",
       "                           ('pk', 'ts-7'),\n",
       "                           ('vp', False),\n",
       "                           ('order', 2)])),\n",
       "             ('ts-17',\n",
       "              OrderedDict([('blarg', 1),\n",
       "                           ('pk', 'ts-17'),\n",
       "                           ('vp', False),\n",
       "                           ('order', -4)])),\n",
       "             ('ts-19',\n",
       "              OrderedDict([('blarg', 2),\n",
       "                           ('pk', 'ts-19'),\n",
       "                           ('vp', False),\n",
       "                           ('order', 1)])),\n",
       "             ('ts-21',\n",
       "              OrderedDict([('blarg', 2),\n",
       "                           ('pk', 'ts-21'),\n",
       "                           ('vp', False),\n",
       "                           ('order', -2)])),\n",
       "             ('ts-20',\n",
       "              OrderedDict([('blarg', 2),\n",
       "                           ('pk', 'ts-20'),\n",
       "                           ('vp', False),\n",
       "                           ('order', 1)])),\n",
       "             ('ts-6',\n",
       "              OrderedDict([('blarg', 2),\n",
       "                           ('pk', 'ts-6'),\n",
       "                           ('vp', False),\n",
       "                           ('order', -2)])),\n",
       "             ('ts-18',\n",
       "              OrderedDict([('blarg', 1),\n",
       "                           ('pk', 'ts-18'),\n",
       "                           ('vp', False),\n",
       "                           ('order', 3)])),\n",
       "             ('ts-0', OrderedDict([('pk', 'ts-0')])),\n",
       "             ('ts-22',\n",
       "              OrderedDict([('blarg', 2),\n",
       "                           ('pk', 'ts-22'),\n",
       "                           ('vp', False),\n",
       "                           ('order', 1)])),\n",
       "             ('ts-9',\n",
       "              OrderedDict([('blarg', 1),\n",
       "                           ('pk', 'ts-9'),\n",
       "                           ('vp', False),\n",
       "                           ('order', -5)])),\n",
       "             ('ts-12',\n",
       "              OrderedDict([('blarg', 2),\n",
       "                           ('pk', 'ts-12'),\n",
       "                           ('vp', False),\n",
       "                           ('order', -1)])),\n",
       "             ('ts-10',\n",
       "              OrderedDict([('blarg', 1),\n",
       "                           ('pk', 'ts-10'),\n",
       "                           ('vp', False),\n",
       "                           ('order', 1)])),\n",
       "             ('ts-13',\n",
       "              OrderedDict([('blarg', 2),\n",
       "                           ('pk', 'ts-13'),\n",
       "                           ('vp', False),\n",
       "                           ('order', -4)])),\n",
       "             ('ts-14',\n",
       "              OrderedDict([('blarg', 2),\n",
       "                           ('pk', 'ts-14'),\n",
       "                           ('vp', False),\n",
       "                           ('order', -1)])),\n",
       "             ('ts-3',\n",
       "              OrderedDict([('blarg', 2),\n",
       "                           ('pk', 'ts-3'),\n",
       "                           ('vp', False),\n",
       "                           ('order', 4)])),\n",
       "             ('ts-1',\n",
       "              OrderedDict([('blarg', 1),\n",
       "                           ('pk', 'ts-1'),\n",
       "                           ('vp', False),\n",
       "                           ('order', 2)])),\n",
       "             ('ts-2',\n",
       "              OrderedDict([('blarg', 1),\n",
       "                           ('pk', 'ts-2'),\n",
       "                           ('vp', False),\n",
       "                           ('order', -1)])),\n",
       "             ('ts-4',\n",
       "              OrderedDict([('blarg', 1),\n",
       "                           ('pk', 'ts-4'),\n",
       "                           ('vp', False),\n",
       "                           ('order', 1)])),\n",
       "             ('ts-24',\n",
       "              OrderedDict([('blarg', 2),\n",
       "                           ('pk', 'ts-24'),\n",
       "                           ('vp', False),\n",
       "                           ('order', 4)])),\n",
       "             ('ts-5',\n",
       "              OrderedDict([('blarg', 2),\n",
       "                           ('pk', 'ts-5'),\n",
       "                           ('vp', False),\n",
       "                           ('order', 5)])),\n",
       "             ('ts-8',\n",
       "              OrderedDict([('blarg', 1),\n",
       "                           ('pk', 'ts-8'),\n",
       "                           ('vp', True),\n",
       "                           ('order', 5)])),\n",
       "             ('ts-11',\n",
       "              OrderedDict([('blarg', 2),\n",
       "                           ('pk', 'ts-11'),\n",
       "                           ('vp', False),\n",
       "                           ('order', -5)])),\n",
       "             ('ts-23',\n",
       "              OrderedDict([('blarg', 1),\n",
       "                           ('pk', 'ts-23'),\n",
       "                           ('vp', False),\n",
       "                           ('order', 4)]))])"
      ]
     },
     "execution_count": 48,
     "metadata": {},
     "output_type": "execute_result"
    }
   ],
   "source": [
    "# select all database entries; all metadata fields\n",
    "results = web_interface.select(fields=[])\n",
    "results"
   ]
  },
  {
   "cell_type": "code",
   "execution_count": 49,
   "metadata": {
    "collapsed": false
   },
   "outputs": [
    {
     "data": {
      "text/plain": [
       "OrderedDict([('ts-23',\n",
       "              OrderedDict([('blarg', 1),\n",
       "                           ('pk', 'ts-23'),\n",
       "                           ('vp', False),\n",
       "                           ('order', 4)]))])"
      ]
     },
     "execution_count": 49,
     "metadata": {},
     "output_type": "execute_result"
    }
   ],
   "source": [
    "# select a specific time series; all metadata fields\n",
    "results = web_interface.select(md={'pk': 'ts-23'}, fields=[])\n",
    "results"
   ]
  },
  {
   "cell_type": "markdown",
   "metadata": {},
   "source": [
    "Augmented Select\n",
    "------------------\n",
    "Queries the database for time series and/or associated metadata, then executes a pre-specified function on the data that is returned."
   ]
  },
  {
   "cell_type": "code",
   "execution_count": 50,
   "metadata": {
    "collapsed": true
   },
   "outputs": [],
   "source": [
    "# TODO: add function signature"
   ]
  },
  {
   "cell_type": "code",
   "execution_count": 56,
   "metadata": {
    "collapsed": false
   },
   "outputs": [],
   "source": [
    "# NOT WORKING?? DEBUG\n",
    "# # return a specific time series and the result of the 'stats' function (mean and standard deviation)\n",
    "# results = web_interface.augmented_select(\n",
    "#     proc='stats', target=['mean', 'std'], arg=None, md={'pk': 'ts-23'}, additional=None)\n",
    "# results"
   ]
  },
  {
   "cell_type": "markdown",
   "metadata": {},
   "source": [
    "Add Trigger\n",
    "------------------\n",
    "Adds a trigger that will cause a pre-defined function to be run upon execution of a particular database operation. For example, additional metadata fields may be calculated upon insertion of new time series data."
   ]
  },
  {
   "cell_type": "code",
   "execution_count": 57,
   "metadata": {
    "collapsed": true
   },
   "outputs": [],
   "source": [
    "# TODO: add function signature"
   ]
  },
  {
   "cell_type": "code",
   "execution_count": 61,
   "metadata": {
    "collapsed": true
   },
   "outputs": [],
   "source": [
    "web_interface.add_trigger('stats', 'insert_ts', ['mean', 'std'], None)"
   ]
  },
  {
   "cell_type": "markdown",
   "metadata": {},
   "source": [
    "Remove Trigger\n",
    "------------------\n",
    "Removes a trigger associated with a database operation and a pre-defined function."
   ]
  },
  {
   "cell_type": "code",
   "execution_count": 2,
   "metadata": {
    "collapsed": true
   },
   "outputs": [],
   "source": [
    "# TODO: add function signature"
   ]
  },
  {
   "cell_type": "code",
   "execution_count": 59,
   "metadata": {
    "collapsed": true
   },
   "outputs": [],
   "source": [
    "web_interface.remove_trigger('stats', 'insert_ts')"
   ]
  },
  {
   "cell_type": "markdown",
   "metadata": {},
   "source": [
    "Basic Similarity Search\n",
    "------------------\n",
    "Runs a basic similarity search, to find the closest (most similar) time series in the database."
   ]
  },
  {
   "cell_type": "markdown",
   "metadata": {},
   "source": [
    "Let's create another dummy time series and search for the closest (most similar) time series in the database."
   ]
  },
  {
   "cell_type": "code",
   "execution_count": 62,
   "metadata": {
    "collapsed": true
   },
   "outputs": [],
   "source": [
    "_, query = tsmaker(np.random.uniform(low=0.0, high=1.0),\n",
    "                   np.random.uniform(low=0.05, high=0.4),\n",
    "                   np.random.uniform(low=0.05, high=0.2))"
   ]
  },
  {
   "cell_type": "code",
   "execution_count": null,
   "metadata": {
    "collapsed": true
   },
   "outputs": [],
   "source": [
    "# TODO: add function signature"
   ]
  },
  {
   "cell_type": "code",
   "execution_count": 65,
   "metadata": {
    "collapsed": false
   },
   "outputs": [
    {
     "data": {
      "text/plain": [
       "OrderedDict([('ts-0', 0.40337446203874106)])"
      ]
     },
     "execution_count": 65,
     "metadata": {},
     "output_type": "execute_result"
    }
   ],
   "source": [
    "results = web_interface.similarity_search(query, 1)\n",
    "results"
   ]
  },
  {
   "cell_type": "code",
   "execution_count": 69,
   "metadata": {
    "collapsed": false
   },
   "outputs": [
    {
     "data": {
      "image/png": "[encoded data removed]",
      "text/plain": [
       "<matplotlib.figure.Figure at 0x10ed52390>"
      ]
     },
     "metadata": {},
     "output_type": "display_data"
    }
   ],
   "source": [
    "# visualize the results\n",
    "plt.plot(query, label='Input TS')\n",
    "plt.plot(tsdict[list(results.keys())[0]], label='Closest TS')\n",
    "plt.legend(loc='best')\n",
    "plt.show()"
   ]
  },
  {
   "cell_type": "markdown",
   "metadata": {},
   "source": [
    "Enhanced Similarity Search\n",
    "------------------\n",
    "Runs an enhanced iSAX tree-based similarity search, which runs faster than the basic similarity search."
   ]
  },
  {
   "cell_type": "code",
   "execution_count": null,
   "metadata": {
    "collapsed": true
   },
   "outputs": [],
   "source": [
    "# TODO: add function signature"
   ]
  },
  {
   "cell_type": "code",
   "execution_count": null,
   "metadata": {
    "collapsed": true
   },
   "outputs": [],
   "source": [
    "# TODO: examples"
   ]
  },
  {
   "cell_type": "markdown",
   "metadata": {},
   "source": [
    "Termination\n",
    "========\n",
    "\n",
    "Remember to terminate any outstanding server and webserver processes."
   ]
  },
  {
   "cell_type": "code",
   "execution_count": 70,
   "metadata": {
    "collapsed": true
   },
   "outputs": [],
   "source": [
    "# remember to terminate any outstanding processes\n",
    "server.terminate()\n",
    "webserver.terminate()"
   ]
  },
  {
   "cell_type": "code",
   "execution_count": null,
   "metadata": {
    "collapsed": true
   },
   "outputs": [],
   "source": []
  }
 ],
 "metadata": {
  "kernelspec": {
   "display_name": "Python 3",
   "language": "python",
   "name": "python3"
  },
  "language_info": {
   "codemirror_mode": {
    "name": "ipython",
    "version": 3
   },
   "file_extension": ".py",
   "mimetype": "text/x-python",
   "name": "python",
   "nbconvert_exporter": "python",
   "pygments_lexer": "ipython3",
   "version": "3.5.1"
  }
 },
 "nbformat": 4,
 "nbformat_minor": 0
}
