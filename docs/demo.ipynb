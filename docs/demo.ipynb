{
 "cells": [
  {
   "cell_type": "code",
   "execution_count": 1,
   "metadata": {
    "collapsed": true
   },
   "outputs": [],
   "source": [
    "import sys # for gioia to load aiohttp\n",
    "sys.path.append('/Users/maggiori/anaconda/envs/py35/lib/python3.5/site-packages')"
   ]
  },
  {
   "cell_type": "code",
   "execution_count": 2,
   "metadata": {
    "collapsed": true
   },
   "outputs": [],
   "source": [
    "# to import modules locally without having installed the entire package\n",
    "# http://stackoverflow.com/questions/714063/importing-modules-from-parent-folder\n",
    "import os, sys, inspect\n",
    "currentdir = os.path.dirname(os.path.abspath(inspect.getfile(inspect.currentframe())))\n",
    "parentdir = os.path.dirname(currentdir)\n",
    "sys.path.insert(0, parentdir) "
   ]
  },
  {
   "cell_type": "code",
   "execution_count": 51,
   "metadata": {
    "collapsed": true
   },
   "outputs": [],
   "source": [
    "import subprocess\n",
    "import numpy as np\n",
    "from scipy.stats import norm\n",
    "import matplotlib.pyplot as plt\n",
    "%matplotlib inline\n",
    "import seaborn as sns\n",
    "sns.set_style('white')\n",
    "sns.set_context('notebook')"
   ]
  },
  {
   "cell_type": "markdown",
   "metadata": {},
   "source": [
    "# Time Series Database"
   ]
  },
  {
   "cell_type": "markdown",
   "metadata": {},
   "source": [
    "## Summary\n",
    "\n",
    "This package implements a persistent time series database with the following functionality:\n",
    "* Insert time series data. May be followed by running a pre-defined function (trigger), if previously specified.\n",
    "* Upsert (insert/update) time series metadata.\n",
    "* Delete time series data and all associated metadata.\n",
    "* Perform select (query) of time series data and/or metadata.\n",
    "* Perform augmented select (query, followed by a pre-defined function) of time series data and/or metadata.\n",
    "* Add a trigger that will cause a pre-defined function to be run upon execution of a particular database operation (e.g. after adding a new time series).\n",
    "* Remove a trigger associated with a database operation and a pre-defined function.\n",
    "* Run a basic similarity search, to find the closest (most similar) time series in the database.\n",
    "* Run an iSAX tree-based similarity search, which returns a faster but only returns an approximate result."
   ]
  },
  {
   "cell_type": "markdown",
   "metadata": {},
   "source": [
    "## Initialization\n",
    "\n",
    "The time series database can be accessed through a web interface, which directly executes database operations via the webserver (REST API).\n",
    "\n",
    "Before running any database operations, you must:"
   ]
  },
  {
   "cell_type": "markdown",
   "metadata": {},
   "source": [
    "* Load the database server."
   ]
  },
  {
   "cell_type": "code",
   "execution_count": 4,
   "metadata": {
    "collapsed": false
   },
   "outputs": [],
   "source": [
    "# when running from the terminal\n",
    "# python go_server.py\n",
    "\n",
    "# here we load the server as a subprocess for demonstration purposes\n",
    "server = subprocess.Popen(['python', '../go_server.py'])"
   ]
  },
  {
   "cell_type": "markdown",
   "metadata": {},
   "source": [
    "* Load the database webserver."
   ]
  },
  {
   "cell_type": "code",
   "execution_count": 5,
   "metadata": {
    "collapsed": false
   },
   "outputs": [],
   "source": [
    "# when running from the terminal\n",
    "# python go_webserver.py\n",
    "\n",
    "# here we load the server as a subprocess for demonstration purposes\n",
    "webserver = subprocess.Popen(['python', '../go_webserver.py'])"
   ]
  },
  {
   "cell_type": "markdown",
   "metadata": {},
   "source": [
    "* Import the web interface and initialize it."
   ]
  },
  {
   "cell_type": "code",
   "execution_count": 6,
   "metadata": {
    "collapsed": false
   },
   "outputs": [
    {
     "name": "stderr",
     "output_type": "stream",
     "text": [
      "Generating LALR tables\n"
     ]
    }
   ],
   "source": [
    "from webserver import *"
   ]
  },
  {
   "cell_type": "code",
   "execution_count": 7,
   "metadata": {
    "collapsed": false
   },
   "outputs": [],
   "source": [
    "web_interface = WebInterface()"
   ]
  },
  {
   "cell_type": "markdown",
   "metadata": {},
   "source": [
    "The instructions below assume that these three steps have been carried out."
   ]
  },
  {
   "cell_type": "markdown",
   "metadata": {},
   "source": [
    "## Database Operations"
   ]
  },
  {
   "cell_type": "markdown",
   "metadata": {},
   "source": [
    "Let's create some dummy data to aid in our demonstration. You will need to import the `timeseries` package to work with the TimeSeries format."
   ]
  },
  {
   "cell_type": "code",
   "execution_count": 8,
   "metadata": {
    "collapsed": true
   },
   "outputs": [],
   "source": [
    "from timeseries import *"
   ]
  },
  {
   "cell_type": "code",
   "execution_count": 9,
   "metadata": {
    "collapsed": true
   },
   "outputs": [],
   "source": [
    "def tsmaker(m, s, j):\n",
    "    '''\n",
    "    Helper function: randomly generates a time series for testing.\n",
    "\n",
    "    Parameters\n",
    "    ----------\n",
    "    m : float\n",
    "        Mean value for generating time series data\n",
    "    s : float\n",
    "        Standard deviation value for generating time series data\n",
    "    j : float\n",
    "        Quantifies the \"jitter\" to add to the time series data\n",
    "\n",
    "    Returns\n",
    "    -------\n",
    "    A time series and associated meta data.\n",
    "    '''\n",
    "\n",
    "    # generate metadata\n",
    "    meta = {}\n",
    "    meta['order'] = int(np.random.choice(\n",
    "        [-5, -4, -3, -2, -1, 0, 1, 2, 3, 4, 5]))\n",
    "    meta['blarg'] = int(np.random.choice([1, 2]))\n",
    "    meta['vp'] = False  # initialize vantage point indicator as negative\n",
    "\n",
    "    # generate time series data\n",
    "    t = np.arange(0.0, 1.0, 0.01)\n",
    "    v = norm.pdf(t, m, s) + j * np.random.randn(100)\n",
    "\n",
    "    # return time series and metadata\n",
    "    return meta, TimeSeries(t, v)"
   ]
  },
  {
   "cell_type": "code",
   "execution_count": 10,
   "metadata": {
    "collapsed": false
   },
   "outputs": [],
   "source": [
    "# a manageable number of sample time series\n",
    "num_ts = 10\n",
    "mus = np.random.uniform(low=0.0, high=1.0, size=num_ts)\n",
    "sigs = np.random.uniform(low=0.05, high=0.4, size=num_ts)\n",
    "jits = np.random.uniform(low=0.05, high=0.2, size=num_ts)\n",
    "\n",
    "# initialize dictionaries for time series and their metadata\n",
    "primary_keys = []\n",
    "tsdict = {}\n",
    "metadict = {}\n",
    "\n",
    "# fill dictionaries with randomly generated entries for database\n",
    "for i, m, s, j in zip(range(num_ts), mus, sigs, jits):\n",
    "    meta, tsrs = tsmaker(m, s, j)  # generate data\n",
    "    pk = \"ts-{}\".format(i)  # generate primary key\n",
    "    primary_keys.append(pk) # keep track of all primary keys\n",
    "    tsdict[pk] = tsrs  # store time series data\n",
    "    metadict[pk] = meta  # store metadata"
   ]
  },
  {
   "cell_type": "markdown",
   "metadata": {},
   "source": [
    "### Insert Time Series\n",
    "\n",
    "Inserts a new time series into the database. If any triggers are associated with time series insertion, then these are run and the results of their operations are also stored in the database."
   ]
  },
  {
   "cell_type": "markdown",
   "metadata": {
    "collapsed": true
   },
   "source": [
    "**Function signature:**\n",
    "\n",
    "`insert_ts(pk, ts)`\n",
    "\n",
    "`Parameters`  \n",
    "`----------`  \n",
    "`pk : any hashable type`  \n",
    "`Primary key for the new database entry`  \n",
    "`ts : TimeSeries`  \n",
    "`Time series to be inserted into the database`  \n",
    "\n",
    "`Returns`  \n",
    "`-------`  \n",
    "`Result of the database operation (or error message).`  \n",
    "\n",
    "**Examples:**"
   ]
  },
  {
   "cell_type": "code",
   "execution_count": 11,
   "metadata": {
    "collapsed": false,
    "scrolled": false
   },
   "outputs": [],
   "source": [
    "# insert all the time series\n",
    "for k in primary_keys:\n",
    "    web_interface.insert_ts(pk=k, ts=tsdict[k])"
   ]
  },
  {
   "cell_type": "code",
   "execution_count": 12,
   "metadata": {
    "collapsed": false
   },
   "outputs": [
    {
     "data": {
      "text/plain": [
       "OrderedDict([('ts-0', OrderedDict([('pk', 'ts-0')])),\n",
       "             ('ts-1', OrderedDict([('pk', 'ts-1')])),\n",
       "             ('ts-2', OrderedDict([('pk', 'ts-2')])),\n",
       "             ('ts-3', OrderedDict([('pk', 'ts-3')])),\n",
       "             ('ts-4', OrderedDict([('pk', 'ts-4')])),\n",
       "             ('ts-5', OrderedDict([('pk', 'ts-5')])),\n",
       "             ('ts-6', OrderedDict([('pk', 'ts-6')])),\n",
       "             ('ts-7', OrderedDict([('pk', 'ts-7')])),\n",
       "             ('ts-8', OrderedDict([('pk', 'ts-8')])),\n",
       "             ('ts-9', OrderedDict([('pk', 'ts-9')]))])"
      ]
     },
     "execution_count": 12,
     "metadata": {},
     "output_type": "execute_result"
    }
   ],
   "source": [
    "# check what is in the database - should only be time series data\n",
    "web_interface.select(fields=[], additional={'sort_by': '+pk'})"
   ]
  },
  {
   "cell_type": "code",
   "execution_count": 13,
   "metadata": {
    "collapsed": false
   },
   "outputs": [
    {
     "data": {
      "text/plain": [
       "'OK'"
      ]
     },
     "execution_count": 13,
     "metadata": {},
     "output_type": "execute_result"
    }
   ],
   "source": [
    "# successfully inserting data will yield a success code\n",
    "web_interface.insert_ts(pk='sample1', ts=tsdict[primary_keys[0]])"
   ]
  },
  {
   "cell_type": "code",
   "execution_count": 14,
   "metadata": {
    "collapsed": false
   },
   "outputs": [
    {
     "data": {
      "text/plain": [
       "'ERROR: INVALID_KEY'"
      ]
     },
     "execution_count": 14,
     "metadata": {},
     "output_type": "execute_result"
    }
   ],
   "source": [
    "# errors will yield an error code (e.g. attempting to insert the same primary key twice) \n",
    "web_interface.insert_ts(pk='sample1', ts=tsdict[primary_keys[0]])"
   ]
  },
  {
   "cell_type": "code",
   "execution_count": 15,
   "metadata": {
    "collapsed": false
   },
   "outputs": [
    {
     "data": {
      "text/plain": [
       "'OK'"
      ]
     },
     "execution_count": 15,
     "metadata": {},
     "output_type": "execute_result"
    }
   ],
   "source": [
    "# let's remove the test time series\n",
    "web_interface.delete_ts('sample1')"
   ]
  },
  {
   "cell_type": "markdown",
   "metadata": {},
   "source": [
    "### Upsert Metadata\n",
    "\n",
    "Inserts or updates metadata associated with a time series."
   ]
  },
  {
   "cell_type": "markdown",
   "metadata": {
    "collapsed": true
   },
   "source": [
    "**Function signature:**\n",
    "\n",
    "`upsert_meta(pk, md)`\n",
    "\n",
    "`Parameters`  \n",
    "`----------`  \n",
    "`pk : any hashable type`  \n",
    "`Primary key for the  database entry`  \n",
    "`md : dictionary`  \n",
    "`Metadata to be upserted into the database`\n",
    "\n",
    "`Returns`  \n",
    "`-------`  \n",
    "`Result of the database operation (or error message).`  \n",
    "\n",
    "**Examples:**"
   ]
  },
  {
   "cell_type": "code",
   "execution_count": 16,
   "metadata": {
    "collapsed": true
   },
   "outputs": [],
   "source": [
    "# upsert the metadata\n",
    "for k in primary_keys:\n",
    "    web_interface.upsert_meta(k, metadict[k])"
   ]
  },
  {
   "cell_type": "code",
   "execution_count": 17,
   "metadata": {
    "collapsed": false
   },
   "outputs": [
    {
     "data": {
      "text/plain": [
       "OrderedDict([('ts-0',\n",
       "              OrderedDict([('blarg', 2),\n",
       "                           ('order', 1),\n",
       "                           ('vp', False),\n",
       "                           ('pk', 'ts-0')])),\n",
       "             ('ts-1',\n",
       "              OrderedDict([('blarg', 2),\n",
       "                           ('order', -5),\n",
       "                           ('vp', False),\n",
       "                           ('pk', 'ts-1')])),\n",
       "             ('ts-2',\n",
       "              OrderedDict([('blarg', 1),\n",
       "                           ('order', 0),\n",
       "                           ('vp', False),\n",
       "                           ('pk', 'ts-2')])),\n",
       "             ('ts-3',\n",
       "              OrderedDict([('blarg', 1),\n",
       "                           ('order', 1),\n",
       "                           ('vp', False),\n",
       "                           ('pk', 'ts-3')])),\n",
       "             ('ts-4',\n",
       "              OrderedDict([('blarg', 2),\n",
       "                           ('order', -2),\n",
       "                           ('vp', False),\n",
       "                           ('pk', 'ts-4')]))])"
      ]
     },
     "execution_count": 17,
     "metadata": {},
     "output_type": "execute_result"
    }
   ],
   "source": [
    "# let's check the first five entries in the database - they should include metadata\n",
    "web_interface.select(fields=[], additional={'sort_by': '+pk', 'limit': 5})"
   ]
  },
  {
   "cell_type": "markdown",
   "metadata": {},
   "source": [
    "### Delete Time Series\n",
    "\n",
    "Deletes a time series and all associated metadata from the database."
   ]
  },
  {
   "cell_type": "markdown",
   "metadata": {
    "collapsed": true
   },
   "source": [
    "**Function signature:**\n",
    "\n",
    "`delete_ts(pk)`\n",
    "\n",
    "`Parameters`  \n",
    "`----------`  \n",
    "`pk : any hashable type`  \n",
    "`Primary key for the database entry to be deleted`  \n",
    "\n",
    "`Returns`  \n",
    "`-------`  \n",
    "`Result of the database operation (or error message).`  \n",
    "\n",
    "**Examples:**"
   ]
  },
  {
   "cell_type": "code",
   "execution_count": 18,
   "metadata": {
    "collapsed": false
   },
   "outputs": [
    {
     "data": {
      "text/plain": [
       "'ts-0'"
      ]
     },
     "execution_count": 18,
     "metadata": {},
     "output_type": "execute_result"
    }
   ],
   "source": [
    "# example primary key to delete\n",
    "primary_keys[0]"
   ]
  },
  {
   "cell_type": "code",
   "execution_count": 19,
   "metadata": {
    "collapsed": false
   },
   "outputs": [
    {
     "data": {
      "text/plain": [
       "'OK'"
      ]
     },
     "execution_count": 19,
     "metadata": {},
     "output_type": "execute_result"
    }
   ],
   "source": [
    "# delete an existing time series\n",
    "web_interface.delete_ts(primary_keys[0])"
   ]
  },
  {
   "cell_type": "code",
   "execution_count": 20,
   "metadata": {
    "collapsed": false
   },
   "outputs": [
    {
     "data": {
      "text/plain": [
       "OrderedDict([('ts-1', OrderedDict()),\n",
       "             ('ts-2', OrderedDict()),\n",
       "             ('ts-3', OrderedDict()),\n",
       "             ('ts-4', OrderedDict()),\n",
       "             ('ts-5', OrderedDict()),\n",
       "             ('ts-6', OrderedDict()),\n",
       "             ('ts-7', OrderedDict()),\n",
       "             ('ts-8', OrderedDict()),\n",
       "             ('ts-9', OrderedDict())])"
      ]
     },
     "execution_count": 20,
     "metadata": {},
     "output_type": "execute_result"
    }
   ],
   "source": [
    "# check what is in the database - should not include the deleted key\n",
    "web_interface.select(additional={'sort_by': '+pk'})"
   ]
  },
  {
   "cell_type": "code",
   "execution_count": 21,
   "metadata": {
    "collapsed": false
   },
   "outputs": [
    {
     "data": {
      "text/plain": [
       "'OK'"
      ]
     },
     "execution_count": 21,
     "metadata": {},
     "output_type": "execute_result"
    }
   ],
   "source": [
    "# add the time series and metadata back in\n",
    "web_interface.insert_ts(primary_keys[0], tsdict[primary_keys[0]])\n",
    "web_interface.upsert_meta(primary_keys[0], metadict[primary_keys[0]])"
   ]
  },
  {
   "cell_type": "code",
   "execution_count": 22,
   "metadata": {
    "collapsed": false
   },
   "outputs": [
    {
     "data": {
      "text/plain": [
       "OrderedDict([('ts-0', OrderedDict()),\n",
       "             ('ts-1', OrderedDict()),\n",
       "             ('ts-2', OrderedDict()),\n",
       "             ('ts-3', OrderedDict()),\n",
       "             ('ts-4', OrderedDict()),\n",
       "             ('ts-5', OrderedDict()),\n",
       "             ('ts-6', OrderedDict()),\n",
       "             ('ts-7', OrderedDict()),\n",
       "             ('ts-8', OrderedDict()),\n",
       "             ('ts-9', OrderedDict())])"
      ]
     },
     "execution_count": 22,
     "metadata": {},
     "output_type": "execute_result"
    }
   ],
   "source": [
    "# check what is in the database - should include the newly added key\n",
    "web_interface.select(additional={'sort_by': '+pk'})"
   ]
  },
  {
   "cell_type": "markdown",
   "metadata": {},
   "source": [
    "### Select\n",
    "\n",
    "Queries the database for time series and/or associated metadata."
   ]
  },
  {
   "cell_type": "markdown",
   "metadata": {
    "collapsed": true
   },
   "source": [
    "**Function signature:**\n",
    "\n",
    "`select(md={}, fields=None, additional=None)`\n",
    "\n",
    "`Parameters`  \n",
    "`----------`  \n",
    "`md : dictionary (default={})`  \n",
    "`Criteria to apply to metadata`  \n",
    "`fields : list (default=None)`  \n",
    "`     List of fields to return`  \n",
    "`additional : dictionary (default=None)`  \n",
    "`     Additional criteria (e.g. 'sort_by' and 'limit')`\n",
    "\n",
    "`Returns`  \n",
    "`-------`  \n",
    "`Query results (or error message).`\n",
    "\n",
    "**Additional search criteria:**  \n",
    "* `sort_by`: Sorts the query results in either ascending or descending order. Use `+` to denote ascending order and `-` to denote descending order.  \n",
    "e.g. `{'sort_by': '+pk'}`; `{'sort_by': '-order'}`\n",
    "* `limit`: Caps the number of fields that are returned when used in conjunction with `sort_by`.  \n",
    "e.g. `{'sort_by': '+pk', 'limit': 5}` for the top 5 primary keys\n",
    "\n",
    "**Examples:**"
   ]
  },
  {
   "cell_type": "code",
   "execution_count": 23,
   "metadata": {
    "collapsed": false
   },
   "outputs": [
    {
     "data": {
      "text/plain": [
       "OrderedDict([('ts-0', OrderedDict()),\n",
       "             ('ts-1', OrderedDict()),\n",
       "             ('ts-2', OrderedDict()),\n",
       "             ('ts-3', OrderedDict()),\n",
       "             ('ts-4', OrderedDict()),\n",
       "             ('ts-5', OrderedDict()),\n",
       "             ('ts-6', OrderedDict()),\n",
       "             ('ts-7', OrderedDict()),\n",
       "             ('ts-8', OrderedDict()),\n",
       "             ('ts-9', OrderedDict())])"
      ]
     },
     "execution_count": 23,
     "metadata": {},
     "output_type": "execute_result"
    }
   ],
   "source": [
    "# select all database entries; no metadata fields\n",
    "web_interface.select(additional={'sort_by': '+pk'})"
   ]
  },
  {
   "cell_type": "code",
   "execution_count": 24,
   "metadata": {
    "collapsed": false
   },
   "outputs": [
    {
     "data": {
      "text/plain": [
       "OrderedDict([('ts-0',\n",
       "              OrderedDict([('blarg', 2),\n",
       "                           ('order', 1),\n",
       "                           ('vp', False),\n",
       "                           ('pk', 'ts-0')])),\n",
       "             ('ts-1',\n",
       "              OrderedDict([('blarg', 2),\n",
       "                           ('order', -5),\n",
       "                           ('vp', False),\n",
       "                           ('pk', 'ts-1')])),\n",
       "             ('ts-2',\n",
       "              OrderedDict([('blarg', 1),\n",
       "                           ('order', 0),\n",
       "                           ('vp', False),\n",
       "                           ('pk', 'ts-2')])),\n",
       "             ('ts-3',\n",
       "              OrderedDict([('blarg', 1),\n",
       "                           ('order', 1),\n",
       "                           ('vp', False),\n",
       "                           ('pk', 'ts-3')])),\n",
       "             ('ts-4',\n",
       "              OrderedDict([('blarg', 2),\n",
       "                           ('order', -2),\n",
       "                           ('vp', False),\n",
       "                           ('pk', 'ts-4')])),\n",
       "             ('ts-5',\n",
       "              OrderedDict([('blarg', 1),\n",
       "                           ('order', 0),\n",
       "                           ('vp', False),\n",
       "                           ('pk', 'ts-5')])),\n",
       "             ('ts-6',\n",
       "              OrderedDict([('blarg', 1),\n",
       "                           ('order', 2),\n",
       "                           ('vp', False),\n",
       "                           ('pk', 'ts-6')])),\n",
       "             ('ts-7',\n",
       "              OrderedDict([('blarg', 1),\n",
       "                           ('order', -5),\n",
       "                           ('vp', False),\n",
       "                           ('pk', 'ts-7')])),\n",
       "             ('ts-8',\n",
       "              OrderedDict([('blarg', 2),\n",
       "                           ('order', 2),\n",
       "                           ('vp', False),\n",
       "                           ('pk', 'ts-8')])),\n",
       "             ('ts-9',\n",
       "              OrderedDict([('blarg', 1),\n",
       "                           ('order', 5),\n",
       "                           ('vp', False),\n",
       "                           ('pk', 'ts-9')]))])"
      ]
     },
     "execution_count": 24,
     "metadata": {},
     "output_type": "execute_result"
    }
   ],
   "source": [
    "# select all database entries; all metadata fields\n",
    "web_interface.select(fields=[], additional={'sort_by': '+pk'})"
   ]
  },
  {
   "cell_type": "code",
   "execution_count": 25,
   "metadata": {
    "collapsed": false
   },
   "outputs": [
    {
     "data": {
      "text/plain": [
       "OrderedDict([('ts-0',\n",
       "              OrderedDict([('blarg', 2),\n",
       "                           ('order', 1),\n",
       "                           ('vp', False),\n",
       "                           ('pk', 'ts-0')]))])"
      ]
     },
     "execution_count": 25,
     "metadata": {},
     "output_type": "execute_result"
    }
   ],
   "source": [
    "# select a specific time series; all metadata fields\n",
    "web_interface.select(md={'pk': 'ts-0'}, fields=[])"
   ]
  },
  {
   "cell_type": "markdown",
   "metadata": {},
   "source": [
    "### Augmented Select\n",
    "\n",
    "Queries the database for time series and/or associated metadata, then executes a pre-specified function on the data that is returned.  \n",
    "Note: the result of the function is not stored in the database."
   ]
  },
  {
   "cell_type": "markdown",
   "metadata": {
    "collapsed": true
   },
   "source": [
    "**Function signature:**\n",
    "\n",
    "`augmented_select(proc, target, arg=None, md={}, additional=None)`\n",
    "\n",
    "`Parameters`  \n",
    "`----------`  \n",
    "`proc : string`  \n",
    "`Name of the function to run when the trigger is met`  \n",
    "`target : string`  \n",
    "`Field names used to identify the results of the function.`  \n",
    "`arg : string (default=None)`  \n",
    "`Possible additional arguments (e.g. time series for similarity search)`  \n",
    "`md : dictionary (default={})`  \n",
    "`Criteria to apply to metadata`  \n",
    "`additional : dictionary (default=None)`  \n",
    "`Additional criteria ('sort_by' and 'order')`  \n",
    "\n",
    "`Returns`  \n",
    "`-------`  \n",
    "`Query results (or error message).`\n",
    "\n",
    "**Additional search criteria:**  \n",
    "* `sort_by`: Sorts the query results in either ascending or descending order. Use `+` to denote ascending order and `-` to denote descending order.  \n",
    "e.g. `{'sort_by': '+pk'}`; `{'sort_by': '-order'}`\n",
    "* `limit`: Caps the number of fields that are returned when used in conjunction with `sort_by`.  \n",
    "e.g. `{'sort_by': '+pk', 'limit': 5}` for the top 5 primary keys\n",
    "\n",
    "**Available trigger functions:**  \n",
    "* `corr`: Calculates the distance between two time series, using the normalize kernelized cross-correlation metric. Required argument: a TimeSeries object.  \n",
    "* `stats`: Calculates the mean and standard deviation of time series values. No arguments required.\n",
    "\n",
    "**Examples:**"
   ]
  },
  {
   "cell_type": "code",
   "execution_count": 26,
   "metadata": {
    "collapsed": false
   },
   "outputs": [
    {
     "data": {
      "text/plain": [
       "OrderedDict([('ts-0',\n",
       "              OrderedDict([('mean', 0.5896691113487319),\n",
       "                           ('std', 0.9285911473288382)]))])"
      ]
     },
     "execution_count": 26,
     "metadata": {},
     "output_type": "execute_result"
    }
   ],
   "source": [
    "# return a specific time series and the result of the 'stats' function (mean and standard deviation)\n",
    "web_interface.augmented_select(\n",
    "    proc='stats', target=['mean', 'std'], arg=None, md={'pk': 'ts-0'}, additional=None)"
   ]
  },
  {
   "cell_type": "markdown",
   "metadata": {},
   "source": [
    "### Add Trigger\n",
    "\n",
    "Adds a trigger that will cause a pre-defined function to be run upon execution of a particular database operation. For example, additional metadata fields may be calculated upon insertion of new time series data."
   ]
  },
  {
   "cell_type": "markdown",
   "metadata": {
    "collapsed": true
   },
   "source": [
    "**Function signature:**\n",
    "\n",
    "`add_trigger(proc, onwhat, target, arg=None)`\n",
    "\n",
    "`Parameters`  \n",
    "`----------`  \n",
    "`proc : string`  \n",
    "`Name of the function to run when the trigger is hit`  \n",
    "`onwhat : string`  \n",
    "`Operation that triggers the function (e.g. 'insert_ts')`  \n",
    "`target : string`  \n",
    "`Array of field names to which to apply the results of the function`  \n",
    "`arg : string (default=None)`  \n",
    "`Possible additional arguments for the function`  \n",
    "\n",
    "`Returns`  \n",
    "`-------`  \n",
    "`Result of the database operation (or error message).`  \n",
    "\n",
    "\n",
    "**Available trigger functions:**  \n",
    "* `corr`: Calculates the distance between two time series, using the normalize kernelized cross-correlation metric. Required argument: a TimeSeries object.  \n",
    "* `stats`: Calculates the mean and standard deviation of time series values. No arguments required.\n",
    "\n",
    "**Examples:**"
   ]
  },
  {
   "cell_type": "code",
   "execution_count": 27,
   "metadata": {
    "collapsed": false
   },
   "outputs": [
    {
     "data": {
      "text/plain": [
       "'OK'"
      ]
     },
     "execution_count": 27,
     "metadata": {},
     "output_type": "execute_result"
    }
   ],
   "source": [
    "# add trigger\n",
    "web_interface.add_trigger('stats', 'insert_ts', ['mean', 'std'], None)"
   ]
  },
  {
   "cell_type": "code",
   "execution_count": 28,
   "metadata": {
    "collapsed": false
   },
   "outputs": [
    {
     "data": {
      "text/plain": [
       "'OK'"
      ]
     },
     "execution_count": 28,
     "metadata": {},
     "output_type": "execute_result"
    }
   ],
   "source": [
    "# add a new time series with the trigger (note: not adding metadata)\n",
    "web_interface.insert_ts('test', tsdict[primary_keys[0]])"
   ]
  },
  {
   "cell_type": "code",
   "execution_count": 29,
   "metadata": {
    "collapsed": false
   },
   "outputs": [
    {
     "data": {
      "text/plain": [
       "OrderedDict([('test',\n",
       "              OrderedDict([('mean', 0.5896691113487319),\n",
       "                           ('std', 0.9285911473288382),\n",
       "                           ('pk', 'test')]))])"
      ]
     },
     "execution_count": 29,
     "metadata": {},
     "output_type": "execute_result"
    }
   ],
   "source": [
    "# inspect the results of the trigger - should include mean and std fields\n",
    "web_interface.select(md={'pk': 'test'}, fields=[])"
   ]
  },
  {
   "cell_type": "code",
   "execution_count": 30,
   "metadata": {
    "collapsed": false
   },
   "outputs": [
    {
     "data": {
      "text/plain": [
       "'OK'"
      ]
     },
     "execution_count": 30,
     "metadata": {},
     "output_type": "execute_result"
    }
   ],
   "source": [
    "# delete back out\n",
    "web_interface.delete_ts('test')"
   ]
  },
  {
   "cell_type": "markdown",
   "metadata": {},
   "source": [
    "### Remove Trigger\n",
    "\n",
    "Removes a trigger associated with a database operation and a pre-defined function."
   ]
  },
  {
   "cell_type": "markdown",
   "metadata": {
    "collapsed": true
   },
   "source": [
    "**Function signature:**\n",
    "\n",
    "`remove_trigger(proc, onwhat, target=None)`\n",
    "\n",
    "`Parameters`  \n",
    "`----------`  \n",
    "`proc : string`  \n",
    "`Name of the function that is run when the trigger is hit`  \n",
    "`onwhat : string`  \n",
    "`Operation that triggers the function (e.g. 'insert_ts')`  \n",
    "`target : string`  \n",
    "`Array of field names to which the results are applied. If not provided, all triggers associated with the database operation and function will be removed.`  \n",
    "\n",
    "`Returns`  \n",
    "`-------`  \n",
    "`Result of the database operation (or error message).`  \n",
    "\n",
    "**Examples:**"
   ]
  },
  {
   "cell_type": "code",
   "execution_count": 31,
   "metadata": {
    "collapsed": false
   },
   "outputs": [
    {
     "data": {
      "text/plain": [
       "'OK'"
      ]
     },
     "execution_count": 31,
     "metadata": {},
     "output_type": "execute_result"
    }
   ],
   "source": [
    "# remove trigger\n",
    "web_interface.remove_trigger('stats', 'insert_ts')"
   ]
  },
  {
   "cell_type": "code",
   "execution_count": 32,
   "metadata": {
    "collapsed": false
   },
   "outputs": [
    {
     "data": {
      "text/plain": [
       "'OK'"
      ]
     },
     "execution_count": 32,
     "metadata": {},
     "output_type": "execute_result"
    }
   ],
   "source": [
    "# add a new time series without the trigger (note: not adding metadata)\n",
    "web_interface.insert_ts('sample2', tsdict[primary_keys[0]])"
   ]
  },
  {
   "cell_type": "code",
   "execution_count": 33,
   "metadata": {
    "collapsed": false
   },
   "outputs": [
    {
     "data": {
      "text/plain": [
       "OrderedDict()"
      ]
     },
     "execution_count": 33,
     "metadata": {},
     "output_type": "execute_result"
    }
   ],
   "source": [
    "# inspect the results of the trigger - should not include mean and std fields\n",
    "web_interface.select(md={'pk': 'test'}, fields=[])"
   ]
  },
  {
   "cell_type": "code",
   "execution_count": 34,
   "metadata": {
    "collapsed": false
   },
   "outputs": [
    {
     "data": {
      "text/plain": [
       "'OK'"
      ]
     },
     "execution_count": 34,
     "metadata": {},
     "output_type": "execute_result"
    }
   ],
   "source": [
    "# delete back out\n",
    "web_interface.delete_ts('sample2')"
   ]
  },
  {
   "cell_type": "markdown",
   "metadata": {
    "collapsed": true
   },
   "source": [
    "### Add Vantage Point\n",
    "\n",
    "TODO: Description"
   ]
  },
  {
   "cell_type": "code",
   "execution_count": null,
   "metadata": {
    "collapsed": true
   },
   "outputs": [],
   "source": [
    "# TODO: function signature"
   ]
  },
  {
   "cell_type": "code",
   "execution_count": 36,
   "metadata": {
    "collapsed": false
   },
   "outputs": [],
   "source": [
    "# randomly choose time series as vantage points\n",
    "num_vps = 5\n",
    "random_vps = np.random.choice(range(num_ts), size=num_vps, replace=False)\n",
    "vpkeys = ['ts-{}'.format(i) for i in random_vps]"
   ]
  },
  {
   "cell_type": "code",
   "execution_count": 37,
   "metadata": {
    "collapsed": true
   },
   "outputs": [],
   "source": [
    "# add the time series as vantage points\n",
    "for i in range(num_vps):\n",
    "    web_interface.insert_vp(vpkeys[i])"
   ]
  },
  {
   "cell_type": "markdown",
   "metadata": {},
   "source": [
    "### Delete Vantage Point\n",
    "\n",
    "TODO: Description"
   ]
  },
  {
   "cell_type": "code",
   "execution_count": null,
   "metadata": {
    "collapsed": true
   },
   "outputs": [],
   "source": [
    "# TODO: function signature"
   ]
  },
  {
   "cell_type": "code",
   "execution_count": 38,
   "metadata": {
    "collapsed": false
   },
   "outputs": [
    {
     "data": {
      "text/plain": [
       "'OK'"
      ]
     },
     "execution_count": 38,
     "metadata": {},
     "output_type": "execute_result"
    }
   ],
   "source": [
    "# delete one of the vantage points\n",
    "web_interface.delete_vp(vpkeys[0])"
   ]
  },
  {
   "cell_type": "code",
   "execution_count": 39,
   "metadata": {
    "collapsed": false
   },
   "outputs": [
    {
     "data": {
      "text/plain": [
       "'OK'"
      ]
     },
     "execution_count": 39,
     "metadata": {},
     "output_type": "execute_result"
    }
   ],
   "source": [
    "# add it back in\n",
    "web_interface.insert_vp(vpkeys[0])"
   ]
  },
  {
   "cell_type": "markdown",
   "metadata": {},
   "source": [
    "### Vantage Point Similarity Search\n",
    "\n",
    "Runs a vantage point similarity search, to find the closest (most similar) time series in the database."
   ]
  },
  {
   "cell_type": "markdown",
   "metadata": {},
   "source": [
    "**Function signature:**\n",
    "\n",
    "`similarity_search(self, query, top=1)`\n",
    "\n",
    "`Parameters`  \n",
    "`----------`  \n",
    "`query : TimeSeries`  \n",
    "`The time series being compared to those in the database`  \n",
    "`top : int`  \n",
    "`The number of closest time series to return (default=1)`\n",
    "\n",
    "`Returns`  \n",
    "`-------`  \n",
    "`Primary key and distance to the closest time series (or error message if database operation fails).`\n",
    "\n",
    "**Examples:**"
   ]
  },
  {
   "cell_type": "code",
   "execution_count": 41,
   "metadata": {
    "collapsed": false
   },
   "outputs": [
    {
     "data": {
      "text/plain": [
       "OrderedDict([('ts-0', 0.0)])"
      ]
     },
     "execution_count": 41,
     "metadata": {},
     "output_type": "execute_result"
    }
   ],
   "source": [
    "# run similarity search on a time series already in the database\n",
    "# should return the same time series\n",
    "web_interface.vp_similarity_search(tsdict[primary_keys[0]], 1)"
   ]
  },
  {
   "cell_type": "code",
   "execution_count": 42,
   "metadata": {
    "collapsed": true
   },
   "outputs": [],
   "source": [
    "# create dummy time series for demonstration purposes\n",
    "_, query = tsmaker(np.random.uniform(low=0.0, high=1.0),\n",
    "                   np.random.uniform(low=0.05, high=0.4),\n",
    "                   np.random.uniform(low=0.05, high=0.2))"
   ]
  },
  {
   "cell_type": "code",
   "execution_count": 46,
   "metadata": {
    "collapsed": false
   },
   "outputs": [
    {
     "data": {
      "text/plain": [
       "OrderedDict([('ts-3', 0.30757807270254484)])"
      ]
     },
     "execution_count": 46,
     "metadata": {},
     "output_type": "execute_result"
    }
   ],
   "source": [
    "results = web_interface.vp_similarity_search(query, 1)\n",
    "results"
   ]
  },
  {
   "cell_type": "code",
   "execution_count": 53,
   "metadata": {
    "collapsed": false
   },
   "outputs": [
    {
     "data": {
      "image/png": "[encoded data removed]",
      "text/plain": [
       "<matplotlib.figure.Figure at 0x109fd40b8>"
      ]
     },
     "metadata": {},
     "output_type": "display_data"
    }
   ],
   "source": [
    "# visualize the results\n",
    "plt.plot(query, label='Query TS')\n",
    "plt.plot(tsdict[list(results.keys())[0]], label='Closest TS')\n",
    "plt.legend(loc='best')\n",
    "plt.xticks([])\n",
    "plt.show()"
   ]
  },
  {
   "cell_type": "markdown",
   "metadata": {},
   "source": [
    "### Approximate Similarity Search\n",
    "\n",
    "Runs an iSAX tree-based similarity search, which returns a faster but only returns an approximate result."
   ]
  },
  {
   "cell_type": "code",
   "execution_count": 48,
   "metadata": {
    "collapsed": true
   },
   "outputs": [],
   "source": [
    "# TODO: add function signature"
   ]
  },
  {
   "cell_type": "code",
   "execution_count": 49,
   "metadata": {
    "collapsed": true
   },
   "outputs": [],
   "source": [
    "# TODO: examples"
   ]
  },
  {
   "cell_type": "markdown",
   "metadata": {},
   "source": [
    "## Termination\n",
    "\n",
    "Remember to terminate any outstanding processes."
   ]
  },
  {
   "cell_type": "code",
   "execution_count": 50,
   "metadata": {
    "collapsed": true
   },
   "outputs": [],
   "source": [
    "server.terminate()\n",
    "webserver.terminate()\n",
    "web_interface = None"
   ]
  },
  {
   "cell_type": "code",
   "execution_count": null,
   "metadata": {
    "collapsed": true
   },
   "outputs": [],
   "source": []
  }
 ],
 "metadata": {
  "kernelspec": {
   "display_name": "Python 3",
   "language": "python",
   "name": "python3"
  },
  "language_info": {
   "codemirror_mode": {
    "name": "ipython",
    "version": 3
   },
   "file_extension": ".py",
   "mimetype": "text/x-python",
   "name": "python",
   "nbconvert_exporter": "python",
   "pygments_lexer": "ipython3",
   "version": "3.5.1"
  }
 },
 "nbformat": 4,
 "nbformat_minor": 0
}
