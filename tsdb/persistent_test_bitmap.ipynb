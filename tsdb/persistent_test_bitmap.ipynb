{
 "cells": [
  {
   "cell_type": "code",
   "execution_count": 1,
   "metadata": {
    "collapsed": true
   },
   "outputs": [],
   "source": [
    "# for gioia's python build\n",
    "import sys\n",
    "sys.path.append('/Users/maggiori/anaconda/envs/py35/lib/python3.5/site-packages')"
   ]
  },
  {
   "cell_type": "code",
   "execution_count": 2,
   "metadata": {
    "collapsed": true
   },
   "outputs": [],
   "source": [
    "import numpy as np"
   ]
  },
  {
   "cell_type": "code",
   "execution_count": 3,
   "metadata": {
    "collapsed": true
   },
   "outputs": [],
   "source": [
    "# to import modules locally without having installed the entire package\n",
    "# http://stackoverflow.com/questions/714063/importing-modules-from-parent-folder\n",
    "import os, sys, inspect\n",
    "currentdir = os.path.dirname(os.path.abspath(inspect.getfile(inspect.currentframe())))\n",
    "parentdir = os.path.dirname(currentdir)\n",
    "sys.path.insert(0, parentdir)"
   ]
  },
  {
   "cell_type": "code",
   "execution_count": 4,
   "metadata": {
    "collapsed": false
   },
   "outputs": [],
   "source": [
    "from tsdb import PersistentDB\n",
    "from tsdb import BitMapIndex\n",
    "from timeseries import TimeSeries"
   ]
  },
  {
   "cell_type": "code",
   "execution_count": 5,
   "metadata": {
    "collapsed": false
   },
   "outputs": [],
   "source": [
    "# synthetic data\n",
    "t = np.array([1, 1.5, 2, 2.5, 10, 11, 12])\n",
    "v1 = np.array([10, 12, -11, 1.5, 10, 13, 17])\n",
    "v2 = np.array([8, 12, -11, 1.5, 10, 13, 17])\n",
    "a1 = TimeSeries(t, v1)\n",
    "a2 = TimeSeries(t, v2)"
   ]
  },
  {
   "cell_type": "code",
   "execution_count": 6,
   "metadata": {
    "collapsed": true
   },
   "outputs": [],
   "source": [
    "identity = lambda x: x\n",
    "\n",
    "# index: 1 is binary tree index, 2 is bitmap index\n",
    "schema = {\n",
    "  'pk':         {'type': 'str', 'convert': identity,   'index': None, 'values': None},\n",
    "  'ts':         {'type': 'int', 'convert': identity,   'index': None, 'values': None},\n",
    "  'order':      {'type': 'int', 'convert': int,        'index': 1, 'values': None},\n",
    "  'blarg':      {'type': 'int', 'convert': int,        'index': 1, 'values': None},\n",
    "  'useless':    {'type': 'int', 'convert': identity,   'index': 1, 'values': None},\n",
    "  'mean':       {'type': 'float', 'convert': float,    'index': 1, 'values': None},\n",
    "  'std':        {'type': 'float', 'convert': float,    'index': 1, 'values': None},\n",
    "  'vp':         {'type': 'bool', 'convert': bool,      'index': 2, 'values': [True, False]},\n",
    "  'deleted':    {'type': 'bool', 'convert': bool,      'index': 2, 'values': [True, False]}\n",
    "}"
   ]
  },
  {
   "cell_type": "code",
   "execution_count": 7,
   "metadata": {
    "collapsed": false
   },
   "outputs": [],
   "source": [
    "# Delete any default db present (otherwise the db creation will load\n",
    "# the previous one...)\n",
    "filelist = [\"db_files/\" + f for f in os.listdir(\"db_files/\")\n",
    "            if f[:7] == 'default']\n",
    "for f in filelist:\n",
    "    os.remove(f)"
   ]
  },
  {
   "cell_type": "code",
   "execution_count": 8,
   "metadata": {
    "collapsed": false
   },
   "outputs": [
    {
     "name": "stdout",
     "output_type": "stream",
     "text": [
      "After init pks:  {}\n"
     ]
    }
   ],
   "source": [
    "# create persistent db\n",
    "ddb = PersistentDB(schema, 'pk', len(t))"
   ]
  },
  {
   "cell_type": "code",
   "execution_count": 9,
   "metadata": {
    "collapsed": false
   },
   "outputs": [
    {
     "name": "stdout",
     "output_type": "stream",
     "text": [
      "Before insert, state of pks:  {}\n",
      "After insert, state of pks:  {'pk1': (4, 0)}\n"
     ]
    }
   ],
   "source": [
    "ddb.insert_ts('pk1', a1)"
   ]
  },
  {
   "cell_type": "code",
   "execution_count": 10,
   "metadata": {
    "collapsed": false
   },
   "outputs": [],
   "source": [
    "ddb.upsert_meta('pk1', {'order': 1, 'blarg': 2})"
   ]
  },
  {
   "cell_type": "code",
   "execution_count": 11,
   "metadata": {
    "collapsed": false
   },
   "outputs": [
    {
     "name": "stdout",
     "output_type": "stream",
     "text": [
      "Before insert, state of pks:  {'pk1': (4, 0)}\n",
      "After insert, state of pks:  {'pk2': (116, 25), 'pk1': (4, 0)}\n"
     ]
    }
   ],
   "source": [
    "ddb.insert_ts('pk2', a2)"
   ]
  },
  {
   "cell_type": "code",
   "execution_count": 12,
   "metadata": {
    "collapsed": false
   },
   "outputs": [],
   "source": [
    "ddb.upsert_meta('pk2', {'order': 2, 'blarg': 2})"
   ]
  },
  {
   "cell_type": "code",
   "execution_count": 13,
   "metadata": {
    "collapsed": false
   },
   "outputs": [
    {
     "data": {
      "text/plain": [
       "{'blarg': <tsdb.indexes.BinTreeIndex at 0x105e701d0>,\n",
       " 'deleted': <tsdb.indexes.BitMapIndex at 0x105e70710>,\n",
       " 'mean': <tsdb.indexes.BinTreeIndex at 0x105e70048>,\n",
       " 'order': <tsdb.indexes.BinTreeIndex at 0x105e70ba8>,\n",
       " 'std': <tsdb.indexes.BinTreeIndex at 0x105e70fd0>,\n",
       " 'useless': <tsdb.indexes.BinTreeIndex at 0x105e70e80>,\n",
       " 'vp': <tsdb.indexes.BitMapIndex at 0x105e70b00>}"
      ]
     },
     "execution_count": 13,
     "metadata": {},
     "output_type": "execute_result"
    }
   ],
   "source": [
    "ddb.indexes"
   ]
  },
  {
   "cell_type": "code",
   "execution_count": 14,
   "metadata": {
    "collapsed": false
   },
   "outputs": [
    {
     "name": "stdout",
     "output_type": "stream",
     "text": [
      "std [(0.0, {'pk2', 'pk1'})]\n",
      "deleted [(False, {'pk2', 'pk1'}), (True, set())]\n",
      "mean [(0.0, {'pk2', 'pk1'})]\n",
      "useless [(0, {'pk2', 'pk1'})]\n",
      "vp [(False, {'pk2', 'pk1'}), (True, set())]\n",
      "order [(0, set()), (1, {'pk1'}), (2, {'pk2'})]\n",
      "blarg [(0, set()), (2, {'pk2', 'pk1'})]\n"
     ]
    }
   ],
   "source": [
    "# print metadata\n",
    "for field, index in ddb.indexes.items():\n",
    "    print(field, index.items())"
   ]
  },
  {
   "cell_type": "code",
   "execution_count": 15,
   "metadata": {
    "collapsed": false
   },
   "outputs": [
    {
     "data": {
      "text/plain": [
       "dict_keys(['pk2', 'pk1'])"
      ]
     },
     "execution_count": 15,
     "metadata": {},
     "output_type": "execute_result"
    }
   ],
   "source": [
    "ddb.pks.keys()"
   ]
  },
  {
   "cell_type": "code",
   "execution_count": 16,
   "metadata": {
    "collapsed": false
   },
   "outputs": [
    {
     "data": {
      "text/plain": [
       "dict_keys(['pk2', 'pk1'])"
      ]
     },
     "execution_count": 16,
     "metadata": {},
     "output_type": "execute_result"
    }
   ],
   "source": [
    "ddb.pks.keys()"
   ]
  },
  {
   "cell_type": "code",
   "execution_count": 17,
   "metadata": {
    "collapsed": false
   },
   "outputs": [
    {
     "data": {
      "text/plain": [
       "(['pk1'],\n",
       " [{'blarg': 2,\n",
       "   'mean': 0.0,\n",
       "   'order': 1,\n",
       "   'pk': 'pk1',\n",
       "   'std': 0.0,\n",
       "   'useless': 0,\n",
       "   'vp': False}])"
      ]
     },
     "execution_count": 17,
     "metadata": {},
     "output_type": "execute_result"
    }
   ],
   "source": [
    "ddb.select({'pk': 'pk1'}, [], None)"
   ]
  },
  {
   "cell_type": "code",
   "execution_count": 18,
   "metadata": {
    "collapsed": false
   },
   "outputs": [
    {
     "data": {
      "text/plain": [
       "(['pk2'],\n",
       " [{'blarg': 2,\n",
       "   'mean': 0.0,\n",
       "   'order': 2,\n",
       "   'pk': 'pk2',\n",
       "   'std': 0.0,\n",
       "   'useless': 0,\n",
       "   'vp': False}])"
      ]
     },
     "execution_count": 18,
     "metadata": {},
     "output_type": "execute_result"
    }
   ],
   "source": [
    "ddb.select({'pk': 'pk2'}, [], None)"
   ]
  },
  {
   "cell_type": "code",
   "execution_count": 19,
   "metadata": {
    "collapsed": false
   },
   "outputs": [],
   "source": [
    "ddb.delete_ts('pk1')"
   ]
  },
  {
   "cell_type": "code",
   "execution_count": 20,
   "metadata": {
    "collapsed": false
   },
   "outputs": [
    {
     "name": "stdout",
     "output_type": "stream",
     "text": [
      "Before insert, state of pks:  {'pk2': (116, 25)}\n",
      "After insert, state of pks:  {'pk2': (116, 25), 'pk1': (228, 50)}\n"
     ]
    }
   ],
   "source": [
    "ddb.insert_ts('pk1', a1)"
   ]
  },
  {
   "cell_type": "code",
   "execution_count": 21,
   "metadata": {
    "collapsed": false
   },
   "outputs": [
    {
     "name": "stdout",
     "output_type": "stream",
     "text": [
      "deleted\n",
      "False {'pk2', 'pk1'}\n",
      "True set()\n",
      "-----\n",
      "vp\n",
      "False {'pk2', 'pk1'}\n",
      "True set()\n",
      "-----\n"
     ]
    }
   ],
   "source": [
    "# print metadata\n",
    "for field, index in ddb.indexes.items():\n",
    "    if isinstance(index, BitMapIndex):\n",
    "        print(field)\n",
    "        for k in index.keys():\n",
    "            print(k, index[k])\n",
    "        print('-----')"
   ]
  },
  {
   "cell_type": "code",
   "execution_count": 22,
   "metadata": {
    "collapsed": false
   },
   "outputs": [
    {
     "name": "stdout",
     "output_type": "stream",
     "text": [
      "Before insert, state of pks:  {'pk2': (116, 25), 'pk1': (228, 50)}\n",
      "After insert, state of pks:  {'pk3': (340, 75), 'pk2': (116, 25), 'pk1': (228, 50)}\n",
      "Before insert, state of pks:  {'pk3': (340, 75), 'pk2': (116, 25), 'pk1': (228, 50)}\n",
      "After insert, state of pks:  {'pk3': (340, 75), 'pk2': (116, 25), 'pk4': (452, 100), 'pk1': (228, 50)}\n",
      "Before insert, state of pks:  {'pk3': (340, 75), 'pk2': (116, 25), 'pk4': (452, 100), 'pk1': (228, 50)}\n",
      "After insert, state of pks:  {'pk3': (340, 75), 'pk2': (116, 25), 'pk4': (452, 100), 'pk5': (564, 125), 'pk1': (228, 50)}\n",
      "Before insert, state of pks:  {'pk3': (340, 75), 'pk2': (116, 25), 'pk4': (452, 100), 'pk5': (564, 125), 'pk1': (228, 50)}\n",
      "After insert, state of pks:  {'pk3': (340, 75), 'pk6': (676, 150), 'pk1': (228, 50), 'pk2': (116, 25), 'pk4': (452, 100), 'pk5': (564, 125)}\n",
      "Before insert, state of pks:  {'pk3': (340, 75), 'pk6': (676, 150), 'pk1': (228, 50), 'pk2': (116, 25), 'pk4': (452, 100), 'pk5': (564, 125)}\n",
      "After insert, state of pks:  {'pk3': (340, 75), 'pk6': (676, 150), 'pk1': (228, 50), 'pk2': (116, 25), 'pk4': (452, 100), 'pk5': (564, 125), 'pk7': (788, 175)}\n"
     ]
    }
   ],
   "source": [
    "ddb.insert_ts('pk3', a1)\n",
    "ddb.insert_ts('pk4', a1)\n",
    "ddb.insert_ts('pk5', a1)\n",
    "ddb.insert_ts('pk6', a1)\n",
    "ddb.insert_ts('pk7', a1)"
   ]
  },
  {
   "cell_type": "code",
   "execution_count": 23,
   "metadata": {
    "collapsed": false
   },
   "outputs": [
    {
     "name": "stdout",
     "output_type": "stream",
     "text": [
      "std\n",
      "0.0 {'pk3', 'pk6', 'pk2', 'pk1', 'pk7', 'pk4', 'pk5'}\n",
      "-----\n",
      "deleted\n",
      "False {'pk3', 'pk6', 'pk2', 'pk1', 'pk7', 'pk4', 'pk5'}\n",
      "True set()\n",
      "-----\n",
      "mean\n",
      "0.0 {'pk3', 'pk6', 'pk2', 'pk1', 'pk7', 'pk4', 'pk5'}\n",
      "-----\n",
      "useless\n",
      "0 {'pk3', 'pk6', 'pk2', 'pk1', 'pk7', 'pk4', 'pk5'}\n",
      "-----\n",
      "vp\n",
      "False {'pk3', 'pk6', 'pk2', 'pk1', 'pk7', 'pk4', 'pk5'}\n",
      "True set()\n",
      "-----\n",
      "order\n",
      "0 {'pk3', 'pk6', 'pk1', 'pk7', 'pk4', 'pk5'}\n",
      "1 set()\n",
      "2 {'pk2'}\n",
      "-----\n",
      "blarg\n",
      "0 {'pk3', 'pk6', 'pk1', 'pk7', 'pk4', 'pk5'}\n",
      "2 {'pk2'}\n",
      "-----\n"
     ]
    }
   ],
   "source": [
    "# print metadata\n",
    "for field, index in ddb.indexes.items():\n",
    "    print(field)\n",
    "    for k in index.keys():\n",
    "        print(k, index[k])\n",
    "    print('-----')"
   ]
  },
  {
   "cell_type": "code",
   "execution_count": 24,
   "metadata": {
    "collapsed": false
   },
   "outputs": [
    {
     "name": "stdout",
     "output_type": "stream",
     "text": [
      "False {'pk3', 'pk6', 'pk2', 'pk1', 'pk7', 'pk5'}\n",
      "True {'pk4'}\n"
     ]
    }
   ],
   "source": [
    "ddb.upsert_meta('pk4', {'vp': True})\n",
    "for field, index in ddb.indexes.items():\n",
    "    if field == 'vp':\n",
    "        for k in index.keys():\n",
    "            print(k, index[k])"
   ]
  },
  {
   "cell_type": "code",
   "execution_count": 25,
   "metadata": {
    "collapsed": false
   },
   "outputs": [
    {
     "name": "stdout",
     "output_type": "stream",
     "text": [
      "False {'pk3', 'pk6', 'pk2', 'pk7', 'pk1'}\n",
      "True {'pk4', 'pk5'}\n"
     ]
    }
   ],
   "source": [
    "ddb.upsert_meta('pk5', {'vp': True})\n",
    "for field, index in ddb.indexes.items():\n",
    "    if field == 'vp':\n",
    "        for k in index.keys():\n",
    "            print(k, index[k])"
   ]
  },
  {
   "cell_type": "code",
   "execution_count": 26,
   "metadata": {
    "collapsed": false
   },
   "outputs": [
    {
     "name": "stdout",
     "output_type": "stream",
     "text": [
      "False {'pk3', 'pk6', 'pk2', 'pk1', 'pk7', 'pk5'}\n",
      "True {'pk4'}\n"
     ]
    }
   ],
   "source": [
    "ddb.upsert_meta('pk5', {'vp': False})\n",
    "for field, index in ddb.indexes.items():\n",
    "    if field == 'vp':\n",
    "        for k in index.keys():\n",
    "            print(k, index[k])"
   ]
  },
  {
   "cell_type": "code",
   "execution_count": 27,
   "metadata": {
    "collapsed": false
   },
   "outputs": [
    {
     "name": "stdout",
     "output_type": "stream",
     "text": [
      "False {'pk3', 'pk6', 'pk2', 'pk7', 'pk1'}\n",
      "True {'pk4', 'pk5'}\n"
     ]
    }
   ],
   "source": [
    "ddb.upsert_meta('pk5', {'vp': True})\n",
    "for field, index in ddb.indexes.items():\n",
    "    if field == 'vp':\n",
    "        for k in index.keys():\n",
    "            print(k, index[k])"
   ]
  },
  {
   "cell_type": "code",
   "execution_count": 28,
   "metadata": {
    "collapsed": true
   },
   "outputs": [],
   "source": [
    "ddb.delete_ts('pk5')"
   ]
  },
  {
   "cell_type": "code",
   "execution_count": 29,
   "metadata": {
    "collapsed": false
   },
   "outputs": [
    {
     "name": "stdout",
     "output_type": "stream",
     "text": [
      "False {'pk3', 'pk6', 'pk2', 'pk7', 'pk1'}\n",
      "True {'pk4'}\n"
     ]
    }
   ],
   "source": [
    "for field, index in ddb.indexes.items():\n",
    "    if field == 'vp':\n",
    "        for k in index.keys():\n",
    "            print(k, index[k])"
   ]
  },
  {
   "cell_type": "code",
   "execution_count": 30,
   "metadata": {
    "collapsed": true
   },
   "outputs": [],
   "source": [
    "ddb.delete_ts('pk4')"
   ]
  },
  {
   "cell_type": "code",
   "execution_count": 31,
   "metadata": {
    "collapsed": false
   },
   "outputs": [
    {
     "name": "stdout",
     "output_type": "stream",
     "text": [
      "False {'pk3', 'pk6', 'pk2', 'pk7', 'pk1'}\n",
      "True set()\n"
     ]
    }
   ],
   "source": [
    "for field, index in ddb.indexes.items():\n",
    "    if field == 'vp':\n",
    "        for k in index.keys():\n",
    "            print(k, index[k])"
   ]
  },
  {
   "cell_type": "code",
   "execution_count": 32,
   "metadata": {
    "collapsed": false
   },
   "outputs": [
    {
     "name": "stdout",
     "output_type": "stream",
     "text": [
      "Before insert, state of pks:  {'pk3': (340, 75), 'pk6': (676, 150), 'pk1': (228, 50), 'pk2': (116, 25), 'pk7': (788, 175)}\n",
      "After insert, state of pks:  {'pk3': (340, 75), 'pk6': (676, 150), 'pk1': (228, 50), 'pk2': (116, 25), 'pk4': (900, 200), 'pk7': (788, 175)}\n",
      "Before insert, state of pks:  {'pk3': (340, 75), 'pk6': (676, 150), 'pk1': (228, 50), 'pk2': (116, 25), 'pk4': (900, 200), 'pk7': (788, 175)}\n",
      "After insert, state of pks:  {'pk3': (340, 75), 'pk6': (676, 150), 'pk1': (228, 50), 'pk2': (116, 25), 'pk4': (900, 200), 'pk5': (1012, 225), 'pk7': (788, 175)}\n"
     ]
    }
   ],
   "source": [
    "ddb.insert_ts('pk4', a1)\n",
    "ddb.insert_ts('pk5', a1)\n",
    "ddb.upsert_meta('pk4', {'vp': True})\n",
    "ddb.upsert_meta('pk5', {'vp': True})"
   ]
  },
  {
   "cell_type": "code",
   "execution_count": 33,
   "metadata": {
    "collapsed": false
   },
   "outputs": [
    {
     "data": {
      "text/plain": [
       "(['pk4', 'pk5'], [{'vp': True}, {'vp': True}])"
      ]
     },
     "execution_count": 33,
     "metadata": {},
     "output_type": "execute_result"
    }
   ],
   "source": [
    "ddb.select({'vp': True}, ['vp'], None)"
   ]
  },
  {
   "cell_type": "code",
   "execution_count": 34,
   "metadata": {
    "collapsed": false
   },
   "outputs": [
    {
     "data": {
      "text/plain": [
       "(['pk3', 'pk6', 'pk2', 'pk7', 'pk1'],\n",
       " [{'vp': False}, {'vp': False}, {'vp': False}, {'vp': False}, {'vp': False}])"
      ]
     },
     "execution_count": 34,
     "metadata": {},
     "output_type": "execute_result"
    }
   ],
   "source": [
    "ddb.select({'vp': False}, ['vp'], None)"
   ]
  },
  {
   "cell_type": "code",
   "execution_count": 35,
   "metadata": {
    "collapsed": false
   },
   "outputs": [
    {
     "name": "stdout",
     "output_type": "stream",
     "text": [
      "[{'pk3', 'pk6', 'pk2', 'pk7', 'pk1'}, {'pk4', 'pk5'}]\n",
      "[(False, {'pk3', 'pk6', 'pk2', 'pk7', 'pk1'}), (True, {'pk4', 'pk5'})]\n"
     ]
    }
   ],
   "source": [
    "# bitmap index errors??\n",
    "print(ddb.indexes['vp'].values())\n",
    "print(ddb.indexes['vp'].items())"
   ]
  },
  {
   "cell_type": "code",
   "execution_count": 36,
   "metadata": {
    "collapsed": false
   },
   "outputs": [
    {
     "data": {
      "text/plain": [
       "[{'pk1', 'pk2', 'pk3', 'pk6', 'pk7'}, {'pk4', 'pk5'}]"
      ]
     },
     "execution_count": 36,
     "metadata": {},
     "output_type": "execute_result"
    }
   ],
   "source": [
    "[ddb.indexes['vp'][k] for k in ddb.indexes['vp'].keys()]"
   ]
  },
  {
   "cell_type": "code",
   "execution_count": 37,
   "metadata": {
    "collapsed": false
   },
   "outputs": [
    {
     "name": "stdout",
     "output_type": "stream",
     "text": [
      "{'pk4', 'pk5'}\n",
      "{'pk3', 'pk6', 'pk2', 'pk7', 'pk1'}\n"
     ]
    }
   ],
   "source": [
    "print(ddb.indexes['vp'][True])\n",
    "print(ddb.indexes['vp'][False])"
   ]
  },
  {
   "cell_type": "code",
   "execution_count": 38,
   "metadata": {
    "collapsed": true
   },
   "outputs": [],
   "source": [
    "ddb = None"
   ]
  },
  {
   "cell_type": "code",
   "execution_count": null,
   "metadata": {
    "collapsed": true
   },
   "outputs": [],
   "source": []
  }
 ],
 "metadata": {
  "kernelspec": {
   "display_name": "Python 3",
   "language": "python",
   "name": "python3"
  },
  "language_info": {
   "codemirror_mode": {
    "name": "ipython",
    "version": 3
   },
   "file_extension": ".py",
   "mimetype": "text/x-python",
   "name": "python",
   "nbconvert_exporter": "python",
   "pygments_lexer": "ipython3",
   "version": "3.5.1"
  }
 },
 "nbformat": 4,
 "nbformat_minor": 0
}
