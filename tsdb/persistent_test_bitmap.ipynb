{
 "cells": [
  {
   "cell_type": "code",
   "execution_count": 4,
   "metadata": {
    "collapsed": true
   },
   "outputs": [],
   "source": [
    "# for gioia's python build\n",
    "import sys\n",
    "sys.path.append('/Users/maggiori/anaconda/envs/py35/lib/python3.5/site-packages')"
   ]
  },
  {
   "cell_type": "code",
   "execution_count": 5,
   "metadata": {
    "collapsed": true
   },
   "outputs": [],
   "source": [
    "import numpy as np"
   ]
  },
  {
   "cell_type": "code",
   "execution_count": 6,
   "metadata": {
    "collapsed": true
   },
   "outputs": [],
   "source": [
    "# to import modules locally without having installed the entire package\n",
    "# http://stackoverflow.com/questions/714063/importing-modules-from-parent-folder\n",
    "import os, sys, inspect\n",
    "currentdir = os.path.dirname(os.path.abspath(inspect.getfile(inspect.currentframe())))\n",
    "parentdir = os.path.dirname(currentdir)\n",
    "sys.path.insert(0, parentdir)"
   ]
  },
  {
   "cell_type": "code",
   "execution_count": 7,
   "metadata": {
    "collapsed": false
   },
   "outputs": [
    {
     "name": "stderr",
     "output_type": "stream",
     "text": [
      "Generating LALR tables\n"
     ]
    }
   ],
   "source": [
    "from tsdb import PersistentDB\n",
    "from tsdb import BitMapIndex\n",
    "from timeseries import TimeSeries"
   ]
  },
  {
   "cell_type": "code",
   "execution_count": 8,
   "metadata": {
    "collapsed": false
   },
   "outputs": [],
   "source": [
    "# synthetic data\n",
    "t = np.array([1, 1.5, 2, 2.5, 10, 11, 12])\n",
    "v1 = np.array([10, 12, -11, 1.5, 10, 13, 17])\n",
    "v2 = np.array([8, 12, -11, 1.5, 10, 13, 17])\n",
    "a1 = TimeSeries(t, v1)\n",
    "a2 = TimeSeries(t, v2)"
   ]
  },
  {
   "cell_type": "code",
   "execution_count": 9,
   "metadata": {
    "collapsed": true
   },
   "outputs": [],
   "source": [
    "identity = lambda x: x\n",
    "\n",
    "# index: 1 is binary tree index, 2 is bitmap index\n",
    "schema = {\n",
    "  'pk':         {'type': 'str', 'convert': identity,   'index': None, 'values': None},\n",
    "  'ts':         {'type': 'int', 'convert': identity,   'index': None, 'values': None},\n",
    "  'order':      {'type': 'int', 'convert': int,        'index': 1, 'values': None},\n",
    "  'blarg':      {'type': 'int', 'convert': int,        'index': 1, 'values': None},\n",
    "  'useless':    {'type': 'int', 'convert': identity,   'index': 1, 'values': None},\n",
    "  'mean':       {'type': 'float', 'convert': float,    'index': 1, 'values': None},\n",
    "  'std':        {'type': 'float', 'convert': float,    'index': 1, 'values': None},\n",
    "  'vp':         {'type': 'bool', 'convert': bool,      'index': 2, 'values': [True, False]},\n",
    "  'deleted':    {'type': 'bool', 'convert': bool,      'index': 2, 'values': [True, False]}\n",
    "}"
   ]
  },
  {
   "cell_type": "code",
   "execution_count": 10,
   "metadata": {
    "collapsed": false
   },
   "outputs": [],
   "source": [
    "# # Delete any default db present (otherwise the db creation will load\n",
    "# # the previous one...)\n",
    "# filelist = [\"db_files/\" + f for f in os.listdir(\"db_files/\")\n",
    "#             if f[:7] == 'default']\n",
    "# for f in filelist:\n",
    "#     os.remove(f)"
   ]
  },
  {
   "cell_type": "code",
   "execution_count": 11,
   "metadata": {
    "collapsed": false
   },
   "outputs": [
    {
     "name": "stdout",
     "output_type": "stream",
     "text": [
      "After init pks:  {'pk4': (788, 175), 'pk6': (564, 125), 'pk2': (116, 25), 'pk5': (900, 200), 'pk3': (1012, 225), 'pk7': (676, 150), 'pk1': (228, 50)}\n"
     ]
    }
   ],
   "source": [
    "# create persistent db\n",
    "ddb = PersistentDB(schema, 'pk', len(t))"
   ]
  },
  {
   "cell_type": "code",
   "execution_count": 12,
   "metadata": {
    "collapsed": false
   },
   "outputs": [
    {
     "ename": "TypeError",
     "evalue": "'list' object is not callable",
     "output_type": "error",
     "traceback": [
      "\u001b[0;31m---------------------------------------------------------------------------\u001b[0m",
      "\u001b[0;31mTypeError\u001b[0m                                 Traceback (most recent call last)",
      "\u001b[0;32m<ipython-input-12-9832fdfc81ab>\u001b[0m in \u001b[0;36m<module>\u001b[0;34m()\u001b[0m\n\u001b[0;32m----> 1\u001b[0;31m \u001b[0mddb\u001b[0m\u001b[0;34m.\u001b[0m\u001b[0mindexes\u001b[0m\u001b[0;34m[\u001b[0m\u001b[0;34m'vp'\u001b[0m\u001b[0;34m]\u001b[0m\u001b[0;34m.\u001b[0m\u001b[0mvalues\u001b[0m\u001b[0;34m(\u001b[0m\u001b[0;34m)\u001b[0m\u001b[0;34m\u001b[0m\u001b[0m\n\u001b[0m",
      "\u001b[0;31mTypeError\u001b[0m: 'list' object is not callable"
     ]
    }
   ],
   "source": [
    "ddb.indexes['vp'].values()"
   ]
  },
  {
   "cell_type": "code",
   "execution_count": null,
   "metadata": {
    "collapsed": true
   },
   "outputs": [],
   "source": []
  },
  {
   "cell_type": "code",
   "execution_count": null,
   "metadata": {
    "collapsed": true
   },
   "outputs": [],
   "source": []
  },
  {
   "cell_type": "code",
   "execution_count": 9,
   "metadata": {
    "collapsed": false
   },
   "outputs": [
    {
     "name": "stdout",
     "output_type": "stream",
     "text": [
      "Before insert, state of pks:  {}\n",
      "After insert, state of pks:  {'pk1': (4, 0)}\n"
     ]
    }
   ],
   "source": [
    "ddb.insert_ts('pk1', a1)"
   ]
  },
  {
   "cell_type": "code",
   "execution_count": 10,
   "metadata": {
    "collapsed": false
   },
   "outputs": [],
   "source": [
    "ddb.upsert_meta('pk1', {'order': 1, 'blarg': 2})"
   ]
  },
  {
   "cell_type": "code",
   "execution_count": 11,
   "metadata": {
    "collapsed": false
   },
   "outputs": [
    {
     "name": "stdout",
     "output_type": "stream",
     "text": [
      "Before insert, state of pks:  {'pk1': (4, 0)}\n",
      "After insert, state of pks:  {'pk1': (4, 0), 'pk2': (116, 25)}\n"
     ]
    }
   ],
   "source": [
    "ddb.insert_ts('pk2', a2)"
   ]
  },
  {
   "cell_type": "code",
   "execution_count": 12,
   "metadata": {
    "collapsed": false
   },
   "outputs": [],
   "source": [
    "ddb.upsert_meta('pk2', {'order': 2, 'blarg': 2})"
   ]
  },
  {
   "cell_type": "code",
   "execution_count": 13,
   "metadata": {
    "collapsed": false
   },
   "outputs": [
    {
     "data": {
      "text/plain": [
       "{'blarg': <tsdb.indexes.BinTreeIndex at 0x105d7c2b0>,\n",
       " 'deleted': <tsdb.indexes.BitMapIndex at 0x105d7cb38>,\n",
       " 'mean': <tsdb.indexes.BinTreeIndex at 0x105d7c940>,\n",
       " 'order': <tsdb.indexes.BinTreeIndex at 0x105d7c470>,\n",
       " 'std': <tsdb.indexes.BinTreeIndex at 0x105d7c0b8>,\n",
       " 'useless': <tsdb.indexes.BinTreeIndex at 0x105d7ccc0>,\n",
       " 'vp': <tsdb.indexes.BitMapIndex at 0x105d7cd30>}"
      ]
     },
     "execution_count": 13,
     "metadata": {},
     "output_type": "execute_result"
    }
   ],
   "source": [
    "ddb.indexes"
   ]
  },
  {
   "cell_type": "code",
   "execution_count": 17,
   "metadata": {
    "collapsed": false
   },
   "outputs": [
    {
     "name": "stdout",
     "output_type": "stream",
     "text": [
      "vp\n",
      "False {'pk1', 'pk2'}\n",
      "True set()\n",
      "-----\n",
      "deleted\n",
      "False {'pk1', 'pk2'}\n",
      "True set()\n",
      "-----\n"
     ]
    }
   ],
   "source": [
    "# print metadata\n",
    "for field, index in ddb.indexes.items():\n",
    "    if isinstance(index, BitMapIndex):\n",
    "        print(field)\n",
    "        for k in index.keys():\n",
    "            print(k, index[k])\n",
    "        print('-----')"
   ]
  },
  {
   "cell_type": "code",
   "execution_count": 18,
   "metadata": {
    "collapsed": false
   },
   "outputs": [
    {
     "data": {
      "text/plain": [
       "dict_keys(['pk1', 'pk2'])"
      ]
     },
     "execution_count": 18,
     "metadata": {},
     "output_type": "execute_result"
    }
   ],
   "source": [
    "ddb.pks.keys()"
   ]
  },
  {
   "cell_type": "code",
   "execution_count": 19,
   "metadata": {
    "collapsed": false
   },
   "outputs": [
    {
     "data": {
      "text/plain": [
       "dict_keys(['pk1', 'pk2'])"
      ]
     },
     "execution_count": 19,
     "metadata": {},
     "output_type": "execute_result"
    }
   ],
   "source": [
    "ddb.pks.keys()"
   ]
  },
  {
   "cell_type": "code",
   "execution_count": 21,
   "metadata": {
    "collapsed": false
   },
   "outputs": [
    {
     "name": "stdout",
     "output_type": "stream",
     "text": [
      "vp\n",
      "False {'pk1', 'pk2'}\n",
      "True set()\n",
      "-----\n",
      "deleted\n",
      "False {'pk1', 'pk2'}\n",
      "True set()\n",
      "-----\n"
     ]
    }
   ],
   "source": [
    "# print metadata\n",
    "for field, index in ddb.indexes.items():\n",
    "    if isinstance(index, BitMapIndex):\n",
    "        print(field)\n",
    "        for k in index.keys():\n",
    "            print(k, index[k])\n",
    "        print('-----')"
   ]
  },
  {
   "cell_type": "code",
   "execution_count": 22,
   "metadata": {
    "collapsed": false
   },
   "outputs": [
    {
     "data": {
      "text/plain": [
       "(['pk1'],\n",
       " [{'blarg': 2,\n",
       "   'mean': 0.0,\n",
       "   'order': 1,\n",
       "   'pk': 'pk1',\n",
       "   'std': 0.0,\n",
       "   'useless': 0,\n",
       "   'vp': False}])"
      ]
     },
     "execution_count": 22,
     "metadata": {},
     "output_type": "execute_result"
    }
   ],
   "source": [
    "ddb.select({'pk': 'pk1'}, [], None)"
   ]
  },
  {
   "cell_type": "code",
   "execution_count": 23,
   "metadata": {
    "collapsed": false
   },
   "outputs": [
    {
     "data": {
      "text/plain": [
       "(['pk2'],\n",
       " [{'blarg': 2,\n",
       "   'mean': 0.0,\n",
       "   'order': 2,\n",
       "   'pk': 'pk2',\n",
       "   'std': 0.0,\n",
       "   'useless': 0,\n",
       "   'vp': False}])"
      ]
     },
     "execution_count": 23,
     "metadata": {},
     "output_type": "execute_result"
    }
   ],
   "source": [
    "ddb.select({'pk': 'pk2'}, [], None)"
   ]
  },
  {
   "cell_type": "code",
   "execution_count": 24,
   "metadata": {
    "collapsed": true
   },
   "outputs": [],
   "source": [
    "ddb.delete_ts('pk1')"
   ]
  },
  {
   "cell_type": "code",
   "execution_count": 25,
   "metadata": {
    "collapsed": false
   },
   "outputs": [
    {
     "name": "stdout",
     "output_type": "stream",
     "text": [
      "Before insert, state of pks:  {'pk2': (116, 25)}\n",
      "After insert, state of pks:  {'pk1': (228, 50), 'pk2': (116, 25)}\n"
     ]
    }
   ],
   "source": [
    "ddb.insert_ts('pk1', a1)"
   ]
  },
  {
   "cell_type": "code",
   "execution_count": 26,
   "metadata": {
    "collapsed": false
   },
   "outputs": [
    {
     "name": "stdout",
     "output_type": "stream",
     "text": [
      "vp\n",
      "False {'pk1', 'pk2'}\n",
      "True set()\n",
      "-----\n",
      "deleted\n",
      "False {'pk1', 'pk2'}\n",
      "True set()\n",
      "-----\n"
     ]
    }
   ],
   "source": [
    "# print metadata\n",
    "for field, index in ddb.indexes.items():\n",
    "    if isinstance(index, BitMapIndex):\n",
    "        print(field)\n",
    "        for k in index.keys():\n",
    "            print(k, index[k])\n",
    "        print('-----')"
   ]
  },
  {
   "cell_type": "code",
   "execution_count": 44,
   "metadata": {
    "collapsed": false
   },
   "outputs": [
    {
     "name": "stdout",
     "output_type": "stream",
     "text": [
      "Before insert, state of pks:  {'pk6': (564, 125), 'pk4': (788, 175), 'pk5': (900, 200), 'pk7': (676, 150), 'pk1': (228, 50), 'pk2': (116, 25)}\n",
      "After insert, state of pks:  {'pk6': (564, 125), 'pk4': (788, 175), 'pk3': (1012, 225), 'pk5': (900, 200), 'pk7': (676, 150), 'pk1': (228, 50), 'pk2': (116, 25)}\n"
     ]
    }
   ],
   "source": [
    "ddb.insert_ts('pk3', a1)\n",
    "ddb.insert_ts('pk4', a1)\n",
    "ddb.insert_ts('pk5', a1)\n",
    "ddb.insert_ts('pk6', a1)\n",
    "ddb.insert_ts('pk7', a1)"
   ]
  },
  {
   "cell_type": "code",
   "execution_count": 28,
   "metadata": {
    "collapsed": false
   },
   "outputs": [
    {
     "name": "stdout",
     "output_type": "stream",
     "text": [
      "vp\n",
      "False {'pk6', 'pk4', 'pk7', 'pk1', 'pk2', 'pk5'}\n",
      "True set()\n",
      "-----\n",
      "deleted\n",
      "False {'pk6', 'pk4', 'pk7', 'pk1', 'pk2', 'pk5'}\n",
      "True set()\n",
      "-----\n"
     ]
    }
   ],
   "source": [
    "# print metadata\n",
    "for field, index in ddb.indexes.items():\n",
    "    if isinstance(index, BitMapIndex):\n",
    "        print(field)\n",
    "        for k in index.keys():\n",
    "            print(k, index[k])\n",
    "        print('-----')"
   ]
  },
  {
   "cell_type": "code",
   "execution_count": 29,
   "metadata": {
    "collapsed": false
   },
   "outputs": [
    {
     "name": "stdout",
     "output_type": "stream",
     "text": [
      "False {'pk6', 'pk5', 'pk7', 'pk1', 'pk2'}\n",
      "True {'pk4'}\n"
     ]
    }
   ],
   "source": [
    "ddb.upsert_meta('pk4', {'vp': True})\n",
    "for field, index in ddb.indexes.items():\n",
    "    if field == 'vp':\n",
    "        for k in index.keys():\n",
    "            print(k, index[k])"
   ]
  },
  {
   "cell_type": "code",
   "execution_count": 30,
   "metadata": {
    "collapsed": false
   },
   "outputs": [
    {
     "name": "stdout",
     "output_type": "stream",
     "text": [
      "False {'pk6', 'pk7', 'pk1', 'pk2'}\n",
      "True {'pk5', 'pk4'}\n"
     ]
    }
   ],
   "source": [
    "ddb.upsert_meta('pk5', {'vp': True})\n",
    "for field, index in ddb.indexes.items():\n",
    "    if field == 'vp':\n",
    "        for k in index.keys():\n",
    "            print(k, index[k])"
   ]
  },
  {
   "cell_type": "code",
   "execution_count": 31,
   "metadata": {
    "collapsed": false
   },
   "outputs": [
    {
     "name": "stdout",
     "output_type": "stream",
     "text": [
      "False {'pk6', 'pk5', 'pk7', 'pk1', 'pk2'}\n",
      "True {'pk4'}\n"
     ]
    }
   ],
   "source": [
    "ddb.upsert_meta('pk5', {'vp': False})\n",
    "for field, index in ddb.indexes.items():\n",
    "    if field == 'vp':\n",
    "        for k in index.keys():\n",
    "            print(k, index[k])"
   ]
  },
  {
   "cell_type": "code",
   "execution_count": 32,
   "metadata": {
    "collapsed": false
   },
   "outputs": [
    {
     "name": "stdout",
     "output_type": "stream",
     "text": [
      "False {'pk6', 'pk7', 'pk1', 'pk2'}\n",
      "True {'pk5', 'pk4'}\n"
     ]
    }
   ],
   "source": [
    "ddb.upsert_meta('pk5', {'vp': True})\n",
    "for field, index in ddb.indexes.items():\n",
    "    if field == 'vp':\n",
    "        for k in index.keys():\n",
    "            print(k, index[k])"
   ]
  },
  {
   "cell_type": "code",
   "execution_count": 33,
   "metadata": {
    "collapsed": true
   },
   "outputs": [],
   "source": [
    "ddb.delete_ts('pk5')"
   ]
  },
  {
   "cell_type": "code",
   "execution_count": 34,
   "metadata": {
    "collapsed": false
   },
   "outputs": [
    {
     "name": "stdout",
     "output_type": "stream",
     "text": [
      "False {'pk6', 'pk7', 'pk1', 'pk2'}\n",
      "True {'pk4'}\n"
     ]
    }
   ],
   "source": [
    "for field, index in ddb.indexes.items():\n",
    "    if field == 'vp':\n",
    "        for k in index.keys():\n",
    "            print(k, index[k])"
   ]
  },
  {
   "cell_type": "code",
   "execution_count": 35,
   "metadata": {
    "collapsed": true
   },
   "outputs": [],
   "source": [
    "ddb.delete_ts('pk4')"
   ]
  },
  {
   "cell_type": "code",
   "execution_count": 36,
   "metadata": {
    "collapsed": false
   },
   "outputs": [
    {
     "name": "stdout",
     "output_type": "stream",
     "text": [
      "False {'pk6', 'pk7', 'pk1', 'pk2'}\n",
      "True set()\n"
     ]
    }
   ],
   "source": [
    "for field, index in ddb.indexes.items():\n",
    "    if field == 'vp':\n",
    "        for k in index.keys():\n",
    "            print(k, index[k])"
   ]
  },
  {
   "cell_type": "code",
   "execution_count": 37,
   "metadata": {
    "collapsed": false
   },
   "outputs": [
    {
     "name": "stdout",
     "output_type": "stream",
     "text": [
      "Before insert, state of pks:  {'pk6': (564, 125), 'pk7': (676, 150), 'pk1': (228, 50), 'pk2': (116, 25)}\n",
      "After insert, state of pks:  {'pk6': (564, 125), 'pk4': (788, 175), 'pk7': (676, 150), 'pk1': (228, 50), 'pk2': (116, 25)}\n",
      "Before insert, state of pks:  {'pk6': (564, 125), 'pk4': (788, 175), 'pk7': (676, 150), 'pk1': (228, 50), 'pk2': (116, 25)}\n",
      "After insert, state of pks:  {'pk6': (564, 125), 'pk4': (788, 175), 'pk5': (900, 200), 'pk7': (676, 150), 'pk1': (228, 50), 'pk2': (116, 25)}\n"
     ]
    }
   ],
   "source": [
    "ddb.insert_ts('pk4', a1)\n",
    "ddb.insert_ts('pk5', a1)\n",
    "ddb.upsert_meta('pk4', {'vp': True})\n",
    "ddb.upsert_meta('pk5', {'vp': True})"
   ]
  },
  {
   "cell_type": "code",
   "execution_count": 45,
   "metadata": {
    "collapsed": false
   },
   "outputs": [
    {
     "data": {
      "text/plain": [
       "(['pk5', 'pk4'], [{'vp': True}, {'vp': True}])"
      ]
     },
     "execution_count": 45,
     "metadata": {},
     "output_type": "execute_result"
    }
   ],
   "source": [
    "ddb.select({'vp': True}, ['vp'], None)"
   ]
  },
  {
   "cell_type": "code",
   "execution_count": 46,
   "metadata": {
    "collapsed": false
   },
   "outputs": [
    {
     "data": {
      "text/plain": [
       "(['pk6', 'pk3', 'pk7', 'pk1', 'pk2'],\n",
       " [{'vp': False}, {'vp': False}, {'vp': False}, {'vp': False}, {'vp': False}])"
      ]
     },
     "execution_count": 46,
     "metadata": {},
     "output_type": "execute_result"
    }
   ],
   "source": [
    "ddb.select({'vp': False}, ['vp'], None)"
   ]
  },
  {
   "cell_type": "code",
   "execution_count": 47,
   "metadata": {
    "collapsed": true
   },
   "outputs": [],
   "source": [
    "ddb = None"
   ]
  },
  {
   "cell_type": "code",
   "execution_count": null,
   "metadata": {
    "collapsed": true
   },
   "outputs": [],
   "source": []
  }
 ],
 "metadata": {
  "kernelspec": {
   "display_name": "Python 3",
   "language": "python",
   "name": "python3"
  },
  "language_info": {
   "codemirror_mode": {
    "name": "ipython",
    "version": 3
   },
   "file_extension": ".py",
   "mimetype": "text/x-python",
   "name": "python",
   "nbconvert_exporter": "python",
   "pygments_lexer": "ipython3",
   "version": "3.5.1"
  }
 },
 "nbformat": 4,
 "nbformat_minor": 0
}
